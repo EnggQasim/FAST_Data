{
 "cells": [
  {
   "cell_type": "code",
   "execution_count": 1,
   "metadata": {},
   "outputs": [
    {
     "name": "stderr",
     "output_type": "stream",
     "text": [
      "/home/muhammadqasim/anaconda3/lib/python3.7/importlib/_bootstrap.py:219: RuntimeWarning: numpy.ufunc size changed, may indicate binary incompatibility. Expected 216, got 192\n",
      "  return f(*args, **kwds)\n"
     ]
    }
   ],
   "source": [
    "import numpy as np\n",
    "import pandas as pd\n",
    "import matplotlib.pyplot as plt"
   ]
  },
  {
   "cell_type": "code",
   "execution_count": 2,
   "metadata": {},
   "outputs": [
    {
     "data": {
      "text/html": [
       "<div>\n",
       "<style scoped>\n",
       "    .dataframe tbody tr th:only-of-type {\n",
       "        vertical-align: middle;\n",
       "    }\n",
       "\n",
       "    .dataframe tbody tr th {\n",
       "        vertical-align: top;\n",
       "    }\n",
       "\n",
       "    .dataframe thead th {\n",
       "        text-align: right;\n",
       "    }\n",
       "</style>\n",
       "<table border=\"1\" class=\"dataframe\">\n",
       "  <thead>\n",
       "    <tr style=\"text-align: right;\">\n",
       "      <th></th>\n",
       "      <th>S. #</th>\n",
       "      <th>Age</th>\n",
       "    </tr>\n",
       "  </thead>\n",
       "  <tbody>\n",
       "    <tr>\n",
       "      <th>count</th>\n",
       "      <td>11534.000000</td>\n",
       "      <td>11534.000000</td>\n",
       "    </tr>\n",
       "    <tr>\n",
       "      <th>mean</th>\n",
       "      <td>5767.500000</td>\n",
       "      <td>27.731923</td>\n",
       "    </tr>\n",
       "    <tr>\n",
       "      <th>std</th>\n",
       "      <td>3329.723337</td>\n",
       "      <td>6.549673</td>\n",
       "    </tr>\n",
       "    <tr>\n",
       "      <th>min</th>\n",
       "      <td>1.000000</td>\n",
       "      <td>17.000000</td>\n",
       "    </tr>\n",
       "    <tr>\n",
       "      <th>25%</th>\n",
       "      <td>2884.250000</td>\n",
       "      <td>22.000000</td>\n",
       "    </tr>\n",
       "    <tr>\n",
       "      <th>50%</th>\n",
       "      <td>5767.500000</td>\n",
       "      <td>26.000000</td>\n",
       "    </tr>\n",
       "    <tr>\n",
       "      <th>75%</th>\n",
       "      <td>8650.750000</td>\n",
       "      <td>32.000000</td>\n",
       "    </tr>\n",
       "    <tr>\n",
       "      <th>max</th>\n",
       "      <td>11534.000000</td>\n",
       "      <td>54.000000</td>\n",
       "    </tr>\n",
       "  </tbody>\n",
       "</table>\n",
       "</div>"
      ],
      "text/plain": [
       "               S. #           Age\n",
       "count  11534.000000  11534.000000\n",
       "mean    5767.500000     27.731923\n",
       "std     3329.723337      6.549673\n",
       "min        1.000000     17.000000\n",
       "25%     2884.250000     22.000000\n",
       "50%     5767.500000     26.000000\n",
       "75%     8650.750000     32.000000\n",
       "max    11534.000000     54.000000"
      ]
     },
     "execution_count": 2,
     "metadata": {},
     "output_type": "execute_result"
    }
   ],
   "source": [
    "df = pd.read_csv(\"./Blood Data for MS Course Project-2.csv\")\n",
    "df.describe()"
   ]
  },
  {
   "cell_type": "code",
   "execution_count": 3,
   "metadata": {},
   "outputs": [
    {
     "name": "stdout",
     "output_type": "stream",
     "text": [
      "<class 'pandas.core.frame.DataFrame'>\n",
      "RangeIndex: 11534 entries, 0 to 11533\n",
      "Data columns (total 12 columns):\n",
      "S. #             11534 non-null int64\n",
      "DIN Number       11534 non-null object\n",
      "Type of Donor    11534 non-null object\n",
      "Age              11534 non-null int64\n",
      "Repeat Donor     11534 non-null object\n",
      "HBSAg            11534 non-null object\n",
      "Anti HCV         11534 non-null object\n",
      "HIV Combo        11534 non-null object\n",
      "RPR              11534 non-null object\n",
      "MP               11534 non-null object\n",
      "Unnamed: 10      8 non-null object\n",
      "Unnamed: 11      8 non-null object\n",
      "dtypes: int64(2), object(10)\n",
      "memory usage: 1.1+ MB\n"
     ]
    }
   ],
   "source": [
    "df.info()"
   ]
  },
  {
   "cell_type": "code",
   "execution_count": 4,
   "metadata": {},
   "outputs": [
    {
     "data": {
      "text/html": [
       "<div>\n",
       "<style scoped>\n",
       "    .dataframe tbody tr th:only-of-type {\n",
       "        vertical-align: middle;\n",
       "    }\n",
       "\n",
       "    .dataframe tbody tr th {\n",
       "        vertical-align: top;\n",
       "    }\n",
       "\n",
       "    .dataframe thead th {\n",
       "        text-align: right;\n",
       "    }\n",
       "</style>\n",
       "<table border=\"1\" class=\"dataframe\">\n",
       "  <thead>\n",
       "    <tr style=\"text-align: right;\">\n",
       "      <th></th>\n",
       "      <th>S. #</th>\n",
       "      <th>DIN Number</th>\n",
       "      <th>Type of Donor</th>\n",
       "      <th>Age</th>\n",
       "      <th>Repeat Donor</th>\n",
       "      <th>HBSAg</th>\n",
       "      <th>Anti HCV</th>\n",
       "      <th>HIV Combo</th>\n",
       "      <th>RPR</th>\n",
       "      <th>MP</th>\n",
       "      <th>Unnamed: 10</th>\n",
       "      <th>Unnamed: 11</th>\n",
       "    </tr>\n",
       "  </thead>\n",
       "  <tbody>\n",
       "    <tr>\n",
       "      <th>0</th>\n",
       "      <td>1</td>\n",
       "      <td>'=PK4091901837100</td>\n",
       "      <td>Exchange</td>\n",
       "      <td>27</td>\n",
       "      <td>Yes</td>\n",
       "      <td>Non-Reactive</td>\n",
       "      <td>Non-Reactive</td>\n",
       "      <td>Non-Reactive</td>\n",
       "      <td>Non-Reactive</td>\n",
       "      <td>Negative</td>\n",
       "      <td>NaN</td>\n",
       "      <td>NaN</td>\n",
       "    </tr>\n",
       "  </tbody>\n",
       "</table>\n",
       "</div>"
      ],
      "text/plain": [
       "   S. #         DIN Number Type of Donor  Age Repeat Donor         HBSAg  \\\n",
       "0     1  '=PK4091901837100      Exchange   27          Yes  Non-Reactive   \n",
       "\n",
       "       Anti HCV     HIV Combo           RPR        MP Unnamed: 10 Unnamed: 11  \n",
       "0  Non-Reactive  Non-Reactive  Non-Reactive  Negative         NaN         NaN  "
      ]
     },
     "execution_count": 4,
     "metadata": {},
     "output_type": "execute_result"
    }
   ],
   "source": [
    "df.head(1)"
   ]
  },
  {
   "cell_type": "code",
   "execution_count": 23,
   "metadata": {},
   "outputs": [
    {
     "name": "stdout",
     "output_type": "stream",
     "text": [
      "============Start Type of Donor ==========\n",
      "Exchange              11469\n",
      "Voluntary                61\n",
      "Facebook Volunteer        3\n",
      "Registry Volunteer        1\n",
      "Name: Type of Donor, dtype: int64\n",
      "============Start Age ==========\n",
      "22    914\n",
      "25    887\n",
      "30    787\n",
      "24    733\n",
      "23    713\n",
      "20    703\n",
      "28    675\n",
      "21    588\n",
      "26    581\n",
      "19    526\n",
      "32    504\n",
      "27    497\n",
      "35    492\n",
      "29    376\n",
      "31    304\n",
      "33    304\n",
      "34    281\n",
      "38    242\n",
      "36    229\n",
      "40    219\n",
      "37    173\n",
      "18    168\n",
      "39    161\n",
      "42     90\n",
      "45     71\n",
      "41     68\n",
      "44     60\n",
      "43     56\n",
      "47     33\n",
      "46     30\n",
      "48     26\n",
      "49     16\n",
      "50     10\n",
      "17      5\n",
      "51      5\n",
      "52      3\n",
      "53      3\n",
      "54      1\n",
      "Name: Age, dtype: int64\n",
      "============Start Repeat Donor ==========\n",
      "No      8255\n",
      "Yes     3243\n",
      "None      36\n",
      "Name: Repeat Donor, dtype: int64\n",
      "============Start HBSAg ==========\n",
      "Non-Reactive    8630\n",
      "---             2693\n",
      "Reactive         209\n",
      "Borderline         2\n",
      "Name: HBSAg, dtype: int64\n",
      "============Start Anti HCV ==========\n",
      "Non-Reactive    8425\n",
      "---             2592\n",
      "Reactive         484\n",
      "Borderline        33\n",
      "Name: Anti HCV, dtype: int64\n",
      "============Start HIV Combo ==========\n",
      "Non-Reactive    8072\n",
      "---             3432\n",
      "Reactive          29\n",
      "Borderline         1\n",
      "Name: HIV Combo, dtype: int64\n",
      "============Start RPR ==========\n",
      "Non-Reactive    7676\n",
      "---             3579\n",
      "Reactive         270\n",
      "Borderline         9\n",
      "Name: RPR, dtype: int64\n",
      "============Start MP ==========\n",
      "Negative       9981\n",
      "---            1539\n",
      "Pm                8\n",
      "PF Positive       6\n",
      "Name: MP, dtype: int64\n",
      "============Start Unnamed: 10 ==========\n",
      "NaN    11526\n",
      "Pv         8\n",
      "Name: Unnamed: 10, dtype: int64\n",
      "============Start Unnamed: 11 ==========\n",
      "NaN            11526\n",
      "Po Positive        8\n",
      "Name: Unnamed: 11, dtype: int64\n"
     ]
    }
   ],
   "source": [
    "for c in df.columns[2::]:\n",
    "    print(\"============Start\",c,\"==========\")\n",
    "    print(df[c].value_counts(dropna=False))"
   ]
  },
  {
   "cell_type": "code",
   "execution_count": 22,
   "metadata": {},
   "outputs": [
    {
     "name": "stdout",
     "output_type": "stream",
     "text": [
      "============Start Type of Donor ==========\n"
     ]
    },
    {
     "data": {
      "image/png": "[encoded data removed]",
      "text/plain": [
       "<Figure size 432x288 with 1 Axes>"
      ]
     },
     "metadata": {
      "needs_background": "light"
     },
     "output_type": "display_data"
    },
    {
     "name": "stdout",
     "output_type": "stream",
     "text": [
      "============Start Age ==========\n"
     ]
    },
    {
     "data": {
      "image/png": "[encoded data removed]",
      "text/plain": [
       "<Figure size 432x288 with 1 Axes>"
      ]
     },
     "metadata": {
      "needs_background": "light"
     },
     "output_type": "display_data"
    },
    {
     "name": "stdout",
     "output_type": "stream",
     "text": [
      "============Start Repeat Donor ==========\n"
     ]
    },
    {
     "data": {
      "image/png": "[encoded data removed]",
      "text/plain": [
       "<Figure size 432x288 with 1 Axes>"
      ]
     },
     "metadata": {
      "needs_background": "light"
     },
     "output_type": "display_data"
    },
    {
     "name": "stdout",
     "output_type": "stream",
     "text": [
      "============Start HBSAg ==========\n"
     ]
    },
    {
     "data": {
      "image/png": "[encoded data removed]",
      "text/plain": [
       "<Figure size 432x288 with 1 Axes>"
      ]
     },
     "metadata": {
      "needs_background": "light"
     },
     "output_type": "display_data"
    },
    {
     "name": "stdout",
     "output_type": "stream",
     "text": [
      "============Start Anti HCV ==========\n"
     ]
    },
    {
     "data": {
      "image/png": "[encoded data removed]",
      "text/plain": [
       "<Figure size 432x288 with 1 Axes>"
      ]
     },
     "metadata": {
      "needs_background": "light"
     },
     "output_type": "display_data"
    },
    {
     "name": "stdout",
     "output_type": "stream",
     "text": [
      "============Start HIV Combo ==========\n"
     ]
    },
    {
     "data": {
      "image/png": "[encoded data removed]",
      "text/plain": [
       "<Figure size 432x288 with 1 Axes>"
      ]
     },
     "metadata": {
      "needs_background": "light"
     },
     "output_type": "display_data"
    },
    {
     "name": "stdout",
     "output_type": "stream",
     "text": [
      "============Start RPR ==========\n"
     ]
    },
    {
     "data": {
      "image/png": "[encoded data removed]",
      "text/plain": [
       "<Figure size 432x288 with 1 Axes>"
      ]
     },
     "metadata": {
      "needs_background": "light"
     },
     "output_type": "display_data"
    },
    {
     "name": "stdout",
     "output_type": "stream",
     "text": [
      "============Start MP ==========\n"
     ]
    },
    {
     "data": {
      "image/png": "[encoded data removed]",
      "text/plain": [
       "<Figure size 432x288 with 1 Axes>"
      ]
     },
     "metadata": {
      "needs_background": "light"
     },
     "output_type": "display_data"
    },
    {
     "name": "stdout",
     "output_type": "stream",
     "text": [
      "============Start Unnamed: 10 ==========\n"
     ]
    },
    {
     "data": {
      "image/png": "[encoded data removed]",
      "text/plain": [
       "<Figure size 432x288 with 1 Axes>"
      ]
     },
     "metadata": {
      "needs_background": "light"
     },
     "output_type": "display_data"
    },
    {
     "name": "stdout",
     "output_type": "stream",
     "text": [
      "============Start Unnamed: 11 ==========\n"
     ]
    },
    {
     "data": {
      "image/png": "[encoded data removed]",
      "text/plain": [
       "<Figure size 432x288 with 1 Axes>"
      ]
     },
     "metadata": {
      "needs_background": "light"
     },
     "output_type": "display_data"
    }
   ],
   "source": [
    "for c in df.columns[2::]:\n",
    "    print(\"============Start\",c,\"==========\")\n",
    "    df[c].value_counts(dropna=False).plot('bar')\n",
    "    plt.show()"
   ]
  },
  {
   "cell_type": "markdown",
   "metadata": {},
   "source": [
    "# Age vs Type of Donor (Exchange, Voluntary, Facebook Voluntary, Registry Voluntary)"
   ]
  },
  {
   "cell_type": "code",
   "execution_count": null,
   "metadata": {},
   "outputs": [],
   "source": [
    "Type of Donor"
   ]
  },
  {
   "cell_type": "code",
   "execution_count": 25,
   "metadata": {},
   "outputs": [
    {
     "data": {
      "text/html": [
       "<div>\n",
       "<style scoped>\n",
       "    .dataframe tbody tr th:only-of-type {\n",
       "        vertical-align: middle;\n",
       "    }\n",
       "\n",
       "    .dataframe tbody tr th {\n",
       "        vertical-align: top;\n",
       "    }\n",
       "\n",
       "    .dataframe thead th {\n",
       "        text-align: right;\n",
       "    }\n",
       "</style>\n",
       "<table border=\"1\" class=\"dataframe\">\n",
       "  <thead>\n",
       "    <tr style=\"text-align: right;\">\n",
       "      <th></th>\n",
       "      <th>S. #</th>\n",
       "      <th>DIN Number</th>\n",
       "      <th>Type of Donor</th>\n",
       "      <th>Age</th>\n",
       "      <th>Repeat Donor</th>\n",
       "      <th>HBSAg</th>\n",
       "      <th>Anti HCV</th>\n",
       "      <th>HIV Combo</th>\n",
       "      <th>RPR</th>\n",
       "      <th>MP</th>\n",
       "      <th>Unnamed: 10</th>\n",
       "      <th>Unnamed: 11</th>\n",
       "    </tr>\n",
       "  </thead>\n",
       "  <tbody>\n",
       "    <tr>\n",
       "      <th>0</th>\n",
       "      <td>1</td>\n",
       "      <td>'=PK4091901837100</td>\n",
       "      <td>Exchange</td>\n",
       "      <td>27</td>\n",
       "      <td>Yes</td>\n",
       "      <td>Non-Reactive</td>\n",
       "      <td>Non-Reactive</td>\n",
       "      <td>Non-Reactive</td>\n",
       "      <td>Non-Reactive</td>\n",
       "      <td>Negative</td>\n",
       "      <td>NaN</td>\n",
       "      <td>NaN</td>\n",
       "    </tr>\n",
       "  </tbody>\n",
       "</table>\n",
       "</div>"
      ],
      "text/plain": [
       "   S. #         DIN Number Type of Donor  Age Repeat Donor         HBSAg  \\\n",
       "0     1  '=PK4091901837100      Exchange   27          Yes  Non-Reactive   \n",
       "\n",
       "       Anti HCV     HIV Combo           RPR        MP Unnamed: 10 Unnamed: 11  \n",
       "0  Non-Reactive  Non-Reactive  Non-Reactive  Negative         NaN         NaN  "
      ]
     },
     "execution_count": 25,
     "metadata": {},
     "output_type": "execute_result"
    }
   ],
   "source": [
    "df.head(1)"
   ]
  },
  {
   "cell_type": "code",
   "execution_count": 32,
   "metadata": {},
   "outputs": [
    {
     "data": {
      "text/html": [
       "<div>\n",
       "<style scoped>\n",
       "    .dataframe tbody tr th:only-of-type {\n",
       "        vertical-align: middle;\n",
       "    }\n",
       "\n",
       "    .dataframe tbody tr th {\n",
       "        vertical-align: top;\n",
       "    }\n",
       "\n",
       "    .dataframe thead th {\n",
       "        text-align: right;\n",
       "    }\n",
       "</style>\n",
       "<table border=\"1\" class=\"dataframe\">\n",
       "  <thead>\n",
       "    <tr style=\"text-align: right;\">\n",
       "      <th></th>\n",
       "      <th></th>\n",
       "      <th>Anti HCV</th>\n",
       "    </tr>\n",
       "    <tr>\n",
       "      <th>Type of Donor</th>\n",
       "      <th>Age</th>\n",
       "      <th></th>\n",
       "    </tr>\n",
       "  </thead>\n",
       "  <tbody>\n",
       "    <tr>\n",
       "      <th rowspan=\"33\" valign=\"top\">Exchange</th>\n",
       "      <th>17</th>\n",
       "      <td>4</td>\n",
       "    </tr>\n",
       "    <tr>\n",
       "      <th>18</th>\n",
       "      <td>166</td>\n",
       "    </tr>\n",
       "    <tr>\n",
       "      <th>19</th>\n",
       "      <td>521</td>\n",
       "    </tr>\n",
       "    <tr>\n",
       "      <th>20</th>\n",
       "      <td>702</td>\n",
       "    </tr>\n",
       "    <tr>\n",
       "      <th>21</th>\n",
       "      <td>584</td>\n",
       "    </tr>\n",
       "    <tr>\n",
       "      <th>22</th>\n",
       "      <td>909</td>\n",
       "    </tr>\n",
       "    <tr>\n",
       "      <th>23</th>\n",
       "      <td>709</td>\n",
       "    </tr>\n",
       "    <tr>\n",
       "      <th>24</th>\n",
       "      <td>730</td>\n",
       "    </tr>\n",
       "    <tr>\n",
       "      <th>25</th>\n",
       "      <td>879</td>\n",
       "    </tr>\n",
       "    <tr>\n",
       "      <th>26</th>\n",
       "      <td>578</td>\n",
       "    </tr>\n",
       "    <tr>\n",
       "      <th>27</th>\n",
       "      <td>493</td>\n",
       "    </tr>\n",
       "    <tr>\n",
       "      <th>28</th>\n",
       "      <td>672</td>\n",
       "    </tr>\n",
       "    <tr>\n",
       "      <th>29</th>\n",
       "      <td>373</td>\n",
       "    </tr>\n",
       "    <tr>\n",
       "      <th>30</th>\n",
       "      <td>784</td>\n",
       "    </tr>\n",
       "    <tr>\n",
       "      <th>31</th>\n",
       "      <td>301</td>\n",
       "    </tr>\n",
       "    <tr>\n",
       "      <th>32</th>\n",
       "      <td>503</td>\n",
       "    </tr>\n",
       "    <tr>\n",
       "      <th>33</th>\n",
       "      <td>301</td>\n",
       "    </tr>\n",
       "    <tr>\n",
       "      <th>34</th>\n",
       "      <td>280</td>\n",
       "    </tr>\n",
       "    <tr>\n",
       "      <th>35</th>\n",
       "      <td>491</td>\n",
       "    </tr>\n",
       "    <tr>\n",
       "      <th>36</th>\n",
       "      <td>227</td>\n",
       "    </tr>\n",
       "    <tr>\n",
       "      <th>37</th>\n",
       "      <td>173</td>\n",
       "    </tr>\n",
       "    <tr>\n",
       "      <th>38</th>\n",
       "      <td>240</td>\n",
       "    </tr>\n",
       "    <tr>\n",
       "      <th>39</th>\n",
       "      <td>161</td>\n",
       "    </tr>\n",
       "    <tr>\n",
       "      <th>40</th>\n",
       "      <td>218</td>\n",
       "    </tr>\n",
       "    <tr>\n",
       "      <th>41</th>\n",
       "      <td>68</td>\n",
       "    </tr>\n",
       "    <tr>\n",
       "      <th>42</th>\n",
       "      <td>90</td>\n",
       "    </tr>\n",
       "    <tr>\n",
       "      <th>43</th>\n",
       "      <td>56</td>\n",
       "    </tr>\n",
       "    <tr>\n",
       "      <th>44</th>\n",
       "      <td>60</td>\n",
       "    </tr>\n",
       "    <tr>\n",
       "      <th>45</th>\n",
       "      <td>70</td>\n",
       "    </tr>\n",
       "    <tr>\n",
       "      <th>46</th>\n",
       "      <td>30</td>\n",
       "    </tr>\n",
       "    <tr>\n",
       "      <th>...</th>\n",
       "      <td>...</td>\n",
       "    </tr>\n",
       "    <tr>\n",
       "      <th>53</th>\n",
       "      <td>3</td>\n",
       "    </tr>\n",
       "    <tr>\n",
       "      <th>54</th>\n",
       "      <td>1</td>\n",
       "    </tr>\n",
       "    <tr>\n",
       "      <th rowspan=\"3\" valign=\"top\">Facebook Volunteer</th>\n",
       "      <th>19</th>\n",
       "      <td>1</td>\n",
       "    </tr>\n",
       "    <tr>\n",
       "      <th>28</th>\n",
       "      <td>1</td>\n",
       "    </tr>\n",
       "    <tr>\n",
       "      <th>30</th>\n",
       "      <td>1</td>\n",
       "    </tr>\n",
       "    <tr>\n",
       "      <th>Registry Volunteer</th>\n",
       "      <th>23</th>\n",
       "      <td>1</td>\n",
       "    </tr>\n",
       "    <tr>\n",
       "      <th rowspan=\"24\" valign=\"top\">Voluntary</th>\n",
       "      <th>17</th>\n",
       "      <td>1</td>\n",
       "    </tr>\n",
       "    <tr>\n",
       "      <th>18</th>\n",
       "      <td>2</td>\n",
       "    </tr>\n",
       "    <tr>\n",
       "      <th>19</th>\n",
       "      <td>4</td>\n",
       "    </tr>\n",
       "    <tr>\n",
       "      <th>20</th>\n",
       "      <td>1</td>\n",
       "    </tr>\n",
       "    <tr>\n",
       "      <th>21</th>\n",
       "      <td>4</td>\n",
       "    </tr>\n",
       "    <tr>\n",
       "      <th>22</th>\n",
       "      <td>5</td>\n",
       "    </tr>\n",
       "    <tr>\n",
       "      <th>23</th>\n",
       "      <td>3</td>\n",
       "    </tr>\n",
       "    <tr>\n",
       "      <th>24</th>\n",
       "      <td>3</td>\n",
       "    </tr>\n",
       "    <tr>\n",
       "      <th>25</th>\n",
       "      <td>8</td>\n",
       "    </tr>\n",
       "    <tr>\n",
       "      <th>26</th>\n",
       "      <td>3</td>\n",
       "    </tr>\n",
       "    <tr>\n",
       "      <th>27</th>\n",
       "      <td>4</td>\n",
       "    </tr>\n",
       "    <tr>\n",
       "      <th>28</th>\n",
       "      <td>2</td>\n",
       "    </tr>\n",
       "    <tr>\n",
       "      <th>29</th>\n",
       "      <td>3</td>\n",
       "    </tr>\n",
       "    <tr>\n",
       "      <th>30</th>\n",
       "      <td>2</td>\n",
       "    </tr>\n",
       "    <tr>\n",
       "      <th>31</th>\n",
       "      <td>3</td>\n",
       "    </tr>\n",
       "    <tr>\n",
       "      <th>32</th>\n",
       "      <td>1</td>\n",
       "    </tr>\n",
       "    <tr>\n",
       "      <th>33</th>\n",
       "      <td>3</td>\n",
       "    </tr>\n",
       "    <tr>\n",
       "      <th>34</th>\n",
       "      <td>1</td>\n",
       "    </tr>\n",
       "    <tr>\n",
       "      <th>35</th>\n",
       "      <td>1</td>\n",
       "    </tr>\n",
       "    <tr>\n",
       "      <th>36</th>\n",
       "      <td>2</td>\n",
       "    </tr>\n",
       "    <tr>\n",
       "      <th>38</th>\n",
       "      <td>2</td>\n",
       "    </tr>\n",
       "    <tr>\n",
       "      <th>40</th>\n",
       "      <td>1</td>\n",
       "    </tr>\n",
       "    <tr>\n",
       "      <th>45</th>\n",
       "      <td>1</td>\n",
       "    </tr>\n",
       "    <tr>\n",
       "      <th>47</th>\n",
       "      <td>1</td>\n",
       "    </tr>\n",
       "  </tbody>\n",
       "</table>\n",
       "<p>66 rows × 1 columns</p>\n",
       "</div>"
      ],
      "text/plain": [
       "                        Anti HCV\n",
       "Type of Donor      Age          \n",
       "Exchange           17          4\n",
       "                   18        166\n",
       "                   19        521\n",
       "                   20        702\n",
       "                   21        584\n",
       "                   22        909\n",
       "                   23        709\n",
       "                   24        730\n",
       "                   25        879\n",
       "                   26        578\n",
       "                   27        493\n",
       "                   28        672\n",
       "                   29        373\n",
       "                   30        784\n",
       "                   31        301\n",
       "                   32        503\n",
       "                   33        301\n",
       "                   34        280\n",
       "                   35        491\n",
       "                   36        227\n",
       "                   37        173\n",
       "                   38        240\n",
       "                   39        161\n",
       "                   40        218\n",
       "                   41         68\n",
       "                   42         90\n",
       "                   43         56\n",
       "                   44         60\n",
       "                   45         70\n",
       "                   46         30\n",
       "...                          ...\n",
       "                   53          3\n",
       "                   54          1\n",
       "Facebook Volunteer 19          1\n",
       "                   28          1\n",
       "                   30          1\n",
       "Registry Volunteer 23          1\n",
       "Voluntary          17          1\n",
       "                   18          2\n",
       "                   19          4\n",
       "                   20          1\n",
       "                   21          4\n",
       "                   22          5\n",
       "                   23          3\n",
       "                   24          3\n",
       "                   25          8\n",
       "                   26          3\n",
       "                   27          4\n",
       "                   28          2\n",
       "                   29          3\n",
       "                   30          2\n",
       "                   31          3\n",
       "                   32          1\n",
       "                   33          3\n",
       "                   34          1\n",
       "                   35          1\n",
       "                   36          2\n",
       "                   38          2\n",
       "                   40          1\n",
       "                   45          1\n",
       "                   47          1\n",
       "\n",
       "[66 rows x 1 columns]"
      ]
     },
     "execution_count": 32,
     "metadata": {},
     "output_type": "execute_result"
    }
   ],
   "source": [
    "pd.pivot_table(df,  index=['Type of Donor','Age'], aggfunc=len)[[\"Anti HCV\"]]"
   ]
  },
  {
   "cell_type": "code",
   "execution_count": 24,
   "metadata": {},
   "outputs": [
    {
     "data": {
      "text/plain": [
       "22    914\n",
       "25    887\n",
       "30    787\n",
       "24    733\n",
       "23    713\n",
       "20    703\n",
       "28    675\n",
       "21    588\n",
       "26    581\n",
       "19    526\n",
       "32    504\n",
       "27    497\n",
       "35    492\n",
       "29    376\n",
       "31    304\n",
       "33    304\n",
       "34    281\n",
       "38    242\n",
       "36    229\n",
       "40    219\n",
       "37    173\n",
       "18    168\n",
       "39    161\n",
       "42     90\n",
       "45     71\n",
       "41     68\n",
       "44     60\n",
       "43     56\n",
       "47     33\n",
       "46     30\n",
       "48     26\n",
       "49     16\n",
       "50     10\n",
       "17      5\n",
       "51      5\n",
       "52      3\n",
       "53      3\n",
       "54      1\n",
       "Name: Age, dtype: int64"
      ]
     },
     "execution_count": 24,
     "metadata": {},
     "output_type": "execute_result"
    }
   ],
   "source": [
    "df.Age.value_counts()"
   ]
  },
  {
   "cell_type": "code",
   "execution_count": null,
   "metadata": {},
   "outputs": [],
   "source": []
  }
 ],
 "metadata": {
  "kernelspec": {
   "display_name": "Python 3",
   "language": "python",
   "name": "python3"
  },
  "language_info": {
   "codemirror_mode": {
    "name": "ipython",
    "version": 3
   },
   "file_extension": ".py",
   "mimetype": "text/x-python",
   "name": "python",
   "nbconvert_exporter": "python",
   "pygments_lexer": "ipython3",
   "version": "3.7.1"
  }
 },
 "nbformat": 4,
 "nbformat_minor": 2
}
