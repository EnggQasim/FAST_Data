{
 "cells": [
  {
   "cell_type": "code",
   "execution_count": 4,
   "metadata": {},
   "outputs": [],
   "source": [
    "import numpy as np\n",
    "import pandas as pd\n",
    "import matplotlib.pyplot as plt\n",
    "import tensorflow as tf"
   ]
  },
  {
   "cell_type": "code",
   "execution_count": 5,
   "metadata": {},
   "outputs": [
    {
     "name": "stdout",
     "output_type": "stream",
     "text": [
      "<class 'pandas.core.frame.DataFrame'>\n",
      "RangeIndex: 1573 entries, 0 to 1572\n",
      "Data columns (total 22 columns):\n",
      "Year of Admission and Batch of the student    1573 non-null int64\n",
      "Gender                                        1573 non-null object\n",
      "Resedential Area and city of origin           1573 non-null object\n",
      "SSC Marks                                     1140 non-null float64\n",
      "HSSC Marks                                    730 non-null float64\n",
      "Entry Test Score Marks                        1568 non-null float64\n",
      "1st Semester                                  1572 non-null float64\n",
      "2nd Semester                                  1090 non-null float64\n",
      "3rd Semester                                  1066 non-null float64\n",
      "4th Semester                                  712 non-null float64\n",
      "5th Semester                                  679 non-null float64\n",
      "6th Semester                                  463 non-null float64\n",
      "7th Semester                                  410 non-null float64\n",
      "8th Semester                                  187 non-null float64\n",
      "9th Semester                                  96 non-null float64\n",
      "10th Semester                                 60 non-null float64\n",
      "11th Semester                                 40 non-null float64\n",
      "12th Semester                                 28 non-null float64\n",
      "13th Semester                                 17 non-null float64\n",
      "14th Semester                                 12 non-null float64\n",
      "15th Semester                                 5 non-null float64\n",
      "Cumulative GPA                                1573 non-null float64\n",
      "dtypes: float64(19), int64(1), object(2)\n",
      "memory usage: 270.4+ KB\n"
     ]
    }
   ],
   "source": [
    "df = pd.read_excel(\"./uni.xlsx\")\n",
    "df.info()"
   ]
  },
  {
   "cell_type": "code",
   "execution_count": 6,
   "metadata": {},
   "outputs": [
    {
     "data": {
      "text/html": [
       "<div>\n",
       "<style scoped>\n",
       "    .dataframe tbody tr th:only-of-type {\n",
       "        vertical-align: middle;\n",
       "    }\n",
       "\n",
       "    .dataframe tbody tr th {\n",
       "        vertical-align: top;\n",
       "    }\n",
       "\n",
       "    .dataframe thead th {\n",
       "        text-align: right;\n",
       "    }\n",
       "</style>\n",
       "<table border=\"1\" class=\"dataframe\">\n",
       "  <thead>\n",
       "    <tr style=\"text-align: right;\">\n",
       "      <th></th>\n",
       "      <th>Year of Admission and Batch of the student</th>\n",
       "      <th>Gender</th>\n",
       "      <th>Resedential Area and city of origin</th>\n",
       "      <th>SSC Marks</th>\n",
       "      <th>HSSC Marks</th>\n",
       "      <th>Entry Test Score Marks</th>\n",
       "      <th>1st Semester</th>\n",
       "      <th>2nd Semester</th>\n",
       "      <th>3rd Semester</th>\n",
       "      <th>4th Semester</th>\n",
       "      <th>...</th>\n",
       "      <th>7th Semester</th>\n",
       "      <th>8th Semester</th>\n",
       "      <th>9th Semester</th>\n",
       "      <th>10th Semester</th>\n",
       "      <th>11th Semester</th>\n",
       "      <th>12th Semester</th>\n",
       "      <th>13th Semester</th>\n",
       "      <th>14th Semester</th>\n",
       "      <th>15th Semester</th>\n",
       "      <th>Cumulative GPA</th>\n",
       "    </tr>\n",
       "  </thead>\n",
       "  <tbody>\n",
       "    <tr>\n",
       "      <th>0</th>\n",
       "      <td>2012</td>\n",
       "      <td>M</td>\n",
       "      <td>Karachi</td>\n",
       "      <td>645.0</td>\n",
       "      <td>364.0</td>\n",
       "      <td>43.68</td>\n",
       "      <td>1.41</td>\n",
       "      <td>2.15</td>\n",
       "      <td>2.00</td>\n",
       "      <td>2.10</td>\n",
       "      <td>...</td>\n",
       "      <td>1.50</td>\n",
       "      <td>1.10</td>\n",
       "      <td>2.00</td>\n",
       "      <td>0.69</td>\n",
       "      <td>2.33</td>\n",
       "      <td>1.60</td>\n",
       "      <td>2.00</td>\n",
       "      <td>1.08</td>\n",
       "      <td>0.00</td>\n",
       "      <td>1.92</td>\n",
       "    </tr>\n",
       "    <tr>\n",
       "      <th>1</th>\n",
       "      <td>2013</td>\n",
       "      <td>M</td>\n",
       "      <td>Karachi</td>\n",
       "      <td>638.0</td>\n",
       "      <td>312.0</td>\n",
       "      <td>47.04</td>\n",
       "      <td>1.22</td>\n",
       "      <td>2.31</td>\n",
       "      <td>1.98</td>\n",
       "      <td>0.41</td>\n",
       "      <td>...</td>\n",
       "      <td>4.00</td>\n",
       "      <td>1.56</td>\n",
       "      <td>1.23</td>\n",
       "      <td>1.15</td>\n",
       "      <td>0.00</td>\n",
       "      <td>1.67</td>\n",
       "      <td>1.50</td>\n",
       "      <td>0.00</td>\n",
       "      <td>0.00</td>\n",
       "      <td>2.09</td>\n",
       "    </tr>\n",
       "    <tr>\n",
       "      <th>2</th>\n",
       "      <td>2013</td>\n",
       "      <td>M</td>\n",
       "      <td>Karachi</td>\n",
       "      <td>693.0</td>\n",
       "      <td>686.0</td>\n",
       "      <td>47.73</td>\n",
       "      <td>1.74</td>\n",
       "      <td>1.54</td>\n",
       "      <td>2.85</td>\n",
       "      <td>1.35</td>\n",
       "      <td>...</td>\n",
       "      <td>1.52</td>\n",
       "      <td>3.00</td>\n",
       "      <td>1.07</td>\n",
       "      <td>2.04</td>\n",
       "      <td>2.00</td>\n",
       "      <td>2.07</td>\n",
       "      <td>1.44</td>\n",
       "      <td>1.33</td>\n",
       "      <td>NaN</td>\n",
       "      <td>2.00</td>\n",
       "    </tr>\n",
       "    <tr>\n",
       "      <th>3</th>\n",
       "      <td>2013</td>\n",
       "      <td>M</td>\n",
       "      <td>Karachi</td>\n",
       "      <td>649.0</td>\n",
       "      <td>838.0</td>\n",
       "      <td>57.68</td>\n",
       "      <td>1.16</td>\n",
       "      <td>2.49</td>\n",
       "      <td>1.61</td>\n",
       "      <td>1.04</td>\n",
       "      <td>...</td>\n",
       "      <td>1.00</td>\n",
       "      <td>1.78</td>\n",
       "      <td>1.62</td>\n",
       "      <td>3.33</td>\n",
       "      <td>2.40</td>\n",
       "      <td>2.05</td>\n",
       "      <td>2.67</td>\n",
       "      <td>2.08</td>\n",
       "      <td>1.33</td>\n",
       "      <td>2.14</td>\n",
       "    </tr>\n",
       "    <tr>\n",
       "      <th>4</th>\n",
       "      <td>2013</td>\n",
       "      <td>M</td>\n",
       "      <td>Karachi</td>\n",
       "      <td>705.0</td>\n",
       "      <td>650.0</td>\n",
       "      <td>41.98</td>\n",
       "      <td>1.08</td>\n",
       "      <td>2.87</td>\n",
       "      <td>0.88</td>\n",
       "      <td>1.25</td>\n",
       "      <td>...</td>\n",
       "      <td>1.31</td>\n",
       "      <td>1.90</td>\n",
       "      <td>2.00</td>\n",
       "      <td>0.93</td>\n",
       "      <td>1.50</td>\n",
       "      <td>1.58</td>\n",
       "      <td>1.73</td>\n",
       "      <td>0.00</td>\n",
       "      <td>NaN</td>\n",
       "      <td>2.01</td>\n",
       "    </tr>\n",
       "  </tbody>\n",
       "</table>\n",
       "<p>5 rows × 22 columns</p>\n",
       "</div>"
      ],
      "text/plain": [
       "   Year of Admission and Batch of the student Gender  \\\n",
       "0                                        2012      M   \n",
       "1                                        2013      M   \n",
       "2                                        2013      M   \n",
       "3                                        2013      M   \n",
       "4                                        2013      M   \n",
       "\n",
       "  Resedential Area and city of origin  SSC Marks  HSSC Marks  \\\n",
       "0                             Karachi      645.0       364.0   \n",
       "1                             Karachi      638.0       312.0   \n",
       "2                             Karachi      693.0       686.0   \n",
       "3                             Karachi      649.0       838.0   \n",
       "4                             Karachi      705.0       650.0   \n",
       "\n",
       "   Entry Test Score Marks  1st Semester  2nd Semester  3rd Semester  \\\n",
       "0                   43.68          1.41          2.15          2.00   \n",
       "1                   47.04          1.22          2.31          1.98   \n",
       "2                   47.73          1.74          1.54          2.85   \n",
       "3                   57.68          1.16          2.49          1.61   \n",
       "4                   41.98          1.08          2.87          0.88   \n",
       "\n",
       "   4th Semester       ...        7th Semester  8th Semester  9th Semester  \\\n",
       "0          2.10       ...                1.50          1.10          2.00   \n",
       "1          0.41       ...                4.00          1.56          1.23   \n",
       "2          1.35       ...                1.52          3.00          1.07   \n",
       "3          1.04       ...                1.00          1.78          1.62   \n",
       "4          1.25       ...                1.31          1.90          2.00   \n",
       "\n",
       "   10th Semester  11th Semester  12th Semester  13th Semester  14th Semester  \\\n",
       "0           0.69           2.33           1.60           2.00           1.08   \n",
       "1           1.15           0.00           1.67           1.50           0.00   \n",
       "2           2.04           2.00           2.07           1.44           1.33   \n",
       "3           3.33           2.40           2.05           2.67           2.08   \n",
       "4           0.93           1.50           1.58           1.73           0.00   \n",
       "\n",
       "   15th Semester  Cumulative GPA  \n",
       "0           0.00            1.92  \n",
       "1           0.00            2.09  \n",
       "2            NaN            2.00  \n",
       "3           1.33            2.14  \n",
       "4            NaN            2.01  \n",
       "\n",
       "[5 rows x 22 columns]"
      ]
     },
     "execution_count": 6,
     "metadata": {},
     "output_type": "execute_result"
    }
   ],
   "source": [
    "df.head()"
   ]
  },
  {
   "cell_type": "code",
   "execution_count": 7,
   "metadata": {},
   "outputs": [
    {
     "data": {
      "text/plain": [
       "[('Year of Admission and Batch of the student', 0),\n",
       " ('Gender', 0),\n",
       " ('Resedential Area and city of origin', 0),\n",
       " ('SSC Marks', 433),\n",
       " ('HSSC Marks', 843),\n",
       " ('Entry Test Score Marks', 5),\n",
       " ('1st Semester', 1),\n",
       " ('2nd Semester', 483),\n",
       " ('3rd Semester', 507),\n",
       " ('4th Semester', 861),\n",
       " ('5th Semester', 894),\n",
       " ('6th Semester', 1110),\n",
       " ('7th Semester', 1163),\n",
       " ('8th Semester', 1386),\n",
       " ('9th Semester', 1477),\n",
       " ('10th Semester', 1513),\n",
       " ('11th Semester', 1533),\n",
       " ('12th Semester', 1545),\n",
       " ('13th Semester', 1556),\n",
       " ('14th Semester', 1561),\n",
       " ('15th Semester', 1568),\n",
       " ('Cumulative GPA', 0)]"
      ]
     },
     "execution_count": 7,
     "metadata": {},
     "output_type": "execute_result"
    }
   ],
   "source": [
    "[(x,len(df[df[x].isna()])) for x in df.columns]"
   ]
  },
  {
   "cell_type": "markdown",
   "metadata": {},
   "source": [
    "# 1) What is the overall trend of our student's semester-wise performance over the past few years? Are we as faculty doing good with students?"
   ]
  },
  {
   "cell_type": "code",
   "execution_count": 8,
   "metadata": {},
   "outputs": [
    {
     "data": {
      "text/plain": [
       "231"
      ]
     },
     "execution_count": 8,
     "metadata": {},
     "output_type": "execute_result"
    }
   ],
   "source": [
    "len(df['Cumulative GPA'].unique())"
   ]
  },
  {
   "cell_type": "code",
   "execution_count": 9,
   "metadata": {},
   "outputs": [
    {
     "data": {
      "text/html": [
       "<div>\n",
       "<style scoped>\n",
       "    .dataframe tbody tr th:only-of-type {\n",
       "        vertical-align: middle;\n",
       "    }\n",
       "\n",
       "    .dataframe tbody tr th {\n",
       "        vertical-align: top;\n",
       "    }\n",
       "\n",
       "    .dataframe thead th {\n",
       "        text-align: right;\n",
       "    }\n",
       "</style>\n",
       "<table border=\"1\" class=\"dataframe\">\n",
       "  <thead>\n",
       "    <tr style=\"text-align: right;\">\n",
       "      <th></th>\n",
       "      <th>CGPA &gt;= 3.0</th>\n",
       "    </tr>\n",
       "    <tr>\n",
       "      <th>Year of Admission and Batch of the student</th>\n",
       "      <th></th>\n",
       "    </tr>\n",
       "  </thead>\n",
       "  <tbody>\n",
       "    <tr>\n",
       "      <th>2016</th>\n",
       "      <td>62</td>\n",
       "    </tr>\n",
       "    <tr>\n",
       "      <th>2017</th>\n",
       "      <td>88</td>\n",
       "    </tr>\n",
       "    <tr>\n",
       "      <th>2018</th>\n",
       "      <td>99</td>\n",
       "    </tr>\n",
       "  </tbody>\n",
       "</table>\n",
       "</div>"
      ],
      "text/plain": [
       "                                            CGPA >= 3.0\n",
       "Year of Admission and Batch of the student             \n",
       "2016                                                 62\n",
       "2017                                                 88\n",
       "2018                                                 99"
      ]
     },
     "execution_count": 9,
     "metadata": {},
     "output_type": "execute_result"
    }
   ],
   "source": [
    "df1=df[df['Cumulative GPA']<2.0].groupby(by=['Year of Admission and Batch of the student']).agg(['count'])[['Gender']]\n",
    "df1.columns = ['CGPA < 2.0']\n",
    "df1.head()\n",
    "\n",
    "df2=df[df['Cumulative GPA']>=2.0].groupby(by=['Year of Admission and Batch of the student']).agg(['count'])[['Gender']]\n",
    "df2.columns = ['CGPA >= 2.0']\n",
    "df2.head()\n",
    "\n",
    "df3=df[df['Cumulative GPA']>=3.0].groupby(by=['Year of Admission and Batch of the student']).agg(['count'])[['Gender']]\n",
    "df3.columns = ['CGPA >= 3.0']\n",
    "df3.head()"
   ]
  },
  {
   "cell_type": "code",
   "execution_count": 10,
   "metadata": {},
   "outputs": [
    {
     "data": {
      "text/html": [
       "<div>\n",
       "<style scoped>\n",
       "    .dataframe tbody tr th:only-of-type {\n",
       "        vertical-align: middle;\n",
       "    }\n",
       "\n",
       "    .dataframe tbody tr th {\n",
       "        vertical-align: top;\n",
       "    }\n",
       "\n",
       "    .dataframe thead th {\n",
       "        text-align: right;\n",
       "    }\n",
       "</style>\n",
       "<table border=\"1\" class=\"dataframe\">\n",
       "  <thead>\n",
       "    <tr style=\"text-align: right;\">\n",
       "      <th></th>\n",
       "      <th>Total</th>\n",
       "      <th>Min</th>\n",
       "      <th>Max</th>\n",
       "      <th>Mean</th>\n",
       "      <th>STD</th>\n",
       "      <th>CGPA &lt; 2.0</th>\n",
       "      <th>CGPA &gt;= 2.0</th>\n",
       "      <th>CGPA &gt;= 3.0</th>\n",
       "      <th>PassingRatio</th>\n",
       "      <th>FailureRatio</th>\n",
       "    </tr>\n",
       "    <tr>\n",
       "      <th>Year of Admission and Batch of the student</th>\n",
       "      <th></th>\n",
       "      <th></th>\n",
       "      <th></th>\n",
       "      <th></th>\n",
       "      <th></th>\n",
       "      <th></th>\n",
       "      <th></th>\n",
       "      <th></th>\n",
       "      <th></th>\n",
       "      <th></th>\n",
       "    </tr>\n",
       "  </thead>\n",
       "  <tbody>\n",
       "    <tr>\n",
       "      <th>2012</th>\n",
       "      <td>1</td>\n",
       "      <td>1.92</td>\n",
       "      <td>1.92</td>\n",
       "      <td>1.920000</td>\n",
       "      <td>0.000000</td>\n",
       "      <td>1.0</td>\n",
       "      <td>0.0</td>\n",
       "      <td>0.0</td>\n",
       "      <td>0.000000</td>\n",
       "      <td>0.000000</td>\n",
       "    </tr>\n",
       "    <tr>\n",
       "      <th>2013</th>\n",
       "      <td>7</td>\n",
       "      <td>2.00</td>\n",
       "      <td>2.23</td>\n",
       "      <td>2.081429</td>\n",
       "      <td>0.085912</td>\n",
       "      <td>0.0</td>\n",
       "      <td>7.0</td>\n",
       "      <td>0.0</td>\n",
       "      <td>100.000000</td>\n",
       "      <td>0.000000</td>\n",
       "    </tr>\n",
       "    <tr>\n",
       "      <th>2014</th>\n",
       "      <td>16</td>\n",
       "      <td>1.83</td>\n",
       "      <td>2.19</td>\n",
       "      <td>2.060000</td>\n",
       "      <td>0.107331</td>\n",
       "      <td>3.0</td>\n",
       "      <td>13.0</td>\n",
       "      <td>0.0</td>\n",
       "      <td>81.250000</td>\n",
       "      <td>18.750000</td>\n",
       "    </tr>\n",
       "    <tr>\n",
       "      <th>2015</th>\n",
       "      <td>43</td>\n",
       "      <td>1.78</td>\n",
       "      <td>2.68</td>\n",
       "      <td>2.153953</td>\n",
       "      <td>0.186511</td>\n",
       "      <td>4.0</td>\n",
       "      <td>39.0</td>\n",
       "      <td>0.0</td>\n",
       "      <td>90.697674</td>\n",
       "      <td>9.302326</td>\n",
       "    </tr>\n",
       "    <tr>\n",
       "      <th>2016</th>\n",
       "      <td>351</td>\n",
       "      <td>0.00</td>\n",
       "      <td>3.90</td>\n",
       "      <td>2.610741</td>\n",
       "      <td>0.451164</td>\n",
       "      <td>12.0</td>\n",
       "      <td>339.0</td>\n",
       "      <td>62.0</td>\n",
       "      <td>96.581197</td>\n",
       "      <td>3.418803</td>\n",
       "    </tr>\n",
       "    <tr>\n",
       "      <th>2017</th>\n",
       "      <td>276</td>\n",
       "      <td>0.00</td>\n",
       "      <td>3.97</td>\n",
       "      <td>2.714710</td>\n",
       "      <td>0.571250</td>\n",
       "      <td>16.0</td>\n",
       "      <td>260.0</td>\n",
       "      <td>88.0</td>\n",
       "      <td>94.202899</td>\n",
       "      <td>5.797101</td>\n",
       "    </tr>\n",
       "    <tr>\n",
       "      <th>2018</th>\n",
       "      <td>411</td>\n",
       "      <td>0.00</td>\n",
       "      <td>3.86</td>\n",
       "      <td>2.534599</td>\n",
       "      <td>0.715152</td>\n",
       "      <td>53.0</td>\n",
       "      <td>358.0</td>\n",
       "      <td>99.0</td>\n",
       "      <td>87.104623</td>\n",
       "      <td>12.895377</td>\n",
       "    </tr>\n",
       "    <tr>\n",
       "      <th>2019</th>\n",
       "      <td>468</td>\n",
       "      <td>0.00</td>\n",
       "      <td>0.00</td>\n",
       "      <td>0.000000</td>\n",
       "      <td>0.000000</td>\n",
       "      <td>468.0</td>\n",
       "      <td>0.0</td>\n",
       "      <td>0.0</td>\n",
       "      <td>0.000000</td>\n",
       "      <td>0.000000</td>\n",
       "    </tr>\n",
       "  </tbody>\n",
       "</table>\n",
       "</div>"
      ],
      "text/plain": [
       "                                            Total   Min   Max      Mean  \\\n",
       "Year of Admission and Batch of the student                                \n",
       "2012                                            1  1.92  1.92  1.920000   \n",
       "2013                                            7  2.00  2.23  2.081429   \n",
       "2014                                           16  1.83  2.19  2.060000   \n",
       "2015                                           43  1.78  2.68  2.153953   \n",
       "2016                                          351  0.00  3.90  2.610741   \n",
       "2017                                          276  0.00  3.97  2.714710   \n",
       "2018                                          411  0.00  3.86  2.534599   \n",
       "2019                                          468  0.00  0.00  0.000000   \n",
       "\n",
       "                                                 STD  CGPA < 2.0  CGPA >= 2.0  \\\n",
       "Year of Admission and Batch of the student                                      \n",
       "2012                                        0.000000         1.0          0.0   \n",
       "2013                                        0.085912         0.0          7.0   \n",
       "2014                                        0.107331         3.0         13.0   \n",
       "2015                                        0.186511         4.0         39.0   \n",
       "2016                                        0.451164        12.0        339.0   \n",
       "2017                                        0.571250        16.0        260.0   \n",
       "2018                                        0.715152        53.0        358.0   \n",
       "2019                                        0.000000       468.0          0.0   \n",
       "\n",
       "                                            CGPA >= 3.0  PassingRatio  \\\n",
       "Year of Admission and Batch of the student                              \n",
       "2012                                                0.0      0.000000   \n",
       "2013                                                0.0    100.000000   \n",
       "2014                                                0.0     81.250000   \n",
       "2015                                                0.0     90.697674   \n",
       "2016                                               62.0     96.581197   \n",
       "2017                                               88.0     94.202899   \n",
       "2018                                               99.0     87.104623   \n",
       "2019                                                0.0      0.000000   \n",
       "\n",
       "                                            FailureRatio  \n",
       "Year of Admission and Batch of the student                \n",
       "2012                                            0.000000  \n",
       "2013                                            0.000000  \n",
       "2014                                           18.750000  \n",
       "2015                                            9.302326  \n",
       "2016                                            3.418803  \n",
       "2017                                            5.797101  \n",
       "2018                                           12.895377  \n",
       "2019                                            0.000000  "
      ]
     },
     "execution_count": 10,
     "metadata": {},
     "output_type": "execute_result"
    }
   ],
   "source": [
    "df4=df.groupby(by=['Year of Admission and Batch of the student'], \n",
    "           sort=[False])[[\"Cumulative GPA\"]].agg(['count','min','max','mean','std'])\n",
    "df5 = pd.concat([df4,df1,df2,df3], axis=1)\n",
    "\n",
    "df5.columns = ['Total','Min','Max','Mean','STD','CGPA < 2.0','CGPA >= 2.0','CGPA >= 3.0']\n",
    "\n",
    "df5[\"PassingRatio\"] = df5['CGPA >= 2.0'] / df5['Total'] * 100\n",
    "df5['FailureRatio'] = 100 - df5.PassingRatio\n",
    "df5.fillna(value=0, inplace=True)\n",
    "df5"
   ]
  },
  {
   "cell_type": "code",
   "execution_count": 11,
   "metadata": {},
   "outputs": [
    {
     "data": {
      "text/html": [
       "<div>\n",
       "<style scoped>\n",
       "    .dataframe tbody tr th:only-of-type {\n",
       "        vertical-align: middle;\n",
       "    }\n",
       "\n",
       "    .dataframe tbody tr th {\n",
       "        vertical-align: top;\n",
       "    }\n",
       "\n",
       "    .dataframe thead th {\n",
       "        text-align: right;\n",
       "    }\n",
       "</style>\n",
       "<table border=\"1\" class=\"dataframe\">\n",
       "  <thead>\n",
       "    <tr style=\"text-align: right;\">\n",
       "      <th></th>\n",
       "      <th>Year</th>\n",
       "      <th>CGPA</th>\n",
       "      <th>NoStudentCounts</th>\n",
       "    </tr>\n",
       "  </thead>\n",
       "  <tbody>\n",
       "    <tr>\n",
       "      <th>0</th>\n",
       "      <td>2012</td>\n",
       "      <td>1.92</td>\n",
       "      <td>1</td>\n",
       "    </tr>\n",
       "    <tr>\n",
       "      <th>1</th>\n",
       "      <td>2013</td>\n",
       "      <td>2.00</td>\n",
       "      <td>2</td>\n",
       "    </tr>\n",
       "    <tr>\n",
       "      <th>2</th>\n",
       "      <td>2013</td>\n",
       "      <td>2.01</td>\n",
       "      <td>1</td>\n",
       "    </tr>\n",
       "    <tr>\n",
       "      <th>3</th>\n",
       "      <td>2013</td>\n",
       "      <td>2.09</td>\n",
       "      <td>1</td>\n",
       "    </tr>\n",
       "    <tr>\n",
       "      <th>4</th>\n",
       "      <td>2013</td>\n",
       "      <td>2.10</td>\n",
       "      <td>1</td>\n",
       "    </tr>\n",
       "    <tr>\n",
       "      <th>5</th>\n",
       "      <td>2013</td>\n",
       "      <td>2.14</td>\n",
       "      <td>1</td>\n",
       "    </tr>\n",
       "    <tr>\n",
       "      <th>6</th>\n",
       "      <td>2013</td>\n",
       "      <td>2.23</td>\n",
       "      <td>1</td>\n",
       "    </tr>\n",
       "    <tr>\n",
       "      <th>14</th>\n",
       "      <td>2014</td>\n",
       "      <td>2.09</td>\n",
       "      <td>2</td>\n",
       "    </tr>\n",
       "    <tr>\n",
       "      <th>16</th>\n",
       "      <td>2014</td>\n",
       "      <td>2.12</td>\n",
       "      <td>2</td>\n",
       "    </tr>\n",
       "    <tr>\n",
       "      <th>7</th>\n",
       "      <td>2014</td>\n",
       "      <td>1.83</td>\n",
       "      <td>1</td>\n",
       "    </tr>\n",
       "    <tr>\n",
       "      <th>8</th>\n",
       "      <td>2014</td>\n",
       "      <td>1.86</td>\n",
       "      <td>1</td>\n",
       "    </tr>\n",
       "    <tr>\n",
       "      <th>9</th>\n",
       "      <td>2014</td>\n",
       "      <td>1.94</td>\n",
       "      <td>1</td>\n",
       "    </tr>\n",
       "    <tr>\n",
       "      <th>10</th>\n",
       "      <td>2014</td>\n",
       "      <td>2.00</td>\n",
       "      <td>1</td>\n",
       "    </tr>\n",
       "    <tr>\n",
       "      <th>11</th>\n",
       "      <td>2014</td>\n",
       "      <td>2.01</td>\n",
       "      <td>1</td>\n",
       "    </tr>\n",
       "    <tr>\n",
       "      <th>12</th>\n",
       "      <td>2014</td>\n",
       "      <td>2.05</td>\n",
       "      <td>1</td>\n",
       "    </tr>\n",
       "    <tr>\n",
       "      <th>13</th>\n",
       "      <td>2014</td>\n",
       "      <td>2.08</td>\n",
       "      <td>1</td>\n",
       "    </tr>\n",
       "    <tr>\n",
       "      <th>15</th>\n",
       "      <td>2014</td>\n",
       "      <td>2.10</td>\n",
       "      <td>1</td>\n",
       "    </tr>\n",
       "    <tr>\n",
       "      <th>17</th>\n",
       "      <td>2014</td>\n",
       "      <td>2.13</td>\n",
       "      <td>1</td>\n",
       "    </tr>\n",
       "    <tr>\n",
       "      <th>18</th>\n",
       "      <td>2014</td>\n",
       "      <td>2.17</td>\n",
       "      <td>1</td>\n",
       "    </tr>\n",
       "    <tr>\n",
       "      <th>19</th>\n",
       "      <td>2014</td>\n",
       "      <td>2.18</td>\n",
       "      <td>1</td>\n",
       "    </tr>\n",
       "    <tr>\n",
       "      <th>20</th>\n",
       "      <td>2014</td>\n",
       "      <td>2.19</td>\n",
       "      <td>1</td>\n",
       "    </tr>\n",
       "    <tr>\n",
       "      <th>29</th>\n",
       "      <td>2015</td>\n",
       "      <td>2.04</td>\n",
       "      <td>3</td>\n",
       "    </tr>\n",
       "    <tr>\n",
       "      <th>30</th>\n",
       "      <td>2015</td>\n",
       "      <td>2.06</td>\n",
       "      <td>3</td>\n",
       "    </tr>\n",
       "    <tr>\n",
       "      <th>25</th>\n",
       "      <td>2015</td>\n",
       "      <td>2.00</td>\n",
       "      <td>2</td>\n",
       "    </tr>\n",
       "    <tr>\n",
       "      <th>27</th>\n",
       "      <td>2015</td>\n",
       "      <td>2.02</td>\n",
       "      <td>2</td>\n",
       "    </tr>\n",
       "    <tr>\n",
       "      <th>32</th>\n",
       "      <td>2015</td>\n",
       "      <td>2.09</td>\n",
       "      <td>2</td>\n",
       "    </tr>\n",
       "    <tr>\n",
       "      <th>33</th>\n",
       "      <td>2015</td>\n",
       "      <td>2.11</td>\n",
       "      <td>2</td>\n",
       "    </tr>\n",
       "    <tr>\n",
       "      <th>34</th>\n",
       "      <td>2015</td>\n",
       "      <td>2.13</td>\n",
       "      <td>2</td>\n",
       "    </tr>\n",
       "    <tr>\n",
       "      <th>35</th>\n",
       "      <td>2015</td>\n",
       "      <td>2.14</td>\n",
       "      <td>2</td>\n",
       "    </tr>\n",
       "    <tr>\n",
       "      <th>36</th>\n",
       "      <td>2015</td>\n",
       "      <td>2.15</td>\n",
       "      <td>2</td>\n",
       "    </tr>\n",
       "    <tr>\n",
       "      <th>...</th>\n",
       "      <td>...</td>\n",
       "      <td>...</td>\n",
       "      <td>...</td>\n",
       "    </tr>\n",
       "    <tr>\n",
       "      <th>490</th>\n",
       "      <td>2018</td>\n",
       "      <td>3.14</td>\n",
       "      <td>1</td>\n",
       "    </tr>\n",
       "    <tr>\n",
       "      <th>491</th>\n",
       "      <td>2018</td>\n",
       "      <td>3.15</td>\n",
       "      <td>1</td>\n",
       "    </tr>\n",
       "    <tr>\n",
       "      <th>495</th>\n",
       "      <td>2018</td>\n",
       "      <td>3.20</td>\n",
       "      <td>1</td>\n",
       "    </tr>\n",
       "    <tr>\n",
       "      <th>497</th>\n",
       "      <td>2018</td>\n",
       "      <td>3.22</td>\n",
       "      <td>1</td>\n",
       "    </tr>\n",
       "    <tr>\n",
       "      <th>498</th>\n",
       "      <td>2018</td>\n",
       "      <td>3.25</td>\n",
       "      <td>1</td>\n",
       "    </tr>\n",
       "    <tr>\n",
       "      <th>500</th>\n",
       "      <td>2018</td>\n",
       "      <td>3.30</td>\n",
       "      <td>1</td>\n",
       "    </tr>\n",
       "    <tr>\n",
       "      <th>503</th>\n",
       "      <td>2018</td>\n",
       "      <td>3.36</td>\n",
       "      <td>1</td>\n",
       "    </tr>\n",
       "    <tr>\n",
       "      <th>505</th>\n",
       "      <td>2018</td>\n",
       "      <td>3.38</td>\n",
       "      <td>1</td>\n",
       "    </tr>\n",
       "    <tr>\n",
       "      <th>506</th>\n",
       "      <td>2018</td>\n",
       "      <td>3.39</td>\n",
       "      <td>1</td>\n",
       "    </tr>\n",
       "    <tr>\n",
       "      <th>507</th>\n",
       "      <td>2018</td>\n",
       "      <td>3.40</td>\n",
       "      <td>1</td>\n",
       "    </tr>\n",
       "    <tr>\n",
       "      <th>508</th>\n",
       "      <td>2018</td>\n",
       "      <td>3.41</td>\n",
       "      <td>1</td>\n",
       "    </tr>\n",
       "    <tr>\n",
       "      <th>510</th>\n",
       "      <td>2018</td>\n",
       "      <td>3.45</td>\n",
       "      <td>1</td>\n",
       "    </tr>\n",
       "    <tr>\n",
       "      <th>511</th>\n",
       "      <td>2018</td>\n",
       "      <td>3.46</td>\n",
       "      <td>1</td>\n",
       "    </tr>\n",
       "    <tr>\n",
       "      <th>512</th>\n",
       "      <td>2018</td>\n",
       "      <td>3.47</td>\n",
       "      <td>1</td>\n",
       "    </tr>\n",
       "    <tr>\n",
       "      <th>514</th>\n",
       "      <td>2018</td>\n",
       "      <td>3.51</td>\n",
       "      <td>1</td>\n",
       "    </tr>\n",
       "    <tr>\n",
       "      <th>515</th>\n",
       "      <td>2018</td>\n",
       "      <td>3.53</td>\n",
       "      <td>1</td>\n",
       "    </tr>\n",
       "    <tr>\n",
       "      <th>516</th>\n",
       "      <td>2018</td>\n",
       "      <td>3.55</td>\n",
       "      <td>1</td>\n",
       "    </tr>\n",
       "    <tr>\n",
       "      <th>517</th>\n",
       "      <td>2018</td>\n",
       "      <td>3.56</td>\n",
       "      <td>1</td>\n",
       "    </tr>\n",
       "    <tr>\n",
       "      <th>519</th>\n",
       "      <td>2018</td>\n",
       "      <td>3.60</td>\n",
       "      <td>1</td>\n",
       "    </tr>\n",
       "    <tr>\n",
       "      <th>520</th>\n",
       "      <td>2018</td>\n",
       "      <td>3.61</td>\n",
       "      <td>1</td>\n",
       "    </tr>\n",
       "    <tr>\n",
       "      <th>521</th>\n",
       "      <td>2018</td>\n",
       "      <td>3.63</td>\n",
       "      <td>1</td>\n",
       "    </tr>\n",
       "    <tr>\n",
       "      <th>522</th>\n",
       "      <td>2018</td>\n",
       "      <td>3.64</td>\n",
       "      <td>1</td>\n",
       "    </tr>\n",
       "    <tr>\n",
       "      <th>523</th>\n",
       "      <td>2018</td>\n",
       "      <td>3.65</td>\n",
       "      <td>1</td>\n",
       "    </tr>\n",
       "    <tr>\n",
       "      <th>525</th>\n",
       "      <td>2018</td>\n",
       "      <td>3.73</td>\n",
       "      <td>1</td>\n",
       "    </tr>\n",
       "    <tr>\n",
       "      <th>527</th>\n",
       "      <td>2018</td>\n",
       "      <td>3.77</td>\n",
       "      <td>1</td>\n",
       "    </tr>\n",
       "    <tr>\n",
       "      <th>529</th>\n",
       "      <td>2018</td>\n",
       "      <td>3.82</td>\n",
       "      <td>1</td>\n",
       "    </tr>\n",
       "    <tr>\n",
       "      <th>530</th>\n",
       "      <td>2018</td>\n",
       "      <td>3.83</td>\n",
       "      <td>1</td>\n",
       "    </tr>\n",
       "    <tr>\n",
       "      <th>531</th>\n",
       "      <td>2018</td>\n",
       "      <td>3.84</td>\n",
       "      <td>1</td>\n",
       "    </tr>\n",
       "    <tr>\n",
       "      <th>532</th>\n",
       "      <td>2018</td>\n",
       "      <td>3.86</td>\n",
       "      <td>1</td>\n",
       "    </tr>\n",
       "    <tr>\n",
       "      <th>533</th>\n",
       "      <td>2019</td>\n",
       "      <td>0.00</td>\n",
       "      <td>468</td>\n",
       "    </tr>\n",
       "  </tbody>\n",
       "</table>\n",
       "<p>534 rows × 3 columns</p>\n",
       "</div>"
      ],
      "text/plain": [
       "     Year  CGPA  NoStudentCounts\n",
       "0    2012  1.92                1\n",
       "1    2013  2.00                2\n",
       "2    2013  2.01                1\n",
       "3    2013  2.09                1\n",
       "4    2013  2.10                1\n",
       "5    2013  2.14                1\n",
       "6    2013  2.23                1\n",
       "14   2014  2.09                2\n",
       "16   2014  2.12                2\n",
       "7    2014  1.83                1\n",
       "8    2014  1.86                1\n",
       "9    2014  1.94                1\n",
       "10   2014  2.00                1\n",
       "11   2014  2.01                1\n",
       "12   2014  2.05                1\n",
       "13   2014  2.08                1\n",
       "15   2014  2.10                1\n",
       "17   2014  2.13                1\n",
       "18   2014  2.17                1\n",
       "19   2014  2.18                1\n",
       "20   2014  2.19                1\n",
       "29   2015  2.04                3\n",
       "30   2015  2.06                3\n",
       "25   2015  2.00                2\n",
       "27   2015  2.02                2\n",
       "32   2015  2.09                2\n",
       "33   2015  2.11                2\n",
       "34   2015  2.13                2\n",
       "35   2015  2.14                2\n",
       "36   2015  2.15                2\n",
       "..    ...   ...              ...\n",
       "490  2018  3.14                1\n",
       "491  2018  3.15                1\n",
       "495  2018  3.20                1\n",
       "497  2018  3.22                1\n",
       "498  2018  3.25                1\n",
       "500  2018  3.30                1\n",
       "503  2018  3.36                1\n",
       "505  2018  3.38                1\n",
       "506  2018  3.39                1\n",
       "507  2018  3.40                1\n",
       "508  2018  3.41                1\n",
       "510  2018  3.45                1\n",
       "511  2018  3.46                1\n",
       "512  2018  3.47                1\n",
       "514  2018  3.51                1\n",
       "515  2018  3.53                1\n",
       "516  2018  3.55                1\n",
       "517  2018  3.56                1\n",
       "519  2018  3.60                1\n",
       "520  2018  3.61                1\n",
       "521  2018  3.63                1\n",
       "522  2018  3.64                1\n",
       "523  2018  3.65                1\n",
       "525  2018  3.73                1\n",
       "527  2018  3.77                1\n",
       "529  2018  3.82                1\n",
       "530  2018  3.83                1\n",
       "531  2018  3.84                1\n",
       "532  2018  3.86                1\n",
       "533  2019  0.00              468\n",
       "\n",
       "[534 rows x 3 columns]"
      ]
     },
     "execution_count": 11,
     "metadata": {},
     "output_type": "execute_result"
    }
   ],
   "source": [
    "q1=df.groupby(by=['Year of Admission and Batch of the student','Cumulative GPA'], \n",
    "           sort=[True, False])[[\"Gender\"]].agg(['count'])\n",
    "\n",
    "q1 = q1.reset_index()\n",
    "q1.columns = ['Year','CGPA','NoStudentCounts']\n",
    "q1.sort_values(by=['Year','NoStudentCounts'], ascending=[True,False])"
   ]
  },
  {
   "cell_type": "code",
   "execution_count": 12,
   "metadata": {},
   "outputs": [
    {
     "data": {
      "text/plain": [
       "Index(['Year of Admission and Batch of the student', 'Gender',\n",
       "       'Resedential Area and city of origin', 'SSC Marks', 'HSSC Marks',\n",
       "       'Entry Test Score Marks', '1st Semester', '2nd Semester',\n",
       "       '3rd Semester', '4th Semester', '5th Semester', '6th Semester',\n",
       "       '7th Semester', '8th Semester', '9th Semester', '10th Semester',\n",
       "       '11th Semester', '12th Semester', '13th Semester', '14th Semester',\n",
       "       '15th Semester', 'Cumulative GPA'],\n",
       "      dtype='object')"
      ]
     },
     "execution_count": 12,
     "metadata": {},
     "output_type": "execute_result"
    }
   ],
   "source": [
    "df.columns"
   ]
  },
  {
   "cell_type": "code",
   "execution_count": 13,
   "metadata": {},
   "outputs": [
    {
     "name": "stdout",
     "output_type": "stream",
     "text": [
      "=========== 2012 =======\n",
      "Number of Students: 1\n",
      "   CGPA  count\n",
      "0  1.92      1\n",
      "=========== 2013 =======\n",
      "Number of Students: 7\n",
      "   CGPA  count\n",
      "0  2.00      2\n",
      "1  2.01      1\n",
      "2  2.10      1\n",
      "3  2.14      1\n",
      "4  2.23      1\n",
      "5  2.09      1\n",
      "=========== 2014 =======\n",
      "Number of Students: 16\n",
      "    CGPA  count\n",
      "0   2.12      2\n",
      "1   2.09      2\n",
      "2   1.83      1\n",
      "3   1.94      1\n",
      "4   2.05      1\n",
      "5   2.13      1\n",
      "6   2.08      1\n",
      "7   2.10      1\n",
      "8   2.19      1\n",
      "9   2.01      1\n",
      "10  2.17      1\n",
      "11  1.86      1\n",
      "12  2.00      1\n",
      "13  2.18      1\n",
      "=========== 2015 =======\n",
      "Number of Students: 43\n",
      "    CGPA  count\n",
      "0   2.06      3\n",
      "1   2.04      3\n",
      "2   2.09      2\n",
      "3   2.00      2\n",
      "4   2.11      2\n",
      "5   2.40      2\n",
      "6   2.14      2\n",
      "7   2.15      2\n",
      "8   2.02      2\n",
      "9   2.13      2\n",
      "10  2.17      2\n",
      "11  2.19      2\n",
      "12  1.78      1\n",
      "13  2.22      1\n",
      "14  2.03      1\n",
      "15  2.58      1\n",
      "16  2.32      1\n",
      "17  2.38      1\n",
      "18  1.92      1\n",
      "19  2.48      1\n",
      "20  1.85      1\n",
      "21  2.08      1\n",
      "22  1.91      1\n",
      "23  2.34      1\n",
      "24  2.01      1\n",
      "25  2.24      1\n",
      "26  2.45      1\n",
      "27  2.68      1\n",
      "28  2.25      1\n",
      "=========== 2016 =======\n",
      "Number of Students: 351\n",
      "     CGPA  count\n",
      "0    2.25      7\n",
      "1    2.76      7\n",
      "2    2.23      6\n",
      "3    2.48      6\n",
      "4    2.77      6\n",
      "5    2.59      6\n",
      "6    2.34      6\n",
      "7    2.30      5\n",
      "8    2.21      5\n",
      "9    2.53      5\n",
      "10   2.41      5\n",
      "11   2.11      5\n",
      "12   2.49      5\n",
      "13   2.33      5\n",
      "14   2.88      5\n",
      "15   2.92      4\n",
      "16   2.54      4\n",
      "17   2.51      4\n",
      "18   2.07      4\n",
      "19   2.17      4\n",
      "20   2.81      4\n",
      "21   2.27      4\n",
      "22   2.26      4\n",
      "23   2.28      4\n",
      "24   2.31      4\n",
      "25   2.18      4\n",
      "26   2.97      4\n",
      "27   2.38      4\n",
      "28   2.82      4\n",
      "29   2.67      3\n",
      "..    ...    ...\n",
      "113  3.46      1\n",
      "114  3.17      1\n",
      "115  3.11      1\n",
      "116  3.31      1\n",
      "117  2.10      1\n",
      "118  2.85      1\n",
      "119  2.02      1\n",
      "120  3.37      1\n",
      "121  3.08      1\n",
      "122  3.85      1\n",
      "123  3.40      1\n",
      "124  3.90      1\n",
      "125  3.48      1\n",
      "126  2.40      1\n",
      "127  2.90      1\n",
      "128  3.19      1\n",
      "129  3.06      1\n",
      "130  3.64      1\n",
      "131  3.21      1\n",
      "132  2.87      1\n",
      "133  3.66      1\n",
      "134  2.71      1\n",
      "135  3.39      1\n",
      "136  3.33      1\n",
      "137  3.07      1\n",
      "138  3.24      1\n",
      "139  3.27      1\n",
      "140  3.38      1\n",
      "141  1.91      1\n",
      "142  1.70      1\n",
      "\n",
      "[143 rows x 2 columns]\n",
      "=========== 2017 =======\n",
      "Number of Students: 276\n",
      "     CGPA  count\n",
      "0    2.48      5\n",
      "1    2.68      5\n",
      "2    2.52      5\n",
      "3    2.79      5\n",
      "4    2.31      4\n",
      "5    2.22      4\n",
      "6    2.13      4\n",
      "7    2.40      4\n",
      "8    2.65      4\n",
      "9    2.80      4\n",
      "10   2.44      4\n",
      "11   2.26      4\n",
      "12   2.11      3\n",
      "13   2.73      3\n",
      "14   3.17      3\n",
      "15   2.39      3\n",
      "16   2.93      3\n",
      "17   3.02      3\n",
      "18   2.37      3\n",
      "19   3.08      3\n",
      "20   3.15      3\n",
      "21   3.57      3\n",
      "22   2.64      3\n",
      "23   3.12      3\n",
      "24   2.25      3\n",
      "25   2.94      3\n",
      "26   2.29      3\n",
      "27   3.19      3\n",
      "28   3.53      3\n",
      "29   2.61      3\n",
      "..    ...    ...\n",
      "126  1.74      1\n",
      "127  2.41      1\n",
      "128  3.01      1\n",
      "129  2.30      1\n",
      "130  3.80      1\n",
      "131  3.28      1\n",
      "132  3.87      1\n",
      "133  2.35      1\n",
      "134  3.29      1\n",
      "135  2.58      1\n",
      "136  2.14      1\n",
      "137  1.81      1\n",
      "138  2.77      1\n",
      "139  3.31      1\n",
      "140  3.11      1\n",
      "141  3.47      1\n",
      "142  1.27      1\n",
      "143  2.09      1\n",
      "144  3.38      1\n",
      "145  3.32      1\n",
      "146  2.33      1\n",
      "147  3.14      1\n",
      "148  2.67      1\n",
      "149  3.16      1\n",
      "150  3.58      1\n",
      "151  2.98      1\n",
      "152  3.30      1\n",
      "153  2.05      1\n",
      "154  1.90      1\n",
      "155  2.00      1\n",
      "\n",
      "[156 rows x 2 columns]\n",
      "=========== 2018 =======\n",
      "Number of Students: 411\n",
      "     CGPA  count\n",
      "0    0.00     11\n",
      "1    3.01      9\n",
      "2    2.42      7\n",
      "3    2.52      6\n",
      "4    2.35      6\n",
      "5    2.39      5\n",
      "6    2.36      5\n",
      "7    2.58      5\n",
      "8    2.83      5\n",
      "9    2.38      5\n",
      "10   2.84      5\n",
      "11   3.37      5\n",
      "12   3.00      5\n",
      "13   2.51      5\n",
      "14   2.68      5\n",
      "15   2.05      4\n",
      "16   2.70      4\n",
      "17   2.14      4\n",
      "18   2.33      4\n",
      "19   2.91      4\n",
      "20   2.40      4\n",
      "21   1.92      4\n",
      "22   2.64      4\n",
      "23   2.53      4\n",
      "24   3.10      4\n",
      "25   2.90      4\n",
      "26   2.94      4\n",
      "27   2.24      4\n",
      "28   2.97      4\n",
      "29   2.75      4\n",
      "..    ...    ...\n",
      "154  1.68      1\n",
      "155  0.57      1\n",
      "156  3.13      1\n",
      "157  0.51      1\n",
      "158  3.08      1\n",
      "159  2.89      1\n",
      "160  3.55      1\n",
      "161  1.31      1\n",
      "162  3.77      1\n",
      "163  3.46      1\n",
      "164  1.73      1\n",
      "165  3.30      1\n",
      "166  3.36      1\n",
      "167  2.13      1\n",
      "168  2.15      1\n",
      "169  3.45      1\n",
      "170  1.77      1\n",
      "171  2.48      1\n",
      "172  3.82      1\n",
      "173  1.38      1\n",
      "174  1.59      1\n",
      "175  2.87      1\n",
      "176  3.86      1\n",
      "177  2.01      1\n",
      "178  3.41      1\n",
      "179  1.83      1\n",
      "180  2.16      1\n",
      "181  3.73      1\n",
      "182  3.39      1\n",
      "183  3.09      1\n",
      "\n",
      "[184 rows x 2 columns]\n",
      "=========== 2019 =======\n",
      "Number of Students: 468\n",
      "   CGPA  count\n",
      "0   0.0    468\n"
     ]
    }
   ],
   "source": [
    "for year in df['Year of Admission and Batch of the student'].unique():\n",
    "    print(\"===========\",year,\"=======\")\n",
    "    df1 = df[df['Year of Admission and Batch of the student']==year]\n",
    "    print(\"Number of Students:\",len(df1))\n",
    "    df2 = pd.DataFrame(df1['Cumulative GPA'].value_counts())\n",
    "    df2 = df2.reset_index()\n",
    "    df2.columns=['CGPA','count']\n",
    "    print(df2)"
   ]
  },
  {
   "cell_type": "markdown",
   "metadata": {},
   "source": [
    "## 2) Do students with specific Matric and HSSC background excel at the University level or there is no such trend?"
   ]
  },
  {
   "cell_type": "code",
   "execution_count": 14,
   "metadata": {},
   "outputs": [
    {
     "name": "stdout",
     "output_type": "stream",
     "text": [
      "<class 'pandas.core.frame.DataFrame'>\n",
      "RangeIndex: 1573 entries, 0 to 1572\n",
      "Data columns (total 22 columns):\n",
      "Year of Admission and Batch of the student    1573 non-null int64\n",
      "Gender                                        1573 non-null object\n",
      "Resedential Area and city of origin           1573 non-null object\n",
      "SSC Marks                                     1140 non-null float64\n",
      "HSSC Marks                                    730 non-null float64\n",
      "Entry Test Score Marks                        1568 non-null float64\n",
      "1st Semester                                  1572 non-null float64\n",
      "2nd Semester                                  1090 non-null float64\n",
      "3rd Semester                                  1066 non-null float64\n",
      "4th Semester                                  712 non-null float64\n",
      "5th Semester                                  679 non-null float64\n",
      "6th Semester                                  463 non-null float64\n",
      "7th Semester                                  410 non-null float64\n",
      "8th Semester                                  187 non-null float64\n",
      "9th Semester                                  96 non-null float64\n",
      "10th Semester                                 60 non-null float64\n",
      "11th Semester                                 40 non-null float64\n",
      "12th Semester                                 28 non-null float64\n",
      "13th Semester                                 17 non-null float64\n",
      "14th Semester                                 12 non-null float64\n",
      "15th Semester                                 5 non-null float64\n",
      "Cumulative GPA                                1573 non-null float64\n",
      "dtypes: float64(19), int64(1), object(2)\n",
      "memory usage: 270.4+ KB\n"
     ]
    }
   ],
   "source": [
    "df.info(null_counts=True)"
   ]
  },
  {
   "cell_type": "code",
   "execution_count": 15,
   "metadata": {},
   "outputs": [
    {
     "data": {
      "text/plain": [
       "SSC Marks         27.527018\n",
       "HSSC Marks        53.591863\n",
       "Cumulative GPA     0.000000\n",
       "dtype: float64"
      ]
     },
     "execution_count": 15,
     "metadata": {},
     "output_type": "execute_result"
    }
   ],
   "source": [
    "df1 = df[[\"SSC Marks\",\"HSSC Marks\",\"Cumulative GPA\"]]\n",
    "df1.isna().sum() / 1573 * 100"
   ]
  },
  {
   "cell_type": "code",
   "execution_count": 16,
   "metadata": {},
   "outputs": [
    {
     "name": "stderr",
     "output_type": "stream",
     "text": [
      "/home/muhammadqasim/anaconda3/lib/python3.7/site-packages/pandas/core/frame.py:3790: SettingWithCopyWarning: \n",
      "A value is trying to be set on a copy of a slice from a DataFrame\n",
      "\n",
      "See the caveats in the documentation: http://pandas.pydata.org/pandas-docs/stable/indexing.html#indexing-view-versus-copy\n",
      "  downcast=downcast, **kwargs)\n"
     ]
    },
    {
     "data": {
      "text/plain": [
       "SSC Marks         0.0\n",
       "HSSC Marks        0.0\n",
       "Cumulative GPA    0.0\n",
       "dtype: float64"
      ]
     },
     "execution_count": 16,
     "metadata": {},
     "output_type": "execute_result"
    }
   ],
   "source": [
    "df1.fillna(value=0, inplace=True)\n",
    "df1.isna().sum() /1573 *100"
   ]
  },
  {
   "cell_type": "code",
   "execution_count": 80,
   "metadata": {},
   "outputs": [
    {
     "data": {
      "text/plain": [
       "<matplotlib.axes._subplots.AxesSubplot at 0x7f343b1beac8>"
      ]
     },
     "execution_count": 80,
     "metadata": {},
     "output_type": "execute_result"
    },
    {
     "data": {
      "image/png": "[encoded data removed]",
      "text/plain": [
       "<Figure size 432x288 with 1 Axes>"
      ]
     },
     "metadata": {
      "needs_background": "light"
     },
     "output_type": "display_data"
    }
   ],
   "source": [
    "df1.corr(method ='pearson').plot(kind='bar')"
   ]
  },
  {
   "cell_type": "code",
   "execution_count": 81,
   "metadata": {},
   "outputs": [
    {
     "data": {
      "text/plain": [
       "<matplotlib.axes._subplots.AxesSubplot at 0x7f3431783da0>"
      ]
     },
     "execution_count": 81,
     "metadata": {},
     "output_type": "execute_result"
    },
    {
     "data": {
      "image/png": "[encoded data removed]",
      "text/plain": [
       "<Figure size 432x288 with 1 Axes>"
      ]
     },
     "metadata": {
      "needs_background": "light"
     },
     "output_type": "display_data"
    }
   ],
   "source": [
    "df1[df1['Cumulative GPA']>=2.0].corr(method ='pearson').plot(kind='bar')"
   ]
  },
  {
   "cell_type": "code",
   "execution_count": 82,
   "metadata": {},
   "outputs": [
    {
     "data": {
      "text/plain": [
       "<matplotlib.axes._subplots.AxesSubplot at 0x7f343b670978>"
      ]
     },
     "execution_count": 82,
     "metadata": {},
     "output_type": "execute_result"
    },
    {
     "data": {
      "image/png": "[encoded data removed]",
      "text/plain": [
       "<Figure size 432x288 with 1 Axes>"
      ]
     },
     "metadata": {
      "needs_background": "light"
     },
     "output_type": "display_data"
    }
   ],
   "source": [
    "df1[df1['Cumulative GPA']<2.0].corr(method ='pearson').plot(kind='bar')"
   ]
  },
  {
   "cell_type": "markdown",
   "metadata": {},
   "source": [
    "# 3) In which subject have the students face difficulties over the past few years because of which FAST has a lower GPA trend?"
   ]
  },
  {
   "cell_type": "code",
   "execution_count": 92,
   "metadata": {},
   "outputs": [
    {
     "data": {
      "text/plain": [
       "Index(['Year of Admission and Batch of the student', 'Gender',\n",
       "       'Resedential Area and city of origin', 'SSC Marks', 'HSSC Marks',\n",
       "       'Entry Test Score Marks', '1st Semester', '2nd Semester',\n",
       "       '3rd Semester', '4th Semester', '5th Semester', '6th Semester',\n",
       "       '7th Semester', '8th Semester', '9th Semester', '10th Semester',\n",
       "       '11th Semester', '12th Semester', '13th Semester', '14th Semester',\n",
       "       '15th Semester', 'Cumulative GPA'],\n",
       "      dtype='object')"
      ]
     },
     "execution_count": 92,
     "metadata": {},
     "output_type": "execute_result"
    }
   ],
   "source": [
    "df.columns"
   ]
  },
  {
   "cell_type": "code",
   "execution_count": 262,
   "metadata": {},
   "outputs": [],
   "source": [
    "df1=df.loc[:,'1st Semester':'15th Semester']"
   ]
  },
  {
   "cell_type": "code",
   "execution_count": 263,
   "metadata": {},
   "outputs": [
    {
     "data": {
      "text/plain": [
       "<matplotlib.axes._subplots.AxesSubplot at 0x7f3419466710>"
      ]
     },
     "execution_count": 263,
     "metadata": {},
     "output_type": "execute_result"
    },
    {
     "data": {
      "image/png": "[encoded data removed]",
      "text/plain": [
       "<Figure size 432x288 with 2 Axes>"
      ]
     },
     "metadata": {
      "needs_background": "light"
     },
     "output_type": "display_data"
    }
   ],
   "source": [
    "import seaborn as sns\n",
    "%matplotlib inline\n",
    "\n",
    "sns.heatmap(df1, annot=True)"
   ]
  },
  {
   "cell_type": "code",
   "execution_count": 264,
   "metadata": {},
   "outputs": [
    {
     "data": {
      "text/plain": [
       "<matplotlib.axes._subplots.AxesSubplot at 0x7f341a9edb38>"
      ]
     },
     "execution_count": 264,
     "metadata": {},
     "output_type": "execute_result"
    },
    {
     "data": {
      "image/png": "[encoded data removed]",
      "text/plain": [
       "<Figure size 432x288 with 2 Axes>"
      ]
     },
     "metadata": {
      "needs_background": "light"
     },
     "output_type": "display_data"
    }
   ],
   "source": [
    "sns.heatmap(df1, cmap='RdYlGn_r',  annot=True)"
   ]
  },
  {
   "cell_type": "raw",
   "metadata": {},
   "source": [
    "df1.style.background_gradient(cmap='Blues')"
   ]
  },
  {
   "cell_type": "markdown",
   "metadata": {},
   "source": [
    "# 4) Do we have an improvement trend of students who get into warnings during their study periods?\n",
    "\n",
    "- we don't hav any column here where we can find warning"
   ]
  },
  {
   "cell_type": "code",
   "execution_count": 248,
   "metadata": {},
   "outputs": [
    {
     "data": {
      "text/plain": [
       "Index(['Year of Admission and Batch of the student', 'Gender',\n",
       "       'Resedential Area and city of origin', 'SSC Marks', 'HSSC Marks',\n",
       "       'Entry Test Score Marks', '1st Semester', '2nd Semester',\n",
       "       '3rd Semester', '4th Semester', '5th Semester', '6th Semester',\n",
       "       '7th Semester', '8th Semester', '9th Semester', '10th Semester',\n",
       "       '11th Semester', '12th Semester', '13th Semester', '14th Semester',\n",
       "       '15th Semester', 'Cumulative GPA'],\n",
       "      dtype='object')"
      ]
     },
     "execution_count": 248,
     "metadata": {},
     "output_type": "execute_result"
    }
   ],
   "source": [
    "df.columns"
   ]
  },
  {
   "cell_type": "code",
   "execution_count": 271,
   "metadata": {},
   "outputs": [],
   "source": [
    "def warning_count(x):\n",
    "    return len([i for i in x if (i < 2 and i != np.nan)])"
   ]
  },
  {
   "cell_type": "code",
   "execution_count": 317,
   "metadata": {},
   "outputs": [
    {
     "name": "stderr",
     "output_type": "stream",
     "text": [
      "/home/muhammadqasim/anaconda3/lib/python3.7/site-packages/numpy/lib/function_base.py:390: RuntimeWarning: Mean of empty slice.\n",
      "  avg = a.mean(axis)\n",
      "/home/muhammadqasim/anaconda3/lib/python3.7/site-packages/numpy/core/_methods.py:161: RuntimeWarning: invalid value encountered in double_scalars\n",
      "  ret = ret.dtype.type(ret / rcount)\n"
     ]
    },
    {
     "data": {
      "text/html": [
       "<div>\n",
       "<style scoped>\n",
       "    .dataframe tbody tr th:only-of-type {\n",
       "        vertical-align: middle;\n",
       "    }\n",
       "\n",
       "    .dataframe tbody tr th {\n",
       "        vertical-align: top;\n",
       "    }\n",
       "\n",
       "    .dataframe thead th {\n",
       "        text-align: right;\n",
       "    }\n",
       "</style>\n",
       "<table border=\"1\" class=\"dataframe\">\n",
       "  <thead>\n",
       "    <tr style=\"text-align: right;\">\n",
       "      <th></th>\n",
       "      <th>Year of Admission and Batch of the student</th>\n",
       "      <th>Gender</th>\n",
       "      <th>Resedential Area and city of origin</th>\n",
       "      <th>SSC Marks</th>\n",
       "      <th>HSSC Marks</th>\n",
       "      <th>Entry Test Score Marks</th>\n",
       "      <th>1st Semester</th>\n",
       "      <th>2nd Semester</th>\n",
       "      <th>3rd Semester</th>\n",
       "      <th>4th Semester</th>\n",
       "      <th>...</th>\n",
       "      <th>9th Semester</th>\n",
       "      <th>10th Semester</th>\n",
       "      <th>11th Semester</th>\n",
       "      <th>12th Semester</th>\n",
       "      <th>13th Semester</th>\n",
       "      <th>14th Semester</th>\n",
       "      <th>15th Semester</th>\n",
       "      <th>Cumulative GPA</th>\n",
       "      <th>warning_count</th>\n",
       "      <th>wm</th>\n",
       "    </tr>\n",
       "  </thead>\n",
       "  <tbody>\n",
       "    <tr>\n",
       "      <th>0</th>\n",
       "      <td>2012</td>\n",
       "      <td>M</td>\n",
       "      <td>Karachi</td>\n",
       "      <td>645.0</td>\n",
       "      <td>364.0</td>\n",
       "      <td>43.68</td>\n",
       "      <td>1.41</td>\n",
       "      <td>2.15</td>\n",
       "      <td>2.00</td>\n",
       "      <td>2.10</td>\n",
       "      <td>...</td>\n",
       "      <td>2.00</td>\n",
       "      <td>0.69</td>\n",
       "      <td>2.33</td>\n",
       "      <td>1.60</td>\n",
       "      <td>2.00</td>\n",
       "      <td>1.08</td>\n",
       "      <td>0.00</td>\n",
       "      <td>1.92</td>\n",
       "      <td>10</td>\n",
       "      <td>124</td>\n",
       "    </tr>\n",
       "    <tr>\n",
       "      <th>1</th>\n",
       "      <td>2013</td>\n",
       "      <td>M</td>\n",
       "      <td>Karachi</td>\n",
       "      <td>638.0</td>\n",
       "      <td>312.0</td>\n",
       "      <td>47.04</td>\n",
       "      <td>1.22</td>\n",
       "      <td>2.31</td>\n",
       "      <td>1.98</td>\n",
       "      <td>0.41</td>\n",
       "      <td>...</td>\n",
       "      <td>1.23</td>\n",
       "      <td>1.15</td>\n",
       "      <td>0.00</td>\n",
       "      <td>1.67</td>\n",
       "      <td>1.50</td>\n",
       "      <td>0.00</td>\n",
       "      <td>0.00</td>\n",
       "      <td>2.09</td>\n",
       "      <td>12</td>\n",
       "      <td>165</td>\n",
       "    </tr>\n",
       "    <tr>\n",
       "      <th>2</th>\n",
       "      <td>2013</td>\n",
       "      <td>M</td>\n",
       "      <td>Karachi</td>\n",
       "      <td>693.0</td>\n",
       "      <td>686.0</td>\n",
       "      <td>47.73</td>\n",
       "      <td>1.74</td>\n",
       "      <td>1.54</td>\n",
       "      <td>2.85</td>\n",
       "      <td>1.35</td>\n",
       "      <td>...</td>\n",
       "      <td>1.07</td>\n",
       "      <td>2.04</td>\n",
       "      <td>2.00</td>\n",
       "      <td>2.07</td>\n",
       "      <td>1.44</td>\n",
       "      <td>1.33</td>\n",
       "      <td>NaN</td>\n",
       "      <td>2.00</td>\n",
       "      <td>9</td>\n",
       "      <td>-9223372036854775808</td>\n",
       "    </tr>\n",
       "    <tr>\n",
       "      <th>3</th>\n",
       "      <td>2013</td>\n",
       "      <td>M</td>\n",
       "      <td>Karachi</td>\n",
       "      <td>649.0</td>\n",
       "      <td>838.0</td>\n",
       "      <td>57.68</td>\n",
       "      <td>1.16</td>\n",
       "      <td>2.49</td>\n",
       "      <td>1.61</td>\n",
       "      <td>1.04</td>\n",
       "      <td>...</td>\n",
       "      <td>1.62</td>\n",
       "      <td>3.33</td>\n",
       "      <td>2.40</td>\n",
       "      <td>2.05</td>\n",
       "      <td>2.67</td>\n",
       "      <td>2.08</td>\n",
       "      <td>1.33</td>\n",
       "      <td>2.14</td>\n",
       "      <td>8</td>\n",
       "      <td>155</td>\n",
       "    </tr>\n",
       "    <tr>\n",
       "      <th>4</th>\n",
       "      <td>2013</td>\n",
       "      <td>M</td>\n",
       "      <td>Karachi</td>\n",
       "      <td>705.0</td>\n",
       "      <td>650.0</td>\n",
       "      <td>41.98</td>\n",
       "      <td>1.08</td>\n",
       "      <td>2.87</td>\n",
       "      <td>0.88</td>\n",
       "      <td>1.25</td>\n",
       "      <td>...</td>\n",
       "      <td>2.00</td>\n",
       "      <td>0.93</td>\n",
       "      <td>1.50</td>\n",
       "      <td>1.58</td>\n",
       "      <td>1.73</td>\n",
       "      <td>0.00</td>\n",
       "      <td>NaN</td>\n",
       "      <td>2.01</td>\n",
       "      <td>11</td>\n",
       "      <td>137</td>\n",
       "    </tr>\n",
       "  </tbody>\n",
       "</table>\n",
       "<p>5 rows × 24 columns</p>\n",
       "</div>"
      ],
      "text/plain": [
       "   Year of Admission and Batch of the student Gender  \\\n",
       "0                                        2012      M   \n",
       "1                                        2013      M   \n",
       "2                                        2013      M   \n",
       "3                                        2013      M   \n",
       "4                                        2013      M   \n",
       "\n",
       "  Resedential Area and city of origin  SSC Marks  HSSC Marks  \\\n",
       "0                             Karachi      645.0       364.0   \n",
       "1                             Karachi      638.0       312.0   \n",
       "2                             Karachi      693.0       686.0   \n",
       "3                             Karachi      649.0       838.0   \n",
       "4                             Karachi      705.0       650.0   \n",
       "\n",
       "   Entry Test Score Marks  1st Semester  2nd Semester  3rd Semester  \\\n",
       "0                   43.68          1.41          2.15          2.00   \n",
       "1                   47.04          1.22          2.31          1.98   \n",
       "2                   47.73          1.74          1.54          2.85   \n",
       "3                   57.68          1.16          2.49          1.61   \n",
       "4                   41.98          1.08          2.87          0.88   \n",
       "\n",
       "   4th Semester         ...           9th Semester  10th Semester  \\\n",
       "0          2.10         ...                   2.00           0.69   \n",
       "1          0.41         ...                   1.23           1.15   \n",
       "2          1.35         ...                   1.07           2.04   \n",
       "3          1.04         ...                   1.62           3.33   \n",
       "4          1.25         ...                   2.00           0.93   \n",
       "\n",
       "   11th Semester  12th Semester  13th Semester  14th Semester  15th Semester  \\\n",
       "0           2.33           1.60           2.00           1.08           0.00   \n",
       "1           0.00           1.67           1.50           0.00           0.00   \n",
       "2           2.00           2.07           1.44           1.33            NaN   \n",
       "3           2.40           2.05           2.67           2.08           1.33   \n",
       "4           1.50           1.58           1.73           0.00            NaN   \n",
       "\n",
       "   Cumulative GPA  warning_count                   wm  \n",
       "0            1.92             10                  124  \n",
       "1            2.09             12                  165  \n",
       "2            2.00              9 -9223372036854775808  \n",
       "3            2.14              8                  155  \n",
       "4            2.01             11                  137  \n",
       "\n",
       "[5 rows x 24 columns]"
      ]
     },
     "execution_count": 317,
     "metadata": {},
     "output_type": "execute_result"
    }
   ],
   "source": [
    "def warning_improve(x):\n",
    "    \n",
    "    a=[True if (i < 2 and i != np.nan) else False for i in x ]\n",
    "    l=[]\n",
    "    for i,v in enumerate(a):\n",
    "        if i<14 and v==True :\n",
    "            if x[i] !=0 and x[i+1]!=np.nan:\n",
    "                l.append((x[i+1]/x[i])*100)\n",
    "    try:\n",
    "        return np.int64(np.average(l))\n",
    "    except:\n",
    "        pass\n",
    "        \n",
    "df['wm']=df.iloc[:,6:-1].apply(warning_improve, axis=1)\n",
    "df.head()        "
   ]
  },
  {
   "cell_type": "code",
   "execution_count": 322,
   "metadata": {},
   "outputs": [
    {
     "data": {
      "text/plain": [
       "-9223372036854775808    1062\n",
       " 0                        21\n",
       " 141                      13\n",
       " 135                      10\n",
       " 132                      10\n",
       " 137                       9\n",
       " 148                       8\n",
       " 146                       8\n",
       " 134                       8\n",
       " 129                       8\n",
       " 164                       7\n",
       " 140                       7\n",
       " 128                       7\n",
       " 142                       7\n",
       " 124                       7\n",
       " 123                       7\n",
       " 161                       7\n",
       " 150                       7\n",
       " 130                       6\n",
       " 136                       6\n",
       " 158                       6\n",
       " 155                       6\n",
       " 120                       6\n",
       " 153                       6\n",
       " 147                       6\n",
       " 139                       6\n",
       " 169                       6\n",
       " 154                       5\n",
       " 144                       5\n",
       " 172                       5\n",
       "                        ... \n",
       " 228                       1\n",
       " 231                       1\n",
       " 234                       1\n",
       " 235                       1\n",
       " 240                       1\n",
       " 249                       1\n",
       " 202                       1\n",
       " 197                       1\n",
       " 103                       1\n",
       " 195                       1\n",
       " 109                       1\n",
       " 374                       1\n",
       " 370                       1\n",
       " 125                       1\n",
       " 367                       1\n",
       " 333                       1\n",
       " 310                       1\n",
       " 306                       1\n",
       " 295                       1\n",
       " 283                       1\n",
       " 256                       1\n",
       " 278                       1\n",
       " 266                       1\n",
       " 265                       1\n",
       " 386                       1\n",
       " 260                       1\n",
       " 259                       1\n",
       " 188                       1\n",
       " 194                       1\n",
       " 411                       1\n",
       "Name: wm, Length: 183, dtype: int64"
      ]
     },
     "execution_count": 322,
     "metadata": {},
     "output_type": "execute_result"
    }
   ],
   "source": [
    "df.wm.value_counts()"
   ]
  },
  {
   "cell_type": "code",
   "execution_count": 273,
   "metadata": {},
   "outputs": [
    {
     "data": {
      "text/html": [
       "<div>\n",
       "<style scoped>\n",
       "    .dataframe tbody tr th:only-of-type {\n",
       "        vertical-align: middle;\n",
       "    }\n",
       "\n",
       "    .dataframe tbody tr th {\n",
       "        vertical-align: top;\n",
       "    }\n",
       "\n",
       "    .dataframe thead th {\n",
       "        text-align: right;\n",
       "    }\n",
       "</style>\n",
       "<table border=\"1\" class=\"dataframe\">\n",
       "  <thead>\n",
       "    <tr style=\"text-align: right;\">\n",
       "      <th></th>\n",
       "      <th>Year of Admission and Batch of the student</th>\n",
       "      <th>Gender</th>\n",
       "      <th>Resedential Area and city of origin</th>\n",
       "      <th>SSC Marks</th>\n",
       "      <th>HSSC Marks</th>\n",
       "      <th>Entry Test Score Marks</th>\n",
       "      <th>1st Semester</th>\n",
       "      <th>2nd Semester</th>\n",
       "      <th>3rd Semester</th>\n",
       "      <th>4th Semester</th>\n",
       "      <th>...</th>\n",
       "      <th>8th Semester</th>\n",
       "      <th>9th Semester</th>\n",
       "      <th>10th Semester</th>\n",
       "      <th>11th Semester</th>\n",
       "      <th>12th Semester</th>\n",
       "      <th>13th Semester</th>\n",
       "      <th>14th Semester</th>\n",
       "      <th>15th Semester</th>\n",
       "      <th>Cumulative GPA</th>\n",
       "      <th>warning_count</th>\n",
       "    </tr>\n",
       "  </thead>\n",
       "  <tbody>\n",
       "    <tr>\n",
       "      <th>1568</th>\n",
       "      <td>2019</td>\n",
       "      <td>M</td>\n",
       "      <td>Karachi</td>\n",
       "      <td>704.0</td>\n",
       "      <td>NaN</td>\n",
       "      <td>60.13</td>\n",
       "      <td>0.0</td>\n",
       "      <td>NaN</td>\n",
       "      <td>NaN</td>\n",
       "      <td>NaN</td>\n",
       "      <td>...</td>\n",
       "      <td>NaN</td>\n",
       "      <td>NaN</td>\n",
       "      <td>NaN</td>\n",
       "      <td>NaN</td>\n",
       "      <td>NaN</td>\n",
       "      <td>NaN</td>\n",
       "      <td>NaN</td>\n",
       "      <td>NaN</td>\n",
       "      <td>0.0</td>\n",
       "      <td>2</td>\n",
       "    </tr>\n",
       "    <tr>\n",
       "      <th>1569</th>\n",
       "      <td>2019</td>\n",
       "      <td>F</td>\n",
       "      <td>Karachi</td>\n",
       "      <td>737.0</td>\n",
       "      <td>NaN</td>\n",
       "      <td>60.88</td>\n",
       "      <td>0.0</td>\n",
       "      <td>NaN</td>\n",
       "      <td>NaN</td>\n",
       "      <td>NaN</td>\n",
       "      <td>...</td>\n",
       "      <td>NaN</td>\n",
       "      <td>NaN</td>\n",
       "      <td>NaN</td>\n",
       "      <td>NaN</td>\n",
       "      <td>NaN</td>\n",
       "      <td>NaN</td>\n",
       "      <td>NaN</td>\n",
       "      <td>NaN</td>\n",
       "      <td>0.0</td>\n",
       "      <td>2</td>\n",
       "    </tr>\n",
       "    <tr>\n",
       "      <th>1570</th>\n",
       "      <td>2019</td>\n",
       "      <td>M</td>\n",
       "      <td>Dadu</td>\n",
       "      <td>672.0</td>\n",
       "      <td>NaN</td>\n",
       "      <td>62.70</td>\n",
       "      <td>0.0</td>\n",
       "      <td>NaN</td>\n",
       "      <td>NaN</td>\n",
       "      <td>NaN</td>\n",
       "      <td>...</td>\n",
       "      <td>NaN</td>\n",
       "      <td>NaN</td>\n",
       "      <td>NaN</td>\n",
       "      <td>NaN</td>\n",
       "      <td>NaN</td>\n",
       "      <td>NaN</td>\n",
       "      <td>NaN</td>\n",
       "      <td>NaN</td>\n",
       "      <td>0.0</td>\n",
       "      <td>2</td>\n",
       "    </tr>\n",
       "    <tr>\n",
       "      <th>1571</th>\n",
       "      <td>2019</td>\n",
       "      <td>F</td>\n",
       "      <td>Karachi</td>\n",
       "      <td>739.0</td>\n",
       "      <td>NaN</td>\n",
       "      <td>70.02</td>\n",
       "      <td>0.0</td>\n",
       "      <td>NaN</td>\n",
       "      <td>NaN</td>\n",
       "      <td>NaN</td>\n",
       "      <td>...</td>\n",
       "      <td>NaN</td>\n",
       "      <td>NaN</td>\n",
       "      <td>NaN</td>\n",
       "      <td>NaN</td>\n",
       "      <td>NaN</td>\n",
       "      <td>NaN</td>\n",
       "      <td>NaN</td>\n",
       "      <td>NaN</td>\n",
       "      <td>0.0</td>\n",
       "      <td>2</td>\n",
       "    </tr>\n",
       "    <tr>\n",
       "      <th>1572</th>\n",
       "      <td>2019</td>\n",
       "      <td>F</td>\n",
       "      <td>Karachi</td>\n",
       "      <td>779.0</td>\n",
       "      <td>NaN</td>\n",
       "      <td>71.96</td>\n",
       "      <td>0.0</td>\n",
       "      <td>NaN</td>\n",
       "      <td>NaN</td>\n",
       "      <td>NaN</td>\n",
       "      <td>...</td>\n",
       "      <td>NaN</td>\n",
       "      <td>NaN</td>\n",
       "      <td>NaN</td>\n",
       "      <td>NaN</td>\n",
       "      <td>NaN</td>\n",
       "      <td>NaN</td>\n",
       "      <td>NaN</td>\n",
       "      <td>NaN</td>\n",
       "      <td>0.0</td>\n",
       "      <td>2</td>\n",
       "    </tr>\n",
       "  </tbody>\n",
       "</table>\n",
       "<p>5 rows × 23 columns</p>\n",
       "</div>"
      ],
      "text/plain": [
       "      Year of Admission and Batch of the student Gender  \\\n",
       "1568                                        2019      M   \n",
       "1569                                        2019      F   \n",
       "1570                                        2019      M   \n",
       "1571                                        2019      F   \n",
       "1572                                        2019      F   \n",
       "\n",
       "     Resedential Area and city of origin  SSC Marks  HSSC Marks  \\\n",
       "1568                             Karachi      704.0         NaN   \n",
       "1569                             Karachi      737.0         NaN   \n",
       "1570                                Dadu      672.0         NaN   \n",
       "1571                             Karachi      739.0         NaN   \n",
       "1572                             Karachi      779.0         NaN   \n",
       "\n",
       "      Entry Test Score Marks  1st Semester  2nd Semester  3rd Semester  \\\n",
       "1568                   60.13           0.0           NaN           NaN   \n",
       "1569                   60.88           0.0           NaN           NaN   \n",
       "1570                   62.70           0.0           NaN           NaN   \n",
       "1571                   70.02           0.0           NaN           NaN   \n",
       "1572                   71.96           0.0           NaN           NaN   \n",
       "\n",
       "      4th Semester      ...        8th Semester  9th Semester  10th Semester  \\\n",
       "1568           NaN      ...                 NaN           NaN            NaN   \n",
       "1569           NaN      ...                 NaN           NaN            NaN   \n",
       "1570           NaN      ...                 NaN           NaN            NaN   \n",
       "1571           NaN      ...                 NaN           NaN            NaN   \n",
       "1572           NaN      ...                 NaN           NaN            NaN   \n",
       "\n",
       "      11th Semester  12th Semester  13th Semester  14th Semester  \\\n",
       "1568            NaN            NaN            NaN            NaN   \n",
       "1569            NaN            NaN            NaN            NaN   \n",
       "1570            NaN            NaN            NaN            NaN   \n",
       "1571            NaN            NaN            NaN            NaN   \n",
       "1572            NaN            NaN            NaN            NaN   \n",
       "\n",
       "      15th Semester  Cumulative GPA  warning_count  \n",
       "1568            NaN             0.0              2  \n",
       "1569            NaN             0.0              2  \n",
       "1570            NaN             0.0              2  \n",
       "1571            NaN             0.0              2  \n",
       "1572            NaN             0.0              2  \n",
       "\n",
       "[5 rows x 23 columns]"
      ]
     },
     "execution_count": 273,
     "metadata": {},
     "output_type": "execute_result"
    }
   ],
   "source": [
    "df['warning_count'] = df.iloc[:,6:-1].apply(warning_count, axis=1)\n",
    "df.tail()"
   ]
  },
  {
   "cell_type": "code",
   "execution_count": 265,
   "metadata": {},
   "outputs": [
    {
     "data": {
      "text/html": [
       "<div>\n",
       "<style scoped>\n",
       "    .dataframe tbody tr th:only-of-type {\n",
       "        vertical-align: middle;\n",
       "    }\n",
       "\n",
       "    .dataframe tbody tr th {\n",
       "        vertical-align: top;\n",
       "    }\n",
       "\n",
       "    .dataframe thead th {\n",
       "        text-align: right;\n",
       "    }\n",
       "</style>\n",
       "<table border=\"1\" class=\"dataframe\">\n",
       "  <thead>\n",
       "    <tr style=\"text-align: right;\">\n",
       "      <th></th>\n",
       "      <th>1st Semester</th>\n",
       "      <th>2nd Semester</th>\n",
       "      <th>3rd Semester</th>\n",
       "      <th>4th Semester</th>\n",
       "      <th>5th Semester</th>\n",
       "      <th>6th Semester</th>\n",
       "      <th>7th Semester</th>\n",
       "      <th>8th Semester</th>\n",
       "      <th>9th Semester</th>\n",
       "      <th>10th Semester</th>\n",
       "      <th>11th Semester</th>\n",
       "      <th>12th Semester</th>\n",
       "      <th>13th Semester</th>\n",
       "      <th>14th Semester</th>\n",
       "      <th>15th Semester</th>\n",
       "      <th>Cumulative GPA</th>\n",
       "    </tr>\n",
       "  </thead>\n",
       "  <tbody>\n",
       "    <tr>\n",
       "      <th>0</th>\n",
       "      <td>1.41</td>\n",
       "      <td>2.15</td>\n",
       "      <td>2.00</td>\n",
       "      <td>2.10</td>\n",
       "      <td>1.37</td>\n",
       "      <td>0.00</td>\n",
       "      <td>1.50</td>\n",
       "      <td>1.10</td>\n",
       "      <td>2.00</td>\n",
       "      <td>0.69</td>\n",
       "      <td>2.33</td>\n",
       "      <td>1.60</td>\n",
       "      <td>2.00</td>\n",
       "      <td>1.08</td>\n",
       "      <td>0.00</td>\n",
       "      <td>1.92</td>\n",
       "    </tr>\n",
       "    <tr>\n",
       "      <th>1</th>\n",
       "      <td>1.22</td>\n",
       "      <td>2.31</td>\n",
       "      <td>1.98</td>\n",
       "      <td>0.41</td>\n",
       "      <td>2.02</td>\n",
       "      <td>0.76</td>\n",
       "      <td>4.00</td>\n",
       "      <td>1.56</td>\n",
       "      <td>1.23</td>\n",
       "      <td>1.15</td>\n",
       "      <td>0.00</td>\n",
       "      <td>1.67</td>\n",
       "      <td>1.50</td>\n",
       "      <td>0.00</td>\n",
       "      <td>0.00</td>\n",
       "      <td>2.09</td>\n",
       "    </tr>\n",
       "    <tr>\n",
       "      <th>2</th>\n",
       "      <td>1.74</td>\n",
       "      <td>1.54</td>\n",
       "      <td>2.85</td>\n",
       "      <td>1.35</td>\n",
       "      <td>1.00</td>\n",
       "      <td>1.67</td>\n",
       "      <td>1.52</td>\n",
       "      <td>3.00</td>\n",
       "      <td>1.07</td>\n",
       "      <td>2.04</td>\n",
       "      <td>2.00</td>\n",
       "      <td>2.07</td>\n",
       "      <td>1.44</td>\n",
       "      <td>1.33</td>\n",
       "      <td>NaN</td>\n",
       "      <td>2.00</td>\n",
       "    </tr>\n",
       "    <tr>\n",
       "      <th>3</th>\n",
       "      <td>1.16</td>\n",
       "      <td>2.49</td>\n",
       "      <td>1.61</td>\n",
       "      <td>1.04</td>\n",
       "      <td>2.73</td>\n",
       "      <td>1.43</td>\n",
       "      <td>1.00</td>\n",
       "      <td>1.78</td>\n",
       "      <td>1.62</td>\n",
       "      <td>3.33</td>\n",
       "      <td>2.40</td>\n",
       "      <td>2.05</td>\n",
       "      <td>2.67</td>\n",
       "      <td>2.08</td>\n",
       "      <td>1.33</td>\n",
       "      <td>2.14</td>\n",
       "    </tr>\n",
       "    <tr>\n",
       "      <th>4</th>\n",
       "      <td>1.08</td>\n",
       "      <td>2.87</td>\n",
       "      <td>0.88</td>\n",
       "      <td>1.25</td>\n",
       "      <td>3.33</td>\n",
       "      <td>1.72</td>\n",
       "      <td>1.31</td>\n",
       "      <td>1.90</td>\n",
       "      <td>2.00</td>\n",
       "      <td>0.93</td>\n",
       "      <td>1.50</td>\n",
       "      <td>1.58</td>\n",
       "      <td>1.73</td>\n",
       "      <td>0.00</td>\n",
       "      <td>NaN</td>\n",
       "      <td>2.01</td>\n",
       "    </tr>\n",
       "    <tr>\n",
       "      <th>5</th>\n",
       "      <td>1.31</td>\n",
       "      <td>2.40</td>\n",
       "      <td>1.82</td>\n",
       "      <td>1.28</td>\n",
       "      <td>1.67</td>\n",
       "      <td>0.91</td>\n",
       "      <td>1.81</td>\n",
       "      <td>3.00</td>\n",
       "      <td>1.33</td>\n",
       "      <td>1.93</td>\n",
       "      <td>3.33</td>\n",
       "      <td>2.33</td>\n",
       "      <td>2.11</td>\n",
       "      <td>1.00</td>\n",
       "      <td>NaN</td>\n",
       "      <td>2.10</td>\n",
       "    </tr>\n",
       "    <tr>\n",
       "      <th>6</th>\n",
       "      <td>1.38</td>\n",
       "      <td>3.17</td>\n",
       "      <td>2.22</td>\n",
       "      <td>3.33</td>\n",
       "      <td>0.00</td>\n",
       "      <td>2.09</td>\n",
       "      <td>1.33</td>\n",
       "      <td>2.17</td>\n",
       "      <td>2.10</td>\n",
       "      <td>2.00</td>\n",
       "      <td>3.00</td>\n",
       "      <td>0.82</td>\n",
       "      <td>3.17</td>\n",
       "      <td>0.00</td>\n",
       "      <td>NaN</td>\n",
       "      <td>2.23</td>\n",
       "    </tr>\n",
       "    <tr>\n",
       "      <th>7</th>\n",
       "      <td>0.41</td>\n",
       "      <td>2.21</td>\n",
       "      <td>1.20</td>\n",
       "      <td>1.69</td>\n",
       "      <td>3.83</td>\n",
       "      <td>1.61</td>\n",
       "      <td>2.00</td>\n",
       "      <td>1.83</td>\n",
       "      <td>0.23</td>\n",
       "      <td>0.57</td>\n",
       "      <td>2.53</td>\n",
       "      <td>0.00</td>\n",
       "      <td>0.75</td>\n",
       "      <td>1.40</td>\n",
       "      <td>0.00</td>\n",
       "      <td>2.00</td>\n",
       "    </tr>\n",
       "    <tr>\n",
       "      <th>8</th>\n",
       "      <td>0.41</td>\n",
       "      <td>1.39</td>\n",
       "      <td>3.50</td>\n",
       "      <td>0.95</td>\n",
       "      <td>0.00</td>\n",
       "      <td>0.84</td>\n",
       "      <td>2.24</td>\n",
       "      <td>2.33</td>\n",
       "      <td>0.00</td>\n",
       "      <td>1.60</td>\n",
       "      <td>2.66</td>\n",
       "      <td>2.00</td>\n",
       "      <td>2.25</td>\n",
       "      <td>0.00</td>\n",
       "      <td>NaN</td>\n",
       "      <td>2.19</td>\n",
       "    </tr>\n",
       "    <tr>\n",
       "      <th>9</th>\n",
       "      <td>0.31</td>\n",
       "      <td>2.31</td>\n",
       "      <td>1.96</td>\n",
       "      <td>1.77</td>\n",
       "      <td>1.00</td>\n",
       "      <td>3.33</td>\n",
       "      <td>1.41</td>\n",
       "      <td>0.00</td>\n",
       "      <td>1.67</td>\n",
       "      <td>2.05</td>\n",
       "      <td>2.24</td>\n",
       "      <td>2.80</td>\n",
       "      <td>0.00</td>\n",
       "      <td>NaN</td>\n",
       "      <td>NaN</td>\n",
       "      <td>2.18</td>\n",
       "    </tr>\n",
       "    <tr>\n",
       "      <th>10</th>\n",
       "      <td>1.65</td>\n",
       "      <td>3.08</td>\n",
       "      <td>1.90</td>\n",
       "      <td>1.71</td>\n",
       "      <td>1.32</td>\n",
       "      <td>1.12</td>\n",
       "      <td>2.00</td>\n",
       "      <td>1.33</td>\n",
       "      <td>1.50</td>\n",
       "      <td>0.57</td>\n",
       "      <td>2.18</td>\n",
       "      <td>1.95</td>\n",
       "      <td>0.00</td>\n",
       "      <td>NaN</td>\n",
       "      <td>NaN</td>\n",
       "      <td>2.05</td>\n",
       "    </tr>\n",
       "    <tr>\n",
       "      <th>11</th>\n",
       "      <td>2.37</td>\n",
       "      <td>1.92</td>\n",
       "      <td>1.06</td>\n",
       "      <td>2.54</td>\n",
       "      <td>2.67</td>\n",
       "      <td>2.02</td>\n",
       "      <td>1.33</td>\n",
       "      <td>2.22</td>\n",
       "      <td>1.94</td>\n",
       "      <td>2.67</td>\n",
       "      <td>NaN</td>\n",
       "      <td>NaN</td>\n",
       "      <td>NaN</td>\n",
       "      <td>NaN</td>\n",
       "      <td>NaN</td>\n",
       "      <td>2.10</td>\n",
       "    </tr>\n",
       "    <tr>\n",
       "      <th>12</th>\n",
       "      <td>1.18</td>\n",
       "      <td>2.85</td>\n",
       "      <td>2.34</td>\n",
       "      <td>2.71</td>\n",
       "      <td>1.17</td>\n",
       "      <td>1.95</td>\n",
       "      <td>1.95</td>\n",
       "      <td>0.23</td>\n",
       "      <td>1.06</td>\n",
       "      <td>2.03</td>\n",
       "      <td>2.22</td>\n",
       "      <td>0.00</td>\n",
       "      <td>NaN</td>\n",
       "      <td>NaN</td>\n",
       "      <td>NaN</td>\n",
       "      <td>2.09</td>\n",
       "    </tr>\n",
       "    <tr>\n",
       "      <th>13</th>\n",
       "      <td>1.92</td>\n",
       "      <td>1.12</td>\n",
       "      <td>1.75</td>\n",
       "      <td>1.29</td>\n",
       "      <td>1.84</td>\n",
       "      <td>0.60</td>\n",
       "      <td>2.20</td>\n",
       "      <td>1.28</td>\n",
       "      <td>1.62</td>\n",
       "      <td>1.40</td>\n",
       "      <td>2.34</td>\n",
       "      <td>2.14</td>\n",
       "      <td>1.88</td>\n",
       "      <td>1.00</td>\n",
       "      <td>0.00</td>\n",
       "      <td>2.08</td>\n",
       "    </tr>\n",
       "    <tr>\n",
       "      <th>14</th>\n",
       "      <td>1.82</td>\n",
       "      <td>2.23</td>\n",
       "      <td>2.16</td>\n",
       "      <td>0.65</td>\n",
       "      <td>2.67</td>\n",
       "      <td>0.72</td>\n",
       "      <td>1.61</td>\n",
       "      <td>0.67</td>\n",
       "      <td>0.29</td>\n",
       "      <td>1.62</td>\n",
       "      <td>2.00</td>\n",
       "      <td>0.00</td>\n",
       "      <td>NaN</td>\n",
       "      <td>NaN</td>\n",
       "      <td>NaN</td>\n",
       "      <td>2.09</td>\n",
       "    </tr>\n",
       "    <tr>\n",
       "      <th>15</th>\n",
       "      <td>1.16</td>\n",
       "      <td>2.58</td>\n",
       "      <td>1.33</td>\n",
       "      <td>0.54</td>\n",
       "      <td>1.42</td>\n",
       "      <td>1.74</td>\n",
       "      <td>0.00</td>\n",
       "      <td>1.08</td>\n",
       "      <td>2.17</td>\n",
       "      <td>1.43</td>\n",
       "      <td>2.00</td>\n",
       "      <td>0.00</td>\n",
       "      <td>NaN</td>\n",
       "      <td>NaN</td>\n",
       "      <td>NaN</td>\n",
       "      <td>2.00</td>\n",
       "    </tr>\n",
       "    <tr>\n",
       "      <th>16</th>\n",
       "      <td>1.51</td>\n",
       "      <td>2.06</td>\n",
       "      <td>1.42</td>\n",
       "      <td>0.65</td>\n",
       "      <td>1.08</td>\n",
       "      <td>2.34</td>\n",
       "      <td>0.00</td>\n",
       "      <td>0.96</td>\n",
       "      <td>0.00</td>\n",
       "      <td>2.41</td>\n",
       "      <td>1.28</td>\n",
       "      <td>0.00</td>\n",
       "      <td>NaN</td>\n",
       "      <td>NaN</td>\n",
       "      <td>NaN</td>\n",
       "      <td>1.86</td>\n",
       "    </tr>\n",
       "    <tr>\n",
       "      <th>17</th>\n",
       "      <td>2.16</td>\n",
       "      <td>1.63</td>\n",
       "      <td>2.08</td>\n",
       "      <td>1.00</td>\n",
       "      <td>2.13</td>\n",
       "      <td>1.00</td>\n",
       "      <td>0.80</td>\n",
       "      <td>1.53</td>\n",
       "      <td>2.67</td>\n",
       "      <td>3.33</td>\n",
       "      <td>1.44</td>\n",
       "      <td>2.61</td>\n",
       "      <td>0.00</td>\n",
       "      <td>NaN</td>\n",
       "      <td>NaN</td>\n",
       "      <td>2.13</td>\n",
       "    </tr>\n",
       "    <tr>\n",
       "      <th>18</th>\n",
       "      <td>2.61</td>\n",
       "      <td>1.28</td>\n",
       "      <td>1.75</td>\n",
       "      <td>0.25</td>\n",
       "      <td>2.26</td>\n",
       "      <td>1.02</td>\n",
       "      <td>1.63</td>\n",
       "      <td>2.90</td>\n",
       "      <td>1.05</td>\n",
       "      <td>0.50</td>\n",
       "      <td>2.11</td>\n",
       "      <td>2.34</td>\n",
       "      <td>0.00</td>\n",
       "      <td>NaN</td>\n",
       "      <td>NaN</td>\n",
       "      <td>2.12</td>\n",
       "    </tr>\n",
       "    <tr>\n",
       "      <th>19</th>\n",
       "      <td>0.80</td>\n",
       "      <td>2.50</td>\n",
       "      <td>0.33</td>\n",
       "      <td>1.51</td>\n",
       "      <td>1.22</td>\n",
       "      <td>1.33</td>\n",
       "      <td>1.46</td>\n",
       "      <td>1.53</td>\n",
       "      <td>1.50</td>\n",
       "      <td>0.00</td>\n",
       "      <td>1.70</td>\n",
       "      <td>0.00</td>\n",
       "      <td>NaN</td>\n",
       "      <td>NaN</td>\n",
       "      <td>NaN</td>\n",
       "      <td>1.94</td>\n",
       "    </tr>\n",
       "    <tr>\n",
       "      <th>20</th>\n",
       "      <td>1.80</td>\n",
       "      <td>2.12</td>\n",
       "      <td>2.14</td>\n",
       "      <td>1.15</td>\n",
       "      <td>1.12</td>\n",
       "      <td>0.39</td>\n",
       "      <td>1.35</td>\n",
       "      <td>0.54</td>\n",
       "      <td>1.44</td>\n",
       "      <td>2.29</td>\n",
       "      <td>2.00</td>\n",
       "      <td>0.93</td>\n",
       "      <td>1.00</td>\n",
       "      <td>0.00</td>\n",
       "      <td>NaN</td>\n",
       "      <td>1.83</td>\n",
       "    </tr>\n",
       "    <tr>\n",
       "      <th>21</th>\n",
       "      <td>1.25</td>\n",
       "      <td>2.31</td>\n",
       "      <td>1.86</td>\n",
       "      <td>1.69</td>\n",
       "      <td>1.00</td>\n",
       "      <td>1.90</td>\n",
       "      <td>2.96</td>\n",
       "      <td>2.33</td>\n",
       "      <td>1.19</td>\n",
       "      <td>1.23</td>\n",
       "      <td>1.67</td>\n",
       "      <td>1.93</td>\n",
       "      <td>2.59</td>\n",
       "      <td>0.00</td>\n",
       "      <td>NaN</td>\n",
       "      <td>2.12</td>\n",
       "    </tr>\n",
       "    <tr>\n",
       "      <th>22</th>\n",
       "      <td>1.87</td>\n",
       "      <td>1.56</td>\n",
       "      <td>2.17</td>\n",
       "      <td>1.36</td>\n",
       "      <td>0.79</td>\n",
       "      <td>2.88</td>\n",
       "      <td>1.82</td>\n",
       "      <td>1.87</td>\n",
       "      <td>1.92</td>\n",
       "      <td>0.00</td>\n",
       "      <td>NaN</td>\n",
       "      <td>NaN</td>\n",
       "      <td>NaN</td>\n",
       "      <td>NaN</td>\n",
       "      <td>NaN</td>\n",
       "      <td>2.17</td>\n",
       "    </tr>\n",
       "    <tr>\n",
       "      <th>23</th>\n",
       "      <td>1.52</td>\n",
       "      <td>0.00</td>\n",
       "      <td>2.50</td>\n",
       "      <td>1.67</td>\n",
       "      <td>0.70</td>\n",
       "      <td>2.10</td>\n",
       "      <td>2.38</td>\n",
       "      <td>1.70</td>\n",
       "      <td>1.80</td>\n",
       "      <td>3.00</td>\n",
       "      <td>1.16</td>\n",
       "      <td>2.18</td>\n",
       "      <td>0.00</td>\n",
       "      <td>NaN</td>\n",
       "      <td>NaN</td>\n",
       "      <td>2.01</td>\n",
       "    </tr>\n",
       "    <tr>\n",
       "      <th>24</th>\n",
       "      <td>2.68</td>\n",
       "      <td>2.04</td>\n",
       "      <td>1.50</td>\n",
       "      <td>2.14</td>\n",
       "      <td>1.82</td>\n",
       "      <td>1.25</td>\n",
       "      <td>2.34</td>\n",
       "      <td>2.40</td>\n",
       "      <td>2.61</td>\n",
       "      <td>0.00</td>\n",
       "      <td>NaN</td>\n",
       "      <td>NaN</td>\n",
       "      <td>NaN</td>\n",
       "      <td>NaN</td>\n",
       "      <td>NaN</td>\n",
       "      <td>2.17</td>\n",
       "    </tr>\n",
       "    <tr>\n",
       "      <th>25</th>\n",
       "      <td>2.08</td>\n",
       "      <td>1.84</td>\n",
       "      <td>2.20</td>\n",
       "      <td>2.92</td>\n",
       "      <td>4.00</td>\n",
       "      <td>1.49</td>\n",
       "      <td>1.44</td>\n",
       "      <td>2.67</td>\n",
       "      <td>2.44</td>\n",
       "      <td>1.62</td>\n",
       "      <td>0.00</td>\n",
       "      <td>NaN</td>\n",
       "      <td>NaN</td>\n",
       "      <td>NaN</td>\n",
       "      <td>NaN</td>\n",
       "      <td>2.15</td>\n",
       "    </tr>\n",
       "    <tr>\n",
       "      <th>26</th>\n",
       "      <td>1.14</td>\n",
       "      <td>2.06</td>\n",
       "      <td>3.29</td>\n",
       "      <td>2.33</td>\n",
       "      <td>2.72</td>\n",
       "      <td>1.21</td>\n",
       "      <td>1.82</td>\n",
       "      <td>2.10</td>\n",
       "      <td>2.56</td>\n",
       "      <td>0.00</td>\n",
       "      <td>NaN</td>\n",
       "      <td>NaN</td>\n",
       "      <td>NaN</td>\n",
       "      <td>NaN</td>\n",
       "      <td>NaN</td>\n",
       "      <td>2.22</td>\n",
       "    </tr>\n",
       "    <tr>\n",
       "      <th>27</th>\n",
       "      <td>1.16</td>\n",
       "      <td>2.31</td>\n",
       "      <td>1.23</td>\n",
       "      <td>1.61</td>\n",
       "      <td>0.00</td>\n",
       "      <td>0.38</td>\n",
       "      <td>2.17</td>\n",
       "      <td>0.43</td>\n",
       "      <td>2.36</td>\n",
       "      <td>1.96</td>\n",
       "      <td>2.00</td>\n",
       "      <td>0.00</td>\n",
       "      <td>NaN</td>\n",
       "      <td>NaN</td>\n",
       "      <td>NaN</td>\n",
       "      <td>2.19</td>\n",
       "    </tr>\n",
       "    <tr>\n",
       "      <th>28</th>\n",
       "      <td>1.35</td>\n",
       "      <td>1.88</td>\n",
       "      <td>1.67</td>\n",
       "      <td>1.96</td>\n",
       "      <td>3.00</td>\n",
       "      <td>1.84</td>\n",
       "      <td>1.19</td>\n",
       "      <td>2.17</td>\n",
       "      <td>1.33</td>\n",
       "      <td>2.40</td>\n",
       "      <td>0.00</td>\n",
       "      <td>NaN</td>\n",
       "      <td>NaN</td>\n",
       "      <td>NaN</td>\n",
       "      <td>NaN</td>\n",
       "      <td>2.11</td>\n",
       "    </tr>\n",
       "    <tr>\n",
       "      <th>29</th>\n",
       "      <td>1.70</td>\n",
       "      <td>2.00</td>\n",
       "      <td>1.36</td>\n",
       "      <td>2.75</td>\n",
       "      <td>1.67</td>\n",
       "      <td>1.00</td>\n",
       "      <td>2.29</td>\n",
       "      <td>1.00</td>\n",
       "      <td>1.71</td>\n",
       "      <td>2.67</td>\n",
       "      <td>0.00</td>\n",
       "      <td>NaN</td>\n",
       "      <td>NaN</td>\n",
       "      <td>NaN</td>\n",
       "      <td>NaN</td>\n",
       "      <td>2.06</td>\n",
       "    </tr>\n",
       "    <tr>\n",
       "      <th>...</th>\n",
       "      <td>...</td>\n",
       "      <td>...</td>\n",
       "      <td>...</td>\n",
       "      <td>...</td>\n",
       "      <td>...</td>\n",
       "      <td>...</td>\n",
       "      <td>...</td>\n",
       "      <td>...</td>\n",
       "      <td>...</td>\n",
       "      <td>...</td>\n",
       "      <td>...</td>\n",
       "      <td>...</td>\n",
       "      <td>...</td>\n",
       "      <td>...</td>\n",
       "      <td>...</td>\n",
       "      <td>...</td>\n",
       "    </tr>\n",
       "    <tr>\n",
       "      <th>1543</th>\n",
       "      <td>0.00</td>\n",
       "      <td>NaN</td>\n",
       "      <td>NaN</td>\n",
       "      <td>NaN</td>\n",
       "      <td>NaN</td>\n",
       "      <td>NaN</td>\n",
       "      <td>NaN</td>\n",
       "      <td>NaN</td>\n",
       "      <td>NaN</td>\n",
       "      <td>NaN</td>\n",
       "      <td>NaN</td>\n",
       "      <td>NaN</td>\n",
       "      <td>NaN</td>\n",
       "      <td>NaN</td>\n",
       "      <td>NaN</td>\n",
       "      <td>0.00</td>\n",
       "    </tr>\n",
       "    <tr>\n",
       "      <th>1544</th>\n",
       "      <td>0.00</td>\n",
       "      <td>NaN</td>\n",
       "      <td>NaN</td>\n",
       "      <td>NaN</td>\n",
       "      <td>NaN</td>\n",
       "      <td>NaN</td>\n",
       "      <td>NaN</td>\n",
       "      <td>NaN</td>\n",
       "      <td>NaN</td>\n",
       "      <td>NaN</td>\n",
       "      <td>NaN</td>\n",
       "      <td>NaN</td>\n",
       "      <td>NaN</td>\n",
       "      <td>NaN</td>\n",
       "      <td>NaN</td>\n",
       "      <td>0.00</td>\n",
       "    </tr>\n",
       "    <tr>\n",
       "      <th>1545</th>\n",
       "      <td>0.00</td>\n",
       "      <td>NaN</td>\n",
       "      <td>NaN</td>\n",
       "      <td>NaN</td>\n",
       "      <td>NaN</td>\n",
       "      <td>NaN</td>\n",
       "      <td>NaN</td>\n",
       "      <td>NaN</td>\n",
       "      <td>NaN</td>\n",
       "      <td>NaN</td>\n",
       "      <td>NaN</td>\n",
       "      <td>NaN</td>\n",
       "      <td>NaN</td>\n",
       "      <td>NaN</td>\n",
       "      <td>NaN</td>\n",
       "      <td>0.00</td>\n",
       "    </tr>\n",
       "    <tr>\n",
       "      <th>1546</th>\n",
       "      <td>0.00</td>\n",
       "      <td>NaN</td>\n",
       "      <td>NaN</td>\n",
       "      <td>NaN</td>\n",
       "      <td>NaN</td>\n",
       "      <td>NaN</td>\n",
       "      <td>NaN</td>\n",
       "      <td>NaN</td>\n",
       "      <td>NaN</td>\n",
       "      <td>NaN</td>\n",
       "      <td>NaN</td>\n",
       "      <td>NaN</td>\n",
       "      <td>NaN</td>\n",
       "      <td>NaN</td>\n",
       "      <td>NaN</td>\n",
       "      <td>0.00</td>\n",
       "    </tr>\n",
       "    <tr>\n",
       "      <th>1547</th>\n",
       "      <td>0.00</td>\n",
       "      <td>NaN</td>\n",
       "      <td>NaN</td>\n",
       "      <td>NaN</td>\n",
       "      <td>NaN</td>\n",
       "      <td>NaN</td>\n",
       "      <td>NaN</td>\n",
       "      <td>NaN</td>\n",
       "      <td>NaN</td>\n",
       "      <td>NaN</td>\n",
       "      <td>NaN</td>\n",
       "      <td>NaN</td>\n",
       "      <td>NaN</td>\n",
       "      <td>NaN</td>\n",
       "      <td>NaN</td>\n",
       "      <td>0.00</td>\n",
       "    </tr>\n",
       "    <tr>\n",
       "      <th>1548</th>\n",
       "      <td>0.00</td>\n",
       "      <td>NaN</td>\n",
       "      <td>NaN</td>\n",
       "      <td>NaN</td>\n",
       "      <td>NaN</td>\n",
       "      <td>NaN</td>\n",
       "      <td>NaN</td>\n",
       "      <td>NaN</td>\n",
       "      <td>NaN</td>\n",
       "      <td>NaN</td>\n",
       "      <td>NaN</td>\n",
       "      <td>NaN</td>\n",
       "      <td>NaN</td>\n",
       "      <td>NaN</td>\n",
       "      <td>NaN</td>\n",
       "      <td>0.00</td>\n",
       "    </tr>\n",
       "    <tr>\n",
       "      <th>1549</th>\n",
       "      <td>0.00</td>\n",
       "      <td>NaN</td>\n",
       "      <td>NaN</td>\n",
       "      <td>NaN</td>\n",
       "      <td>NaN</td>\n",
       "      <td>NaN</td>\n",
       "      <td>NaN</td>\n",
       "      <td>NaN</td>\n",
       "      <td>NaN</td>\n",
       "      <td>NaN</td>\n",
       "      <td>NaN</td>\n",
       "      <td>NaN</td>\n",
       "      <td>NaN</td>\n",
       "      <td>NaN</td>\n",
       "      <td>NaN</td>\n",
       "      <td>0.00</td>\n",
       "    </tr>\n",
       "    <tr>\n",
       "      <th>1550</th>\n",
       "      <td>0.00</td>\n",
       "      <td>NaN</td>\n",
       "      <td>NaN</td>\n",
       "      <td>NaN</td>\n",
       "      <td>NaN</td>\n",
       "      <td>NaN</td>\n",
       "      <td>NaN</td>\n",
       "      <td>NaN</td>\n",
       "      <td>NaN</td>\n",
       "      <td>NaN</td>\n",
       "      <td>NaN</td>\n",
       "      <td>NaN</td>\n",
       "      <td>NaN</td>\n",
       "      <td>NaN</td>\n",
       "      <td>NaN</td>\n",
       "      <td>0.00</td>\n",
       "    </tr>\n",
       "    <tr>\n",
       "      <th>1551</th>\n",
       "      <td>0.00</td>\n",
       "      <td>NaN</td>\n",
       "      <td>NaN</td>\n",
       "      <td>NaN</td>\n",
       "      <td>NaN</td>\n",
       "      <td>NaN</td>\n",
       "      <td>NaN</td>\n",
       "      <td>NaN</td>\n",
       "      <td>NaN</td>\n",
       "      <td>NaN</td>\n",
       "      <td>NaN</td>\n",
       "      <td>NaN</td>\n",
       "      <td>NaN</td>\n",
       "      <td>NaN</td>\n",
       "      <td>NaN</td>\n",
       "      <td>0.00</td>\n",
       "    </tr>\n",
       "    <tr>\n",
       "      <th>1552</th>\n",
       "      <td>0.00</td>\n",
       "      <td>NaN</td>\n",
       "      <td>NaN</td>\n",
       "      <td>NaN</td>\n",
       "      <td>NaN</td>\n",
       "      <td>NaN</td>\n",
       "      <td>NaN</td>\n",
       "      <td>NaN</td>\n",
       "      <td>NaN</td>\n",
       "      <td>NaN</td>\n",
       "      <td>NaN</td>\n",
       "      <td>NaN</td>\n",
       "      <td>NaN</td>\n",
       "      <td>NaN</td>\n",
       "      <td>NaN</td>\n",
       "      <td>0.00</td>\n",
       "    </tr>\n",
       "    <tr>\n",
       "      <th>1553</th>\n",
       "      <td>0.00</td>\n",
       "      <td>NaN</td>\n",
       "      <td>NaN</td>\n",
       "      <td>NaN</td>\n",
       "      <td>NaN</td>\n",
       "      <td>NaN</td>\n",
       "      <td>NaN</td>\n",
       "      <td>NaN</td>\n",
       "      <td>NaN</td>\n",
       "      <td>NaN</td>\n",
       "      <td>NaN</td>\n",
       "      <td>NaN</td>\n",
       "      <td>NaN</td>\n",
       "      <td>NaN</td>\n",
       "      <td>NaN</td>\n",
       "      <td>0.00</td>\n",
       "    </tr>\n",
       "    <tr>\n",
       "      <th>1554</th>\n",
       "      <td>0.00</td>\n",
       "      <td>NaN</td>\n",
       "      <td>NaN</td>\n",
       "      <td>NaN</td>\n",
       "      <td>NaN</td>\n",
       "      <td>NaN</td>\n",
       "      <td>NaN</td>\n",
       "      <td>NaN</td>\n",
       "      <td>NaN</td>\n",
       "      <td>NaN</td>\n",
       "      <td>NaN</td>\n",
       "      <td>NaN</td>\n",
       "      <td>NaN</td>\n",
       "      <td>NaN</td>\n",
       "      <td>NaN</td>\n",
       "      <td>0.00</td>\n",
       "    </tr>\n",
       "    <tr>\n",
       "      <th>1555</th>\n",
       "      <td>0.00</td>\n",
       "      <td>NaN</td>\n",
       "      <td>NaN</td>\n",
       "      <td>NaN</td>\n",
       "      <td>NaN</td>\n",
       "      <td>NaN</td>\n",
       "      <td>NaN</td>\n",
       "      <td>NaN</td>\n",
       "      <td>NaN</td>\n",
       "      <td>NaN</td>\n",
       "      <td>NaN</td>\n",
       "      <td>NaN</td>\n",
       "      <td>NaN</td>\n",
       "      <td>NaN</td>\n",
       "      <td>NaN</td>\n",
       "      <td>0.00</td>\n",
       "    </tr>\n",
       "    <tr>\n",
       "      <th>1556</th>\n",
       "      <td>0.00</td>\n",
       "      <td>NaN</td>\n",
       "      <td>NaN</td>\n",
       "      <td>NaN</td>\n",
       "      <td>NaN</td>\n",
       "      <td>NaN</td>\n",
       "      <td>NaN</td>\n",
       "      <td>NaN</td>\n",
       "      <td>NaN</td>\n",
       "      <td>NaN</td>\n",
       "      <td>NaN</td>\n",
       "      <td>NaN</td>\n",
       "      <td>NaN</td>\n",
       "      <td>NaN</td>\n",
       "      <td>NaN</td>\n",
       "      <td>0.00</td>\n",
       "    </tr>\n",
       "    <tr>\n",
       "      <th>1557</th>\n",
       "      <td>0.00</td>\n",
       "      <td>NaN</td>\n",
       "      <td>NaN</td>\n",
       "      <td>NaN</td>\n",
       "      <td>NaN</td>\n",
       "      <td>NaN</td>\n",
       "      <td>NaN</td>\n",
       "      <td>NaN</td>\n",
       "      <td>NaN</td>\n",
       "      <td>NaN</td>\n",
       "      <td>NaN</td>\n",
       "      <td>NaN</td>\n",
       "      <td>NaN</td>\n",
       "      <td>NaN</td>\n",
       "      <td>NaN</td>\n",
       "      <td>0.00</td>\n",
       "    </tr>\n",
       "    <tr>\n",
       "      <th>1558</th>\n",
       "      <td>0.00</td>\n",
       "      <td>NaN</td>\n",
       "      <td>NaN</td>\n",
       "      <td>NaN</td>\n",
       "      <td>NaN</td>\n",
       "      <td>NaN</td>\n",
       "      <td>NaN</td>\n",
       "      <td>NaN</td>\n",
       "      <td>NaN</td>\n",
       "      <td>NaN</td>\n",
       "      <td>NaN</td>\n",
       "      <td>NaN</td>\n",
       "      <td>NaN</td>\n",
       "      <td>NaN</td>\n",
       "      <td>NaN</td>\n",
       "      <td>0.00</td>\n",
       "    </tr>\n",
       "    <tr>\n",
       "      <th>1559</th>\n",
       "      <td>0.00</td>\n",
       "      <td>NaN</td>\n",
       "      <td>NaN</td>\n",
       "      <td>NaN</td>\n",
       "      <td>NaN</td>\n",
       "      <td>NaN</td>\n",
       "      <td>NaN</td>\n",
       "      <td>NaN</td>\n",
       "      <td>NaN</td>\n",
       "      <td>NaN</td>\n",
       "      <td>NaN</td>\n",
       "      <td>NaN</td>\n",
       "      <td>NaN</td>\n",
       "      <td>NaN</td>\n",
       "      <td>NaN</td>\n",
       "      <td>0.00</td>\n",
       "    </tr>\n",
       "    <tr>\n",
       "      <th>1560</th>\n",
       "      <td>0.00</td>\n",
       "      <td>NaN</td>\n",
       "      <td>NaN</td>\n",
       "      <td>NaN</td>\n",
       "      <td>NaN</td>\n",
       "      <td>NaN</td>\n",
       "      <td>NaN</td>\n",
       "      <td>NaN</td>\n",
       "      <td>NaN</td>\n",
       "      <td>NaN</td>\n",
       "      <td>NaN</td>\n",
       "      <td>NaN</td>\n",
       "      <td>NaN</td>\n",
       "      <td>NaN</td>\n",
       "      <td>NaN</td>\n",
       "      <td>0.00</td>\n",
       "    </tr>\n",
       "    <tr>\n",
       "      <th>1561</th>\n",
       "      <td>0.00</td>\n",
       "      <td>NaN</td>\n",
       "      <td>NaN</td>\n",
       "      <td>NaN</td>\n",
       "      <td>NaN</td>\n",
       "      <td>NaN</td>\n",
       "      <td>NaN</td>\n",
       "      <td>NaN</td>\n",
       "      <td>NaN</td>\n",
       "      <td>NaN</td>\n",
       "      <td>NaN</td>\n",
       "      <td>NaN</td>\n",
       "      <td>NaN</td>\n",
       "      <td>NaN</td>\n",
       "      <td>NaN</td>\n",
       "      <td>0.00</td>\n",
       "    </tr>\n",
       "    <tr>\n",
       "      <th>1562</th>\n",
       "      <td>0.00</td>\n",
       "      <td>NaN</td>\n",
       "      <td>NaN</td>\n",
       "      <td>NaN</td>\n",
       "      <td>NaN</td>\n",
       "      <td>NaN</td>\n",
       "      <td>NaN</td>\n",
       "      <td>NaN</td>\n",
       "      <td>NaN</td>\n",
       "      <td>NaN</td>\n",
       "      <td>NaN</td>\n",
       "      <td>NaN</td>\n",
       "      <td>NaN</td>\n",
       "      <td>NaN</td>\n",
       "      <td>NaN</td>\n",
       "      <td>0.00</td>\n",
       "    </tr>\n",
       "    <tr>\n",
       "      <th>1563</th>\n",
       "      <td>0.00</td>\n",
       "      <td>NaN</td>\n",
       "      <td>NaN</td>\n",
       "      <td>NaN</td>\n",
       "      <td>NaN</td>\n",
       "      <td>NaN</td>\n",
       "      <td>NaN</td>\n",
       "      <td>NaN</td>\n",
       "      <td>NaN</td>\n",
       "      <td>NaN</td>\n",
       "      <td>NaN</td>\n",
       "      <td>NaN</td>\n",
       "      <td>NaN</td>\n",
       "      <td>NaN</td>\n",
       "      <td>NaN</td>\n",
       "      <td>0.00</td>\n",
       "    </tr>\n",
       "    <tr>\n",
       "      <th>1564</th>\n",
       "      <td>0.00</td>\n",
       "      <td>NaN</td>\n",
       "      <td>NaN</td>\n",
       "      <td>NaN</td>\n",
       "      <td>NaN</td>\n",
       "      <td>NaN</td>\n",
       "      <td>NaN</td>\n",
       "      <td>NaN</td>\n",
       "      <td>NaN</td>\n",
       "      <td>NaN</td>\n",
       "      <td>NaN</td>\n",
       "      <td>NaN</td>\n",
       "      <td>NaN</td>\n",
       "      <td>NaN</td>\n",
       "      <td>NaN</td>\n",
       "      <td>0.00</td>\n",
       "    </tr>\n",
       "    <tr>\n",
       "      <th>1565</th>\n",
       "      <td>0.00</td>\n",
       "      <td>NaN</td>\n",
       "      <td>NaN</td>\n",
       "      <td>NaN</td>\n",
       "      <td>NaN</td>\n",
       "      <td>NaN</td>\n",
       "      <td>NaN</td>\n",
       "      <td>NaN</td>\n",
       "      <td>NaN</td>\n",
       "      <td>NaN</td>\n",
       "      <td>NaN</td>\n",
       "      <td>NaN</td>\n",
       "      <td>NaN</td>\n",
       "      <td>NaN</td>\n",
       "      <td>NaN</td>\n",
       "      <td>0.00</td>\n",
       "    </tr>\n",
       "    <tr>\n",
       "      <th>1566</th>\n",
       "      <td>0.00</td>\n",
       "      <td>NaN</td>\n",
       "      <td>NaN</td>\n",
       "      <td>NaN</td>\n",
       "      <td>NaN</td>\n",
       "      <td>NaN</td>\n",
       "      <td>NaN</td>\n",
       "      <td>NaN</td>\n",
       "      <td>NaN</td>\n",
       "      <td>NaN</td>\n",
       "      <td>NaN</td>\n",
       "      <td>NaN</td>\n",
       "      <td>NaN</td>\n",
       "      <td>NaN</td>\n",
       "      <td>NaN</td>\n",
       "      <td>0.00</td>\n",
       "    </tr>\n",
       "    <tr>\n",
       "      <th>1567</th>\n",
       "      <td>0.00</td>\n",
       "      <td>NaN</td>\n",
       "      <td>NaN</td>\n",
       "      <td>NaN</td>\n",
       "      <td>NaN</td>\n",
       "      <td>NaN</td>\n",
       "      <td>NaN</td>\n",
       "      <td>NaN</td>\n",
       "      <td>NaN</td>\n",
       "      <td>NaN</td>\n",
       "      <td>NaN</td>\n",
       "      <td>NaN</td>\n",
       "      <td>NaN</td>\n",
       "      <td>NaN</td>\n",
       "      <td>NaN</td>\n",
       "      <td>0.00</td>\n",
       "    </tr>\n",
       "    <tr>\n",
       "      <th>1568</th>\n",
       "      <td>0.00</td>\n",
       "      <td>NaN</td>\n",
       "      <td>NaN</td>\n",
       "      <td>NaN</td>\n",
       "      <td>NaN</td>\n",
       "      <td>NaN</td>\n",
       "      <td>NaN</td>\n",
       "      <td>NaN</td>\n",
       "      <td>NaN</td>\n",
       "      <td>NaN</td>\n",
       "      <td>NaN</td>\n",
       "      <td>NaN</td>\n",
       "      <td>NaN</td>\n",
       "      <td>NaN</td>\n",
       "      <td>NaN</td>\n",
       "      <td>0.00</td>\n",
       "    </tr>\n",
       "    <tr>\n",
       "      <th>1569</th>\n",
       "      <td>0.00</td>\n",
       "      <td>NaN</td>\n",
       "      <td>NaN</td>\n",
       "      <td>NaN</td>\n",
       "      <td>NaN</td>\n",
       "      <td>NaN</td>\n",
       "      <td>NaN</td>\n",
       "      <td>NaN</td>\n",
       "      <td>NaN</td>\n",
       "      <td>NaN</td>\n",
       "      <td>NaN</td>\n",
       "      <td>NaN</td>\n",
       "      <td>NaN</td>\n",
       "      <td>NaN</td>\n",
       "      <td>NaN</td>\n",
       "      <td>0.00</td>\n",
       "    </tr>\n",
       "    <tr>\n",
       "      <th>1570</th>\n",
       "      <td>0.00</td>\n",
       "      <td>NaN</td>\n",
       "      <td>NaN</td>\n",
       "      <td>NaN</td>\n",
       "      <td>NaN</td>\n",
       "      <td>NaN</td>\n",
       "      <td>NaN</td>\n",
       "      <td>NaN</td>\n",
       "      <td>NaN</td>\n",
       "      <td>NaN</td>\n",
       "      <td>NaN</td>\n",
       "      <td>NaN</td>\n",
       "      <td>NaN</td>\n",
       "      <td>NaN</td>\n",
       "      <td>NaN</td>\n",
       "      <td>0.00</td>\n",
       "    </tr>\n",
       "    <tr>\n",
       "      <th>1571</th>\n",
       "      <td>0.00</td>\n",
       "      <td>NaN</td>\n",
       "      <td>NaN</td>\n",
       "      <td>NaN</td>\n",
       "      <td>NaN</td>\n",
       "      <td>NaN</td>\n",
       "      <td>NaN</td>\n",
       "      <td>NaN</td>\n",
       "      <td>NaN</td>\n",
       "      <td>NaN</td>\n",
       "      <td>NaN</td>\n",
       "      <td>NaN</td>\n",
       "      <td>NaN</td>\n",
       "      <td>NaN</td>\n",
       "      <td>NaN</td>\n",
       "      <td>0.00</td>\n",
       "    </tr>\n",
       "    <tr>\n",
       "      <th>1572</th>\n",
       "      <td>0.00</td>\n",
       "      <td>NaN</td>\n",
       "      <td>NaN</td>\n",
       "      <td>NaN</td>\n",
       "      <td>NaN</td>\n",
       "      <td>NaN</td>\n",
       "      <td>NaN</td>\n",
       "      <td>NaN</td>\n",
       "      <td>NaN</td>\n",
       "      <td>NaN</td>\n",
       "      <td>NaN</td>\n",
       "      <td>NaN</td>\n",
       "      <td>NaN</td>\n",
       "      <td>NaN</td>\n",
       "      <td>NaN</td>\n",
       "      <td>0.00</td>\n",
       "    </tr>\n",
       "  </tbody>\n",
       "</table>\n",
       "<p>1573 rows × 16 columns</p>\n",
       "</div>"
      ],
      "text/plain": [
       "      1st Semester  2nd Semester  3rd Semester  4th Semester  5th Semester  \\\n",
       "0             1.41          2.15          2.00          2.10          1.37   \n",
       "1             1.22          2.31          1.98          0.41          2.02   \n",
       "2             1.74          1.54          2.85          1.35          1.00   \n",
       "3             1.16          2.49          1.61          1.04          2.73   \n",
       "4             1.08          2.87          0.88          1.25          3.33   \n",
       "5             1.31          2.40          1.82          1.28          1.67   \n",
       "6             1.38          3.17          2.22          3.33          0.00   \n",
       "7             0.41          2.21          1.20          1.69          3.83   \n",
       "8             0.41          1.39          3.50          0.95          0.00   \n",
       "9             0.31          2.31          1.96          1.77          1.00   \n",
       "10            1.65          3.08          1.90          1.71          1.32   \n",
       "11            2.37          1.92          1.06          2.54          2.67   \n",
       "12            1.18          2.85          2.34          2.71          1.17   \n",
       "13            1.92          1.12          1.75          1.29          1.84   \n",
       "14            1.82          2.23          2.16          0.65          2.67   \n",
       "15            1.16          2.58          1.33          0.54          1.42   \n",
       "16            1.51          2.06          1.42          0.65          1.08   \n",
       "17            2.16          1.63          2.08          1.00          2.13   \n",
       "18            2.61          1.28          1.75          0.25          2.26   \n",
       "19            0.80          2.50          0.33          1.51          1.22   \n",
       "20            1.80          2.12          2.14          1.15          1.12   \n",
       "21            1.25          2.31          1.86          1.69          1.00   \n",
       "22            1.87          1.56          2.17          1.36          0.79   \n",
       "23            1.52          0.00          2.50          1.67          0.70   \n",
       "24            2.68          2.04          1.50          2.14          1.82   \n",
       "25            2.08          1.84          2.20          2.92          4.00   \n",
       "26            1.14          2.06          3.29          2.33          2.72   \n",
       "27            1.16          2.31          1.23          1.61          0.00   \n",
       "28            1.35          1.88          1.67          1.96          3.00   \n",
       "29            1.70          2.00          1.36          2.75          1.67   \n",
       "...            ...           ...           ...           ...           ...   \n",
       "1543          0.00           NaN           NaN           NaN           NaN   \n",
       "1544          0.00           NaN           NaN           NaN           NaN   \n",
       "1545          0.00           NaN           NaN           NaN           NaN   \n",
       "1546          0.00           NaN           NaN           NaN           NaN   \n",
       "1547          0.00           NaN           NaN           NaN           NaN   \n",
       "1548          0.00           NaN           NaN           NaN           NaN   \n",
       "1549          0.00           NaN           NaN           NaN           NaN   \n",
       "1550          0.00           NaN           NaN           NaN           NaN   \n",
       "1551          0.00           NaN           NaN           NaN           NaN   \n",
       "1552          0.00           NaN           NaN           NaN           NaN   \n",
       "1553          0.00           NaN           NaN           NaN           NaN   \n",
       "1554          0.00           NaN           NaN           NaN           NaN   \n",
       "1555          0.00           NaN           NaN           NaN           NaN   \n",
       "1556          0.00           NaN           NaN           NaN           NaN   \n",
       "1557          0.00           NaN           NaN           NaN           NaN   \n",
       "1558          0.00           NaN           NaN           NaN           NaN   \n",
       "1559          0.00           NaN           NaN           NaN           NaN   \n",
       "1560          0.00           NaN           NaN           NaN           NaN   \n",
       "1561          0.00           NaN           NaN           NaN           NaN   \n",
       "1562          0.00           NaN           NaN           NaN           NaN   \n",
       "1563          0.00           NaN           NaN           NaN           NaN   \n",
       "1564          0.00           NaN           NaN           NaN           NaN   \n",
       "1565          0.00           NaN           NaN           NaN           NaN   \n",
       "1566          0.00           NaN           NaN           NaN           NaN   \n",
       "1567          0.00           NaN           NaN           NaN           NaN   \n",
       "1568          0.00           NaN           NaN           NaN           NaN   \n",
       "1569          0.00           NaN           NaN           NaN           NaN   \n",
       "1570          0.00           NaN           NaN           NaN           NaN   \n",
       "1571          0.00           NaN           NaN           NaN           NaN   \n",
       "1572          0.00           NaN           NaN           NaN           NaN   \n",
       "\n",
       "      6th Semester  7th Semester  8th Semester  9th Semester  10th Semester  \\\n",
       "0             0.00          1.50          1.10          2.00           0.69   \n",
       "1             0.76          4.00          1.56          1.23           1.15   \n",
       "2             1.67          1.52          3.00          1.07           2.04   \n",
       "3             1.43          1.00          1.78          1.62           3.33   \n",
       "4             1.72          1.31          1.90          2.00           0.93   \n",
       "5             0.91          1.81          3.00          1.33           1.93   \n",
       "6             2.09          1.33          2.17          2.10           2.00   \n",
       "7             1.61          2.00          1.83          0.23           0.57   \n",
       "8             0.84          2.24          2.33          0.00           1.60   \n",
       "9             3.33          1.41          0.00          1.67           2.05   \n",
       "10            1.12          2.00          1.33          1.50           0.57   \n",
       "11            2.02          1.33          2.22          1.94           2.67   \n",
       "12            1.95          1.95          0.23          1.06           2.03   \n",
       "13            0.60          2.20          1.28          1.62           1.40   \n",
       "14            0.72          1.61          0.67          0.29           1.62   \n",
       "15            1.74          0.00          1.08          2.17           1.43   \n",
       "16            2.34          0.00          0.96          0.00           2.41   \n",
       "17            1.00          0.80          1.53          2.67           3.33   \n",
       "18            1.02          1.63          2.90          1.05           0.50   \n",
       "19            1.33          1.46          1.53          1.50           0.00   \n",
       "20            0.39          1.35          0.54          1.44           2.29   \n",
       "21            1.90          2.96          2.33          1.19           1.23   \n",
       "22            2.88          1.82          1.87          1.92           0.00   \n",
       "23            2.10          2.38          1.70          1.80           3.00   \n",
       "24            1.25          2.34          2.40          2.61           0.00   \n",
       "25            1.49          1.44          2.67          2.44           1.62   \n",
       "26            1.21          1.82          2.10          2.56           0.00   \n",
       "27            0.38          2.17          0.43          2.36           1.96   \n",
       "28            1.84          1.19          2.17          1.33           2.40   \n",
       "29            1.00          2.29          1.00          1.71           2.67   \n",
       "...            ...           ...           ...           ...            ...   \n",
       "1543           NaN           NaN           NaN           NaN            NaN   \n",
       "1544           NaN           NaN           NaN           NaN            NaN   \n",
       "1545           NaN           NaN           NaN           NaN            NaN   \n",
       "1546           NaN           NaN           NaN           NaN            NaN   \n",
       "1547           NaN           NaN           NaN           NaN            NaN   \n",
       "1548           NaN           NaN           NaN           NaN            NaN   \n",
       "1549           NaN           NaN           NaN           NaN            NaN   \n",
       "1550           NaN           NaN           NaN           NaN            NaN   \n",
       "1551           NaN           NaN           NaN           NaN            NaN   \n",
       "1552           NaN           NaN           NaN           NaN            NaN   \n",
       "1553           NaN           NaN           NaN           NaN            NaN   \n",
       "1554           NaN           NaN           NaN           NaN            NaN   \n",
       "1555           NaN           NaN           NaN           NaN            NaN   \n",
       "1556           NaN           NaN           NaN           NaN            NaN   \n",
       "1557           NaN           NaN           NaN           NaN            NaN   \n",
       "1558           NaN           NaN           NaN           NaN            NaN   \n",
       "1559           NaN           NaN           NaN           NaN            NaN   \n",
       "1560           NaN           NaN           NaN           NaN            NaN   \n",
       "1561           NaN           NaN           NaN           NaN            NaN   \n",
       "1562           NaN           NaN           NaN           NaN            NaN   \n",
       "1563           NaN           NaN           NaN           NaN            NaN   \n",
       "1564           NaN           NaN           NaN           NaN            NaN   \n",
       "1565           NaN           NaN           NaN           NaN            NaN   \n",
       "1566           NaN           NaN           NaN           NaN            NaN   \n",
       "1567           NaN           NaN           NaN           NaN            NaN   \n",
       "1568           NaN           NaN           NaN           NaN            NaN   \n",
       "1569           NaN           NaN           NaN           NaN            NaN   \n",
       "1570           NaN           NaN           NaN           NaN            NaN   \n",
       "1571           NaN           NaN           NaN           NaN            NaN   \n",
       "1572           NaN           NaN           NaN           NaN            NaN   \n",
       "\n",
       "      11th Semester  12th Semester  13th Semester  14th Semester  \\\n",
       "0              2.33           1.60           2.00           1.08   \n",
       "1              0.00           1.67           1.50           0.00   \n",
       "2              2.00           2.07           1.44           1.33   \n",
       "3              2.40           2.05           2.67           2.08   \n",
       "4              1.50           1.58           1.73           0.00   \n",
       "5              3.33           2.33           2.11           1.00   \n",
       "6              3.00           0.82           3.17           0.00   \n",
       "7              2.53           0.00           0.75           1.40   \n",
       "8              2.66           2.00           2.25           0.00   \n",
       "9              2.24           2.80           0.00            NaN   \n",
       "10             2.18           1.95           0.00            NaN   \n",
       "11              NaN            NaN            NaN            NaN   \n",
       "12             2.22           0.00            NaN            NaN   \n",
       "13             2.34           2.14           1.88           1.00   \n",
       "14             2.00           0.00            NaN            NaN   \n",
       "15             2.00           0.00            NaN            NaN   \n",
       "16             1.28           0.00            NaN            NaN   \n",
       "17             1.44           2.61           0.00            NaN   \n",
       "18             2.11           2.34           0.00            NaN   \n",
       "19             1.70           0.00            NaN            NaN   \n",
       "20             2.00           0.93           1.00           0.00   \n",
       "21             1.67           1.93           2.59           0.00   \n",
       "22              NaN            NaN            NaN            NaN   \n",
       "23             1.16           2.18           0.00            NaN   \n",
       "24              NaN            NaN            NaN            NaN   \n",
       "25             0.00            NaN            NaN            NaN   \n",
       "26              NaN            NaN            NaN            NaN   \n",
       "27             2.00           0.00            NaN            NaN   \n",
       "28             0.00            NaN            NaN            NaN   \n",
       "29             0.00            NaN            NaN            NaN   \n",
       "...             ...            ...            ...            ...   \n",
       "1543            NaN            NaN            NaN            NaN   \n",
       "1544            NaN            NaN            NaN            NaN   \n",
       "1545            NaN            NaN            NaN            NaN   \n",
       "1546            NaN            NaN            NaN            NaN   \n",
       "1547            NaN            NaN            NaN            NaN   \n",
       "1548            NaN            NaN            NaN            NaN   \n",
       "1549            NaN            NaN            NaN            NaN   \n",
       "1550            NaN            NaN            NaN            NaN   \n",
       "1551            NaN            NaN            NaN            NaN   \n",
       "1552            NaN            NaN            NaN            NaN   \n",
       "1553            NaN            NaN            NaN            NaN   \n",
       "1554            NaN            NaN            NaN            NaN   \n",
       "1555            NaN            NaN            NaN            NaN   \n",
       "1556            NaN            NaN            NaN            NaN   \n",
       "1557            NaN            NaN            NaN            NaN   \n",
       "1558            NaN            NaN            NaN            NaN   \n",
       "1559            NaN            NaN            NaN            NaN   \n",
       "1560            NaN            NaN            NaN            NaN   \n",
       "1561            NaN            NaN            NaN            NaN   \n",
       "1562            NaN            NaN            NaN            NaN   \n",
       "1563            NaN            NaN            NaN            NaN   \n",
       "1564            NaN            NaN            NaN            NaN   \n",
       "1565            NaN            NaN            NaN            NaN   \n",
       "1566            NaN            NaN            NaN            NaN   \n",
       "1567            NaN            NaN            NaN            NaN   \n",
       "1568            NaN            NaN            NaN            NaN   \n",
       "1569            NaN            NaN            NaN            NaN   \n",
       "1570            NaN            NaN            NaN            NaN   \n",
       "1571            NaN            NaN            NaN            NaN   \n",
       "1572            NaN            NaN            NaN            NaN   \n",
       "\n",
       "      15th Semester  Cumulative GPA  \n",
       "0              0.00            1.92  \n",
       "1              0.00            2.09  \n",
       "2               NaN            2.00  \n",
       "3              1.33            2.14  \n",
       "4               NaN            2.01  \n",
       "5               NaN            2.10  \n",
       "6               NaN            2.23  \n",
       "7              0.00            2.00  \n",
       "8               NaN            2.19  \n",
       "9               NaN            2.18  \n",
       "10              NaN            2.05  \n",
       "11              NaN            2.10  \n",
       "12              NaN            2.09  \n",
       "13             0.00            2.08  \n",
       "14              NaN            2.09  \n",
       "15              NaN            2.00  \n",
       "16              NaN            1.86  \n",
       "17              NaN            2.13  \n",
       "18              NaN            2.12  \n",
       "19              NaN            1.94  \n",
       "20              NaN            1.83  \n",
       "21              NaN            2.12  \n",
       "22              NaN            2.17  \n",
       "23              NaN            2.01  \n",
       "24              NaN            2.17  \n",
       "25              NaN            2.15  \n",
       "26              NaN            2.22  \n",
       "27              NaN            2.19  \n",
       "28              NaN            2.11  \n",
       "29              NaN            2.06  \n",
       "...             ...             ...  \n",
       "1543            NaN            0.00  \n",
       "1544            NaN            0.00  \n",
       "1545            NaN            0.00  \n",
       "1546            NaN            0.00  \n",
       "1547            NaN            0.00  \n",
       "1548            NaN            0.00  \n",
       "1549            NaN            0.00  \n",
       "1550            NaN            0.00  \n",
       "1551            NaN            0.00  \n",
       "1552            NaN            0.00  \n",
       "1553            NaN            0.00  \n",
       "1554            NaN            0.00  \n",
       "1555            NaN            0.00  \n",
       "1556            NaN            0.00  \n",
       "1557            NaN            0.00  \n",
       "1558            NaN            0.00  \n",
       "1559            NaN            0.00  \n",
       "1560            NaN            0.00  \n",
       "1561            NaN            0.00  \n",
       "1562            NaN            0.00  \n",
       "1563            NaN            0.00  \n",
       "1564            NaN            0.00  \n",
       "1565            NaN            0.00  \n",
       "1566            NaN            0.00  \n",
       "1567            NaN            0.00  \n",
       "1568            NaN            0.00  \n",
       "1569            NaN            0.00  \n",
       "1570            NaN            0.00  \n",
       "1571            NaN            0.00  \n",
       "1572            NaN            0.00  \n",
       "\n",
       "[1573 rows x 16 columns]"
      ]
     },
     "execution_count": 265,
     "metadata": {},
     "output_type": "execute_result"
    }
   ],
   "source": [
    "df.iloc[:,6:-1]"
   ]
  },
  {
   "cell_type": "code",
   "execution_count": 259,
   "metadata": {},
   "outputs": [
    {
     "data": {
      "text/plain": [
       "array([10, 12,  9,  8, 11,  5,  4,  7,  3,  6,  2,  1,  0])"
      ]
     },
     "execution_count": 259,
     "metadata": {},
     "output_type": "execute_result"
    }
   ],
   "source": [
    "df['warning_count'].unique()"
   ]
  },
  {
   "cell_type": "markdown",
   "metadata": {},
   "source": [
    "# 5) Do we have a city or area-wise trend of students' performance?"
   ]
  },
  {
   "cell_type": "code",
   "execution_count": 109,
   "metadata": {},
   "outputs": [
    {
     "data": {
      "text/plain": [
       "array(['Karachi', 'Dadu', 'Others', 'Hyderabad', 'Lahore', 'Ghotki',\n",
       "       'Tharparkar', 'Larkana', 'Sukkur', 'Mirpur Khas', 'Umerkot',\n",
       "       'Rahim Yar Khan', 'Bahawalpur', 'Khairpur', 'Badin', 'Islamabad',\n",
       "       'Faisalabad', 'Shikarpur', 'Thatta', 'Naushero Feroze', 'Jamshoro',\n",
       "       'Rawalpindi', 'Sahiwal', 'Sanghar', 'Multan', 'Peshawar',\n",
       "       'Khuzdar', 'Lasbela'], dtype=object)"
      ]
     },
     "execution_count": 109,
     "metadata": {},
     "output_type": "execute_result"
    }
   ],
   "source": [
    "df['Resedential Area and city of origin'].unique()"
   ]
  },
  {
   "cell_type": "code",
   "execution_count": 245,
   "metadata": {},
   "outputs": [
    {
     "data": {
      "text/plain": [
       "28"
      ]
     },
     "execution_count": 245,
     "metadata": {},
     "output_type": "execute_result"
    }
   ],
   "source": [
    "len(df['Resedential Area and city of origin'].unique())"
   ]
  },
  {
   "cell_type": "code",
   "execution_count": 119,
   "metadata": {},
   "outputs": [
    {
     "data": {
      "text/plain": [
       "array([1.92, 2.09, 2.  , 2.14, 2.01, 2.1 , 2.23, 2.19, 2.18, 2.05, 2.08,\n",
       "       1.86, 2.13, 2.12, 1.94, 1.83, 2.17, 2.15, 2.22, 2.11, 2.06, 1.91,\n",
       "       2.4 , 2.32, 1.78, 1.85, 2.58, 2.04, 2.25, 2.03, 2.48, 2.34, 2.45,\n",
       "       2.38, 2.02, 2.24, 2.68, 3.07, 2.62, 3.17, 3.75, 2.53, 3.14, 2.95,\n",
       "       3.19, 2.54, 2.78, 2.92, 3.32, 3.06, 2.59, 2.49, 2.88, 3.88, 3.39,\n",
       "       2.21, 2.37, 2.81, 3.02, 2.35, 3.58, 3.79, 2.51, 2.94, 2.77, 2.27,\n",
       "       2.07, 2.41, 3.45, 3.28, 2.31, 2.99, 3.3 , 2.16, 2.47, 2.76, 2.74,\n",
       "       2.33, 2.65, 3.12, 3.66, 2.28, 2.85, 2.66, 3.1 , 2.3 , 2.42, 2.64,\n",
       "       2.43, 0.  , 3.21, 3.27, 2.96, 3.05, 2.52, 2.98, 2.69, 2.86, 2.82,\n",
       "       1.88, 2.8 , 2.55, 2.39, 3.37, 2.72, 2.26, 2.75, 3.54, 3.38, 3.34,\n",
       "       2.63, 2.61, 1.7 , 3.46, 2.97, 2.46, 3.16, 2.7 , 3.48, 3.42, 3.64,\n",
       "       1.98, 2.67, 2.6 , 2.5 , 3.31, 3.13, 1.87, 2.87, 2.89, 3.09, 2.71,\n",
       "       3.24, 2.57, 3.9 , 3.33, 2.44, 3.08, 3.11, 3.01, 2.36, 3.  , 2.91,\n",
       "       2.56, 3.43, 3.15, 1.81, 3.85, 3.4 , 2.93, 2.29, 2.9 , 1.11, 1.95,\n",
       "       3.61, 1.63, 1.57, 3.62, 3.2 , 3.49, 3.51, 2.79, 2.83, 3.7 , 3.47,\n",
       "       3.78, 3.03, 3.87, 3.53, 3.5 , 1.27, 3.25, 3.63, 3.57, 3.97, 2.73,\n",
       "       3.55, 1.73, 1.68, 1.9 , 3.6 , 3.59, 3.8 , 2.84, 1.74, 3.29, 2.2 ,\n",
       "       3.68, 3.36, 1.76, 3.56, 3.44, 3.84, 3.86, 3.71, 0.27, 3.83, 3.41,\n",
       "       3.65, 3.18, 3.04, 1.58, 3.35, 1.56, 0.62, 1.84, 3.73, 1.77, 1.75,\n",
       "       1.59, 3.82, 1.8 , 1.48, 1.96, 0.51, 0.57, 1.5 , 3.22, 3.77, 1.31,\n",
       "       1.45, 0.73, 1.41, 1.35, 1.22, 1.99, 1.38, 1.67, 0.9 , 0.32, 1.37])"
      ]
     },
     "execution_count": 119,
     "metadata": {},
     "output_type": "execute_result"
    }
   ],
   "source": [
    "df[~(df['Year of Admission and Batch of the student']==2019)]['Cumulative GPA'].unique()"
   ]
  },
  {
   "cell_type": "code",
   "execution_count": 107,
   "metadata": {},
   "outputs": [
    {
     "data": {
      "text/plain": [
       "Index(['Year of Admission and Batch of the student', 'Gender',\n",
       "       'Resedential Area and city of origin', 'SSC Marks', 'HSSC Marks',\n",
       "       'Entry Test Score Marks', '1st Semester', '2nd Semester',\n",
       "       '3rd Semester', '4th Semester', '5th Semester', '6th Semester',\n",
       "       '7th Semester', '8th Semester', '9th Semester', '10th Semester',\n",
       "       '11th Semester', '12th Semester', '13th Semester', '14th Semester',\n",
       "       '15th Semester', 'Cumulative GPA'],\n",
       "      dtype='object')"
      ]
     },
     "execution_count": 107,
     "metadata": {},
     "output_type": "execute_result"
    }
   ],
   "source": [
    "df.columns"
   ]
  },
  {
   "cell_type": "code",
   "execution_count": 133,
   "metadata": {},
   "outputs": [
    {
     "name": "stdout",
     "output_type": "stream",
     "text": [
      "0 0\n",
      "1 1\n",
      "2 2\n"
     ]
    },
    {
     "ename": "NameError",
     "evalue": "name 'b' is not defined",
     "output_type": "error",
     "traceback": [
      "\u001b[0;31m---------------------------------------------------------------------------\u001b[0m",
      "\u001b[0;31mNameError\u001b[0m                                 Traceback (most recent call last)",
      "\u001b[0;32m<ipython-input-133-c4a86a6a6ca6>\u001b[0m in \u001b[0;36m<module>\u001b[0;34m\u001b[0m\n\u001b[1;32m      3\u001b[0m     \u001b[0mprint\u001b[0m\u001b[0;34m(\u001b[0m\u001b[0mi\u001b[0m\u001b[0;34m,\u001b[0m\u001b[0ma\u001b[0m\u001b[0;34m)\u001b[0m\u001b[0;34m\u001b[0m\u001b[0;34m\u001b[0m\u001b[0m\n\u001b[1;32m      4\u001b[0m \u001b[0;34m\u001b[0m\u001b[0m\n\u001b[0;32m----> 5\u001b[0;31m \u001b[0mb\u001b[0m\u001b[0;34m\u001b[0m\u001b[0;34m\u001b[0m\u001b[0m\n\u001b[0m",
      "\u001b[0;31mNameError\u001b[0m: name 'b' is not defined"
     ]
    }
   ],
   "source": [
    "fig, ax = plt.subplots(nrows=2, ncols=2)\n",
    "\n",
    "for row in ax:\n",
    "    for col in row:\n",
    "        col.plot(x, y)\n"
   ]
  },
  {
   "cell_type": "code",
   "execution_count": 213,
   "metadata": {},
   "outputs": [
    {
     "data": {
      "image/png": "[encoded data removed]",
      "text/plain": [
       "<Figure size 432x288 with 1 Axes>"
      ]
     },
     "metadata": {
      "needs_background": "light"
     },
     "output_type": "display_data"
    },
    {
     "data": {
      "text/html": [
       "<div>\n",
       "<style scoped>\n",
       "    .dataframe tbody tr th:only-of-type {\n",
       "        vertical-align: middle;\n",
       "    }\n",
       "\n",
       "    .dataframe tbody tr th {\n",
       "        vertical-align: top;\n",
       "    }\n",
       "\n",
       "    .dataframe thead th {\n",
       "        text-align: right;\n",
       "    }\n",
       "</style>\n",
       "<table border=\"1\" class=\"dataframe\">\n",
       "  <thead>\n",
       "    <tr style=\"text-align: right;\">\n",
       "      <th></th>\n",
       "      <th>cgpa</th>\n",
       "    </tr>\n",
       "  </thead>\n",
       "  <tbody>\n",
       "    <tr>\n",
       "      <th>0</th>\n",
       "      <td>0.00</td>\n",
       "    </tr>\n",
       "    <tr>\n",
       "      <th>1</th>\n",
       "      <td>0.27</td>\n",
       "    </tr>\n",
       "    <tr>\n",
       "      <th>2</th>\n",
       "      <td>0.32</td>\n",
       "    </tr>\n",
       "    <tr>\n",
       "      <th>3</th>\n",
       "      <td>0.51</td>\n",
       "    </tr>\n",
       "    <tr>\n",
       "      <th>4</th>\n",
       "      <td>0.57</td>\n",
       "    </tr>\n",
       "    <tr>\n",
       "      <th>5</th>\n",
       "      <td>0.62</td>\n",
       "    </tr>\n",
       "    <tr>\n",
       "      <th>6</th>\n",
       "      <td>0.73</td>\n",
       "    </tr>\n",
       "    <tr>\n",
       "      <th>7</th>\n",
       "      <td>0.90</td>\n",
       "    </tr>\n",
       "    <tr>\n",
       "      <th>8</th>\n",
       "      <td>1.11</td>\n",
       "    </tr>\n",
       "    <tr>\n",
       "      <th>9</th>\n",
       "      <td>1.22</td>\n",
       "    </tr>\n",
       "    <tr>\n",
       "      <th>10</th>\n",
       "      <td>1.27</td>\n",
       "    </tr>\n",
       "    <tr>\n",
       "      <th>11</th>\n",
       "      <td>1.31</td>\n",
       "    </tr>\n",
       "    <tr>\n",
       "      <th>12</th>\n",
       "      <td>1.35</td>\n",
       "    </tr>\n",
       "    <tr>\n",
       "      <th>13</th>\n",
       "      <td>1.37</td>\n",
       "    </tr>\n",
       "    <tr>\n",
       "      <th>14</th>\n",
       "      <td>1.38</td>\n",
       "    </tr>\n",
       "    <tr>\n",
       "      <th>15</th>\n",
       "      <td>1.41</td>\n",
       "    </tr>\n",
       "    <tr>\n",
       "      <th>16</th>\n",
       "      <td>1.45</td>\n",
       "    </tr>\n",
       "    <tr>\n",
       "      <th>17</th>\n",
       "      <td>1.48</td>\n",
       "    </tr>\n",
       "    <tr>\n",
       "      <th>18</th>\n",
       "      <td>1.50</td>\n",
       "    </tr>\n",
       "    <tr>\n",
       "      <th>19</th>\n",
       "      <td>1.56</td>\n",
       "    </tr>\n",
       "    <tr>\n",
       "      <th>20</th>\n",
       "      <td>1.57</td>\n",
       "    </tr>\n",
       "    <tr>\n",
       "      <th>21</th>\n",
       "      <td>1.58</td>\n",
       "    </tr>\n",
       "    <tr>\n",
       "      <th>22</th>\n",
       "      <td>1.59</td>\n",
       "    </tr>\n",
       "    <tr>\n",
       "      <th>23</th>\n",
       "      <td>1.63</td>\n",
       "    </tr>\n",
       "    <tr>\n",
       "      <th>24</th>\n",
       "      <td>1.67</td>\n",
       "    </tr>\n",
       "    <tr>\n",
       "      <th>25</th>\n",
       "      <td>1.68</td>\n",
       "    </tr>\n",
       "    <tr>\n",
       "      <th>26</th>\n",
       "      <td>1.70</td>\n",
       "    </tr>\n",
       "    <tr>\n",
       "      <th>27</th>\n",
       "      <td>1.73</td>\n",
       "    </tr>\n",
       "    <tr>\n",
       "      <th>28</th>\n",
       "      <td>1.74</td>\n",
       "    </tr>\n",
       "    <tr>\n",
       "      <th>29</th>\n",
       "      <td>1.75</td>\n",
       "    </tr>\n",
       "    <tr>\n",
       "      <th>...</th>\n",
       "      <td>...</td>\n",
       "    </tr>\n",
       "    <tr>\n",
       "      <th>201</th>\n",
       "      <td>3.55</td>\n",
       "    </tr>\n",
       "    <tr>\n",
       "      <th>202</th>\n",
       "      <td>3.56</td>\n",
       "    </tr>\n",
       "    <tr>\n",
       "      <th>203</th>\n",
       "      <td>3.57</td>\n",
       "    </tr>\n",
       "    <tr>\n",
       "      <th>204</th>\n",
       "      <td>3.58</td>\n",
       "    </tr>\n",
       "    <tr>\n",
       "      <th>205</th>\n",
       "      <td>3.59</td>\n",
       "    </tr>\n",
       "    <tr>\n",
       "      <th>206</th>\n",
       "      <td>3.60</td>\n",
       "    </tr>\n",
       "    <tr>\n",
       "      <th>207</th>\n",
       "      <td>3.61</td>\n",
       "    </tr>\n",
       "    <tr>\n",
       "      <th>208</th>\n",
       "      <td>3.62</td>\n",
       "    </tr>\n",
       "    <tr>\n",
       "      <th>209</th>\n",
       "      <td>3.63</td>\n",
       "    </tr>\n",
       "    <tr>\n",
       "      <th>210</th>\n",
       "      <td>3.64</td>\n",
       "    </tr>\n",
       "    <tr>\n",
       "      <th>211</th>\n",
       "      <td>3.65</td>\n",
       "    </tr>\n",
       "    <tr>\n",
       "      <th>212</th>\n",
       "      <td>3.66</td>\n",
       "    </tr>\n",
       "    <tr>\n",
       "      <th>213</th>\n",
       "      <td>3.68</td>\n",
       "    </tr>\n",
       "    <tr>\n",
       "      <th>214</th>\n",
       "      <td>3.70</td>\n",
       "    </tr>\n",
       "    <tr>\n",
       "      <th>215</th>\n",
       "      <td>3.71</td>\n",
       "    </tr>\n",
       "    <tr>\n",
       "      <th>216</th>\n",
       "      <td>3.73</td>\n",
       "    </tr>\n",
       "    <tr>\n",
       "      <th>217</th>\n",
       "      <td>3.75</td>\n",
       "    </tr>\n",
       "    <tr>\n",
       "      <th>218</th>\n",
       "      <td>3.77</td>\n",
       "    </tr>\n",
       "    <tr>\n",
       "      <th>219</th>\n",
       "      <td>3.78</td>\n",
       "    </tr>\n",
       "    <tr>\n",
       "      <th>220</th>\n",
       "      <td>3.79</td>\n",
       "    </tr>\n",
       "    <tr>\n",
       "      <th>221</th>\n",
       "      <td>3.80</td>\n",
       "    </tr>\n",
       "    <tr>\n",
       "      <th>222</th>\n",
       "      <td>3.82</td>\n",
       "    </tr>\n",
       "    <tr>\n",
       "      <th>223</th>\n",
       "      <td>3.83</td>\n",
       "    </tr>\n",
       "    <tr>\n",
       "      <th>224</th>\n",
       "      <td>3.84</td>\n",
       "    </tr>\n",
       "    <tr>\n",
       "      <th>225</th>\n",
       "      <td>3.85</td>\n",
       "    </tr>\n",
       "    <tr>\n",
       "      <th>226</th>\n",
       "      <td>3.86</td>\n",
       "    </tr>\n",
       "    <tr>\n",
       "      <th>227</th>\n",
       "      <td>3.87</td>\n",
       "    </tr>\n",
       "    <tr>\n",
       "      <th>228</th>\n",
       "      <td>3.88</td>\n",
       "    </tr>\n",
       "    <tr>\n",
       "      <th>229</th>\n",
       "      <td>3.90</td>\n",
       "    </tr>\n",
       "    <tr>\n",
       "      <th>230</th>\n",
       "      <td>3.97</td>\n",
       "    </tr>\n",
       "  </tbody>\n",
       "</table>\n",
       "<p>231 rows × 1 columns</p>\n",
       "</div>"
      ],
      "text/plain": [
       "     cgpa\n",
       "0    0.00\n",
       "1    0.27\n",
       "2    0.32\n",
       "3    0.51\n",
       "4    0.57\n",
       "5    0.62\n",
       "6    0.73\n",
       "7    0.90\n",
       "8    1.11\n",
       "9    1.22\n",
       "10   1.27\n",
       "11   1.31\n",
       "12   1.35\n",
       "13   1.37\n",
       "14   1.38\n",
       "15   1.41\n",
       "16   1.45\n",
       "17   1.48\n",
       "18   1.50\n",
       "19   1.56\n",
       "20   1.57\n",
       "21   1.58\n",
       "22   1.59\n",
       "23   1.63\n",
       "24   1.67\n",
       "25   1.68\n",
       "26   1.70\n",
       "27   1.73\n",
       "28   1.74\n",
       "29   1.75\n",
       "..    ...\n",
       "201  3.55\n",
       "202  3.56\n",
       "203  3.57\n",
       "204  3.58\n",
       "205  3.59\n",
       "206  3.60\n",
       "207  3.61\n",
       "208  3.62\n",
       "209  3.63\n",
       "210  3.64\n",
       "211  3.65\n",
       "212  3.66\n",
       "213  3.68\n",
       "214  3.70\n",
       "215  3.71\n",
       "216  3.73\n",
       "217  3.75\n",
       "218  3.77\n",
       "219  3.78\n",
       "220  3.79\n",
       "221  3.80\n",
       "222  3.82\n",
       "223  3.83\n",
       "224  3.84\n",
       "225  3.85\n",
       "226  3.86\n",
       "227  3.87\n",
       "228  3.88\n",
       "229  3.90\n",
       "230  3.97\n",
       "\n",
       "[231 rows x 1 columns]"
      ]
     },
     "execution_count": 213,
     "metadata": {},
     "output_type": "execute_result"
    }
   ],
   "source": [
    "a=df.groupby(by=['Cumulative GPA']).agg(['count'])[['Gender']]\n",
    "a = a.reset_index()\n",
    "a.columns = ['cgpa','count1']\n",
    "\n",
    "plt.plot(a[['cgpa']].values, a[['count1']].values)\n",
    "plt.show()\n",
    "a[['cgpa']]"
   ]
  },
  {
   "cell_type": "code",
   "execution_count": 244,
   "metadata": {},
   "outputs": [
    {
     "name": "stdout",
     "output_type": "stream",
     "text": [
      "========= Karachi ===========\n",
      "Total: 1333 Passing 64.97 Percent\n"
     ]
    },
    {
     "data": {
      "image/png": "[encoded data removed]",
      "text/plain": [
       "<Figure size 432x288 with 1 Axes>"
      ]
     },
     "metadata": {
      "needs_background": "light"
     },
     "output_type": "display_data"
    },
    {
     "name": "stdout",
     "output_type": "stream",
     "text": [
      "========= Dadu ===========\n",
      "Total: 19 Passing 68.42 Percent\n"
     ]
    },
    {
     "data": {
      "image/png": "[encoded data removed]",
      "text/plain": [
       "<Figure size 432x288 with 1 Axes>"
      ]
     },
     "metadata": {
      "needs_background": "light"
     },
     "output_type": "display_data"
    },
    {
     "name": "stdout",
     "output_type": "stream",
     "text": [
      "========= Others ===========\n",
      "Total: 26 Passing 57.69 Percent\n"
     ]
    },
    {
     "data": {
      "image/png": "[encoded data removed]",
      "text/plain": [
       "<Figure size 432x288 with 1 Axes>"
      ]
     },
     "metadata": {
      "needs_background": "light"
     },
     "output_type": "display_data"
    },
    {
     "name": "stdout",
     "output_type": "stream",
     "text": [
      "========= Hyderabad ===========\n",
      "Total: 53 Passing 66.04 Percent\n"
     ]
    },
    {
     "data": {
      "image/png": "[encoded data removed]",
      "text/plain": [
       "<Figure size 432x288 with 1 Axes>"
      ]
     },
     "metadata": {
      "needs_background": "light"
     },
     "output_type": "display_data"
    },
    {
     "name": "stdout",
     "output_type": "stream",
     "text": [
      "========= Lahore ===========\n",
      "Total: 5 Passing 80.00 Percent\n"
     ]
    },
    {
     "data": {
      "image/png": "[encoded data removed]",
      "text/plain": [
       "<Figure size 432x288 with 1 Axes>"
      ]
     },
     "metadata": {
      "needs_background": "light"
     },
     "output_type": "display_data"
    },
    {
     "name": "stdout",
     "output_type": "stream",
     "text": [
      "========= Ghotki ===========\n",
      "Total: 6 Passing 83.33 Percent\n"
     ]
    },
    {
     "data": {
      "image/png": "[encoded data removed]",
      "text/plain": [
       "<Figure size 432x288 with 1 Axes>"
      ]
     },
     "metadata": {
      "needs_background": "light"
     },
     "output_type": "display_data"
    },
    {
     "name": "stdout",
     "output_type": "stream",
     "text": [
      "========= Tharparkar ===========\n",
      "Total: 8 Passing 50.00 Percent\n"
     ]
    },
    {
     "data": {
      "image/png": "[encoded data removed]",
      "text/plain": [
       "<Figure size 432x288 with 1 Axes>"
      ]
     },
     "metadata": {
      "needs_background": "light"
     },
     "output_type": "display_data"
    },
    {
     "name": "stdout",
     "output_type": "stream",
     "text": [
      "========= Larkana ===========\n",
      "Total: 23 Passing 69.57 Percent\n"
     ]
    },
    {
     "data": {
      "image/png": "[encoded data removed]",
      "text/plain": [
       "<Figure size 432x288 with 1 Axes>"
      ]
     },
     "metadata": {
      "needs_background": "light"
     },
     "output_type": "display_data"
    },
    {
     "name": "stdout",
     "output_type": "stream",
     "text": [
      "========= Sukkur ===========\n",
      "Total: 15 Passing 40.00 Percent\n"
     ]
    },
    {
     "data": {
      "image/png": "[encoded data removed]",
      "text/plain": [
       "<Figure size 432x288 with 1 Axes>"
      ]
     },
     "metadata": {
      "needs_background": "light"
     },
     "output_type": "display_data"
    },
    {
     "name": "stdout",
     "output_type": "stream",
     "text": [
      "========= Mirpur Khas ===========\n",
      "Total: 16 Passing 25.00 Percent\n"
     ]
    },
    {
     "data": {
      "image/png": "[encoded data removed]",
      "text/plain": [
       "<Figure size 432x288 with 1 Axes>"
      ]
     },
     "metadata": {
      "needs_background": "light"
     },
     "output_type": "display_data"
    },
    {
     "name": "stdout",
     "output_type": "stream",
     "text": [
      "========= Umerkot ===========\n",
      "Total: 22 Passing 59.09 Percent\n"
     ]
    },
    {
     "data": {
      "image/png": "[encoded data removed]",
      "text/plain": [
       "<Figure size 432x288 with 1 Axes>"
      ]
     },
     "metadata": {
      "needs_background": "light"
     },
     "output_type": "display_data"
    },
    {
     "name": "stdout",
     "output_type": "stream",
     "text": [
      "========= Rahim Yar Khan ===========\n",
      "Total: 3 Passing 100.00 Percent\n"
     ]
    },
    {
     "data": {
      "image/png": "[encoded data removed]",
      "text/plain": [
       "<Figure size 432x288 with 1 Axes>"
      ]
     },
     "metadata": {
      "needs_background": "light"
     },
     "output_type": "display_data"
    },
    {
     "name": "stdout",
     "output_type": "stream",
     "text": [
      "========= Bahawalpur ===========\n",
      "Total: 5 Passing 80.00 Percent\n"
     ]
    },
    {
     "data": {
      "image/png": "[encoded data removed]",
      "text/plain": [
       "<Figure size 432x288 with 1 Axes>"
      ]
     },
     "metadata": {
      "needs_background": "light"
     },
     "output_type": "display_data"
    },
    {
     "name": "stdout",
     "output_type": "stream",
     "text": [
      "========= Khairpur ===========\n",
      "Total: 7 Passing 42.86 Percent\n"
     ]
    },
    {
     "data": {
      "image/png": "[encoded data removed]",
      "text/plain": [
       "<Figure size 432x288 with 1 Axes>"
      ]
     },
     "metadata": {
      "needs_background": "light"
     },
     "output_type": "display_data"
    },
    {
     "name": "stdout",
     "output_type": "stream",
     "text": [
      "========= Badin ===========\n",
      "Total: 5 Passing 100.00 Percent\n"
     ]
    },
    {
     "data": {
      "image/png": "[encoded data removed]",
      "text/plain": [
       "<Figure size 432x288 with 1 Axes>"
      ]
     },
     "metadata": {
      "needs_background": "light"
     },
     "output_type": "display_data"
    },
    {
     "name": "stdout",
     "output_type": "stream",
     "text": [
      "========= Islamabad ===========\n",
      "Total: 5 Passing 80.00 Percent\n"
     ]
    },
    {
     "data": {
      "image/png": "[encoded data removed]",
      "text/plain": [
       "<Figure size 432x288 with 1 Axes>"
      ]
     },
     "metadata": {
      "needs_background": "light"
     },
     "output_type": "display_data"
    },
    {
     "name": "stdout",
     "output_type": "stream",
     "text": [
      "========= Faisalabad ===========\n",
      "Total: 2 Passing 50.00 Percent\n"
     ]
    },
    {
     "data": {
      "image/png": "[encoded data removed]",
      "text/plain": [
       "<Figure size 432x288 with 1 Axes>"
      ]
     },
     "metadata": {
      "needs_background": "light"
     },
     "output_type": "display_data"
    },
    {
     "name": "stdout",
     "output_type": "stream",
     "text": [
      "========= Shikarpur ===========\n",
      "Total: 2 Passing 100.00 Percent\n"
     ]
    },
    {
     "data": {
      "image/png": "[encoded data removed]",
      "text/plain": [
       "<Figure size 432x288 with 1 Axes>"
      ]
     },
     "metadata": {
      "needs_background": "light"
     },
     "output_type": "display_data"
    },
    {
     "name": "stdout",
     "output_type": "stream",
     "text": [
      "========= Thatta ===========\n",
      "Total: 5 Passing 80.00 Percent\n"
     ]
    },
    {
     "data": {
      "image/png": "[encoded data removed]",
      "text/plain": [
       "<Figure size 432x288 with 1 Axes>"
      ]
     },
     "metadata": {
      "needs_background": "light"
     },
     "output_type": "display_data"
    },
    {
     "name": "stdout",
     "output_type": "stream",
     "text": [
      "========= Naushero Feroze ===========\n",
      "Total: 2 Passing 100.00 Percent\n"
     ]
    },
    {
     "data": {
      "image/png": "[encoded data removed]",
      "text/plain": [
       "<Figure size 432x288 with 1 Axes>"
      ]
     },
     "metadata": {
      "needs_background": "light"
     },
     "output_type": "display_data"
    },
    {
     "name": "stdout",
     "output_type": "stream",
     "text": [
      "========= Jamshoro ===========\n",
      "Total: 1 Passing 100.00 Percent\n"
     ]
    },
    {
     "data": {
      "image/png": "[encoded data removed]",
      "text/plain": [
       "<Figure size 432x288 with 1 Axes>"
      ]
     },
     "metadata": {
      "needs_background": "light"
     },
     "output_type": "display_data"
    },
    {
     "name": "stdout",
     "output_type": "stream",
     "text": [
      "========= Rawalpindi ===========\n",
      "Total: 3 Passing 100.00 Percent\n"
     ]
    },
    {
     "data": {
      "image/png": "[encoded data removed]",
      "text/plain": [
       "<Figure size 432x288 with 1 Axes>"
      ]
     },
     "metadata": {
      "needs_background": "light"
     },
     "output_type": "display_data"
    },
    {
     "name": "stdout",
     "output_type": "stream",
     "text": [
      "========= Sahiwal ===========\n",
      "Total: 1 Passing 100.00 Percent\n"
     ]
    },
    {
     "data": {
      "image/png": "[encoded data removed]",
      "text/plain": [
       "<Figure size 432x288 with 1 Axes>"
      ]
     },
     "metadata": {
      "needs_background": "light"
     },
     "output_type": "display_data"
    },
    {
     "name": "stdout",
     "output_type": "stream",
     "text": [
      "========= Sanghar ===========\n",
      "Total: 2 Passing 0.00 Percent\n"
     ]
    },
    {
     "data": {
      "image/png": "[encoded data removed]",
      "text/plain": [
       "<Figure size 432x288 with 1 Axes>"
      ]
     },
     "metadata": {
      "needs_background": "light"
     },
     "output_type": "display_data"
    },
    {
     "name": "stdout",
     "output_type": "stream",
     "text": [
      "========= Multan ===========\n",
      "Total: 1 Passing 100.00 Percent\n"
     ]
    },
    {
     "data": {
      "image/png": "[encoded data removed]",
      "text/plain": [
       "<Figure size 432x288 with 1 Axes>"
      ]
     },
     "metadata": {
      "needs_background": "light"
     },
     "output_type": "display_data"
    },
    {
     "name": "stdout",
     "output_type": "stream",
     "text": [
      "========= Peshawar ===========\n",
      "Total: 1 Passing 100.00 Percent\n"
     ]
    },
    {
     "data": {
      "image/png": "[encoded data removed]",
      "text/plain": [
       "<Figure size 432x288 with 1 Axes>"
      ]
     },
     "metadata": {
      "needs_background": "light"
     },
     "output_type": "display_data"
    },
    {
     "name": "stdout",
     "output_type": "stream",
     "text": [
      "========= Khuzdar ===========\n",
      "Total: 1 Passing 0.00 Percent\n"
     ]
    },
    {
     "data": {
      "image/png": "[encoded data removed]",
      "text/plain": [
       "<Figure size 432x288 with 1 Axes>"
      ]
     },
     "metadata": {
      "needs_background": "light"
     },
     "output_type": "display_data"
    },
    {
     "name": "stdout",
     "output_type": "stream",
     "text": [
      "========= Lasbela ===========\n",
      "Total: 1 Passing 0.00 Percent\n"
     ]
    },
    {
     "data": {
      "image/png": "[encoded data removed]",
      "text/plain": [
       "<Figure size 432x288 with 1 Axes>"
      ]
     },
     "metadata": {
      "needs_background": "light"
     },
     "output_type": "display_data"
    }
   ],
   "source": [
    "for city in df['Resedential Area and city of origin'].unique():\n",
    "    print(\"=========\",city,\"===========\")\n",
    "    df1 = df[(df['Resedential Area and city of origin']==city)]\n",
    "    \n",
    "    df3 = df1\n",
    "    print(\"Total:\",len(df3), \"Passing %.2f Percent\"%(len(df3[df3['Cumulative GPA']>=2.0]) / len(df3) * 100))\n",
    "    df2=df3.groupby(by=['Cumulative GPA']).agg(['count'])[['Gender']]\n",
    "    df2 = df2.reset_index()\n",
    "    df2.columns = ['cgpa','count1']\n",
    "    plt.scatter(df2[['cgpa']].values, df2[['count1']].values)\n",
    "    #p.set_xlim([-1,5])\n",
    "    p.title.set_text(y)\n",
    "    plt.show()"
   ]
  },
  {
   "cell_type": "code",
   "execution_count": 246,
   "metadata": {},
   "outputs": [
    {
     "name": "stdout",
     "output_type": "stream",
     "text": [
      "========= Karachi ===========\n",
      "2012\n",
      "1\n",
      "2013\n",
      "6\n",
      "2014\n",
      "14\n",
      "2015\n",
      "39\n",
      "2016\n",
      "306\n",
      "2017\n",
      "221\n",
      "2018\n",
      "344\n",
      "2019\n",
      "402\n"
     ]
    },
    {
     "data": {
      "image/png": "[encoded data removed]",
      "text/plain": [
       "<Figure size 720x360 with 8 Axes>"
      ]
     },
     "metadata": {
      "needs_background": "light"
     },
     "output_type": "display_data"
    },
    {
     "name": "stdout",
     "output_type": "stream",
     "text": [
      "========= Dadu ===========\n",
      "2013\n",
      "1\n",
      "2016\n",
      "5\n",
      "2017\n",
      "5\n",
      "2018\n",
      "3\n",
      "2019\n",
      "5\n"
     ]
    },
    {
     "data": {
      "image/png": "[encoded data removed]",
      "text/plain": [
       "<Figure size 720x360 with 5 Axes>"
      ]
     },
     "metadata": {
      "needs_background": "light"
     },
     "output_type": "display_data"
    },
    {
     "name": "stdout",
     "output_type": "stream",
     "text": [
      "========= Others ===========\n",
      "2014\n",
      "2\n",
      "2016\n",
      "3\n",
      "2017\n",
      "5\n",
      "2018\n",
      "8\n",
      "2019\n",
      "8\n"
     ]
    },
    {
     "data": {
      "image/png": "[encoded data removed]",
      "text/plain": [
       "<Figure size 720x360 with 5 Axes>"
      ]
     },
     "metadata": {
      "needs_background": "light"
     },
     "output_type": "display_data"
    },
    {
     "name": "stdout",
     "output_type": "stream",
     "text": [
      "========= Hyderabad ===========\n",
      "2015\n",
      "1\n",
      "2016\n",
      "11\n",
      "2017\n",
      "12\n",
      "2018\n",
      "12\n",
      "2019\n",
      "17\n"
     ]
    },
    {
     "data": {
      "image/png": "[encoded data removed]",
      "text/plain": [
       "<Figure size 720x360 with 5 Axes>"
      ]
     },
     "metadata": {
      "needs_background": "light"
     },
     "output_type": "display_data"
    },
    {
     "name": "stdout",
     "output_type": "stream",
     "text": [
      "========= Lahore ===========\n",
      "2015\n",
      "2\n",
      "2016\n",
      "1\n",
      "2017\n",
      "1\n",
      "2018\n",
      "1\n"
     ]
    },
    {
     "data": {
      "image/png": "[encoded data removed]",
      "text/plain": [
       "<Figure size 720x360 with 4 Axes>"
      ]
     },
     "metadata": {
      "needs_background": "light"
     },
     "output_type": "display_data"
    },
    {
     "name": "stdout",
     "output_type": "stream",
     "text": [
      "========= Ghotki ===========\n",
      "2015\n",
      "1\n",
      "2017\n",
      "1\n",
      "2018\n",
      "3\n",
      "2019\n",
      "1\n"
     ]
    },
    {
     "data": {
      "image/png": "[encoded data removed]",
      "text/plain": [
       "<Figure size 720x360 with 4 Axes>"
      ]
     },
     "metadata": {
      "needs_background": "light"
     },
     "output_type": "display_data"
    },
    {
     "name": "stdout",
     "output_type": "stream",
     "text": [
      "========= Tharparkar ===========\n",
      "2016\n",
      "2\n",
      "2017\n",
      "2\n",
      "2019\n",
      "4\n"
     ]
    },
    {
     "data": {
      "image/png": "[encoded data removed]",
      "text/plain": [
       "<Figure size 720x360 with 3 Axes>"
      ]
     },
     "metadata": {
      "needs_background": "light"
     },
     "output_type": "display_data"
    },
    {
     "name": "stdout",
     "output_type": "stream",
     "text": [
      "========= Larkana ===========\n",
      "2016\n",
      "5\n",
      "2017\n",
      "8\n",
      "2018\n",
      "6\n",
      "2019\n",
      "4\n"
     ]
    },
    {
     "data": {
      "image/png": "[encoded data removed]",
      "text/plain": [
       "<Figure size 720x360 with 4 Axes>"
      ]
     },
     "metadata": {
      "needs_background": "light"
     },
     "output_type": "display_data"
    },
    {
     "name": "stdout",
     "output_type": "stream",
     "text": [
      "========= Sukkur ===========\n",
      "2016\n",
      "4\n",
      "2017\n",
      "1\n",
      "2018\n",
      "3\n",
      "2019\n",
      "7\n"
     ]
    },
    {
     "data": {
      "image/png": "[encoded data removed]",
      "text/plain": [
       "<Figure size 720x360 with 4 Axes>"
      ]
     },
     "metadata": {
      "needs_background": "light"
     },
     "output_type": "display_data"
    },
    {
     "name": "stdout",
     "output_type": "stream",
     "text": [
      "========= Mirpur Khas ===========\n",
      "2016\n",
      "1\n",
      "2017\n",
      "3\n",
      "2018\n",
      "4\n",
      "2019\n",
      "8\n"
     ]
    },
    {
     "data": {
      "image/png": "[encoded data removed]",
      "text/plain": [
       "<Figure size 720x360 with 4 Axes>"
      ]
     },
     "metadata": {
      "needs_background": "light"
     },
     "output_type": "display_data"
    },
    {
     "name": "stdout",
     "output_type": "stream",
     "text": [
      "========= Umerkot ===========\n",
      "2016\n",
      "5\n",
      "2017\n",
      "4\n",
      "2018\n",
      "9\n",
      "2019\n",
      "4\n"
     ]
    },
    {
     "data": {
      "image/png": "[encoded data removed]",
      "text/plain": [
       "<Figure size 720x360 with 4 Axes>"
      ]
     },
     "metadata": {
      "needs_background": "light"
     },
     "output_type": "display_data"
    },
    {
     "name": "stdout",
     "output_type": "stream",
     "text": [
      "========= Rahim Yar Khan ===========\n",
      "2016\n",
      "1\n",
      "2017\n",
      "1\n",
      "2018\n",
      "1\n"
     ]
    },
    {
     "data": {
      "image/png": "[encoded data removed]",
      "text/plain": [
       "<Figure size 720x360 with 3 Axes>"
      ]
     },
     "metadata": {
      "needs_background": "light"
     },
     "output_type": "display_data"
    },
    {
     "name": "stdout",
     "output_type": "stream",
     "text": [
      "========= Bahawalpur ===========\n",
      "2016\n",
      "2\n",
      "2017\n",
      "1\n",
      "2018\n",
      "1\n",
      "2019\n",
      "1\n"
     ]
    },
    {
     "data": {
      "image/png": "[encoded data removed]",
      "text/plain": [
       "<Figure size 720x360 with 4 Axes>"
      ]
     },
     "metadata": {
      "needs_background": "light"
     },
     "output_type": "display_data"
    },
    {
     "name": "stdout",
     "output_type": "stream",
     "text": [
      "========= Khairpur ===========\n",
      "2016\n",
      "1\n",
      "2017\n",
      "1\n",
      "2018\n",
      "2\n",
      "2019\n",
      "3\n"
     ]
    },
    {
     "data": {
      "image/png": "[encoded data removed]",
      "text/plain": [
       "<Figure size 720x360 with 4 Axes>"
      ]
     },
     "metadata": {
      "needs_background": "light"
     },
     "output_type": "display_data"
    },
    {
     "name": "stdout",
     "output_type": "stream",
     "text": [
      "========= Badin ===========\n",
      "2016\n",
      "2\n",
      "2017\n",
      "2\n",
      "2018\n",
      "1\n"
     ]
    },
    {
     "data": {
      "image/png": "[encoded data removed]",
      "text/plain": [
       "<Figure size 720x360 with 3 Axes>"
      ]
     },
     "metadata": {
      "needs_background": "light"
     },
     "output_type": "display_data"
    },
    {
     "name": "stdout",
     "output_type": "stream",
     "text": [
      "========= Islamabad ===========\n",
      "2016\n",
      "1\n",
      "2017\n",
      "1\n",
      "2018\n",
      "2\n",
      "2019\n",
      "1\n"
     ]
    },
    {
     "data": {
      "image/png": "[encoded data removed]",
      "text/plain": [
       "<Figure size 720x360 with 4 Axes>"
      ]
     },
     "metadata": {
      "needs_background": "light"
     },
     "output_type": "display_data"
    },
    {
     "name": "stdout",
     "output_type": "stream",
     "text": [
      "========= Faisalabad ===========\n",
      "2016\n",
      "1\n",
      "2018\n",
      "1\n"
     ]
    },
    {
     "data": {
      "image/png": "[encoded data removed]",
      "text/plain": [
       "<Figure size 720x360 with 2 Axes>"
      ]
     },
     "metadata": {
      "needs_background": "light"
     },
     "output_type": "display_data"
    },
    {
     "name": "stdout",
     "output_type": "stream",
     "text": [
      "========= Shikarpur ===========\n",
      "2017\n",
      "1\n",
      "2018\n",
      "1\n"
     ]
    },
    {
     "data": {
      "image/png": "[encoded data removed]",
      "text/plain": [
       "<Figure size 720x360 with 2 Axes>"
      ]
     },
     "metadata": {
      "needs_background": "light"
     },
     "output_type": "display_data"
    },
    {
     "name": "stdout",
     "output_type": "stream",
     "text": [
      "========= Thatta ===========\n",
      "2017\n",
      "3\n",
      "2018\n",
      "2\n"
     ]
    },
    {
     "data": {
      "image/png": "[encoded data removed]",
      "text/plain": [
       "<Figure size 720x360 with 2 Axes>"
      ]
     },
     "metadata": {
      "needs_background": "light"
     },
     "output_type": "display_data"
    },
    {
     "name": "stdout",
     "output_type": "stream",
     "text": [
      "========= Naushero Feroze ===========\n",
      "========= Jamshoro ===========\n",
      "========= Rawalpindi ===========\n",
      "========= Sahiwal ===========\n",
      "========= Sanghar ===========\n",
      "2018\n",
      "1\n",
      "2019\n",
      "1\n"
     ]
    },
    {
     "data": {
      "image/png": "[encoded data removed]",
      "text/plain": [
       "<Figure size 720x360 with 1 Axes>"
      ]
     },
     "metadata": {
      "needs_background": "light"
     },
     "output_type": "display_data"
    },
    {
     "data": {
      "image/png": "[encoded data removed]",
      "text/plain": [
       "<Figure size 720x360 with 1 Axes>"
      ]
     },
     "metadata": {
      "needs_background": "light"
     },
     "output_type": "display_data"
    },
    {
     "data": {
      "image/png": "[encoded data removed]",
      "text/plain": [
       "<Figure size 720x360 with 1 Axes>"
      ]
     },
     "metadata": {
      "needs_background": "light"
     },
     "output_type": "display_data"
    },
    {
     "data": {
      "image/png": "[encoded data removed]",
      "text/plain": [
       "<Figure size 720x360 with 1 Axes>"
      ]
     },
     "metadata": {
      "needs_background": "light"
     },
     "output_type": "display_data"
    },
    {
     "data": {
      "image/png": "[encoded data removed]",
      "text/plain": [
       "<Figure size 720x360 with 2 Axes>"
      ]
     },
     "metadata": {
      "needs_background": "light"
     },
     "output_type": "display_data"
    },
    {
     "name": "stdout",
     "output_type": "stream",
     "text": [
      "========= Multan ===========\n",
      "========= Peshawar ===========\n",
      "========= Khuzdar ===========\n",
      "========= Lasbela ===========\n"
     ]
    },
    {
     "data": {
      "image/png": "[encoded data removed]",
      "text/plain": [
       "<Figure size 720x360 with 1 Axes>"
      ]
     },
     "metadata": {
      "needs_background": "light"
     },
     "output_type": "display_data"
    },
    {
     "data": {
      "image/png": "[encoded data removed]",
      "text/plain": [
       "<Figure size 720x360 with 1 Axes>"
      ]
     },
     "metadata": {
      "needs_background": "light"
     },
     "output_type": "display_data"
    },
    {
     "data": {
      "image/png": "[encoded data removed]",
      "text/plain": [
       "<Figure size 720x360 with 1 Axes>"
      ]
     },
     "metadata": {
      "needs_background": "light"
     },
     "output_type": "display_data"
    },
    {
     "data": {
      "image/png": "[encoded data removed]",
      "text/plain": [
       "<Figure size 720x360 with 1 Axes>"
      ]
     },
     "metadata": {
      "needs_background": "light"
     },
     "output_type": "display_data"
    }
   ],
   "source": [
    "for city in df['Resedential Area and city of origin'].unique():\n",
    "    print(\"=========\",city,\"===========\")\n",
    "    df1 = df[(df['Resedential Area and city of origin']==city)]\n",
    "    \n",
    "    fig, ax = plt.subplots(nrows=1, ncols=len(df1['Year of Admission and Batch of the student'].unique()), figsize=(10,5))\n",
    "    \n",
    "    \n",
    "    try:\n",
    "        for p, y in zip(ax,df1['Year of Admission and Batch of the student'].unique()):\n",
    "            print(y)\n",
    "\n",
    "            df3 = df1[df1['Year of Admission and Batch of the student']==y]\n",
    "            print(len(df3))\n",
    "            df2=df3.groupby(by=['Cumulative GPA']).agg(['count'])[['Gender']]\n",
    "            df2 = df2.reset_index()\n",
    "            df2.columns = ['cgpa','count1']\n",
    "            p.scatter(df2[['cgpa']].values, df2[['count1']].values)\n",
    "            #p.set_xlim([-1,5])\n",
    "            p.title.set_text(y)\n",
    "        plt.show()\n",
    "    except:\n",
    "        pass"
   ]
  },
  {
   "cell_type": "code",
   "execution_count": 124,
   "metadata": {},
   "outputs": [
    {
     "data": {
      "text/plain": [
       "<matplotlib.collections.PathCollection at 0x7f341a049128>"
      ]
     },
     "execution_count": 124,
     "metadata": {},
     "output_type": "execute_result"
    },
    {
     "data": {
      "image/png": "[encoded data removed]",
      "text/plain": [
       "<Figure size 432x288 with 2 Axes>"
      ]
     },
     "metadata": {
      "needs_background": "light"
     },
     "output_type": "display_data"
    }
   ],
   "source": [
    "# First create some toy data:\n",
    "x = np.linspace(0, 2*np.pi, 400)\n",
    "y = np.sin(x**2)\n",
    "\n",
    "\n",
    "# Creates two subplots and unpacks the output array immediately\n",
    "f, (ax1, ax2) = plt.subplots(1, 2, sharey=True)\n",
    "ax1.plot(x, y)\n",
    "ax1.set_title('Sharing Y axis')\n",
    "ax2.scatter(x, y)\n"
   ]
  },
  {
   "cell_type": "code",
   "execution_count": null,
   "metadata": {},
   "outputs": [],
   "source": []
  }
 ],
 "metadata": {
  "kernelspec": {
   "display_name": "Python 3",
   "language": "python",
   "name": "python3"
  },
  "language_info": {
   "codemirror_mode": {
    "name": "ipython",
    "version": 3
   },
   "file_extension": ".py",
   "mimetype": "text/x-python",
   "name": "python",
   "nbconvert_exporter": "python",
   "pygments_lexer": "ipython3",
   "version": "3.7.1"
  }
 },
 "nbformat": 4,
 "nbformat_minor": 2
}
