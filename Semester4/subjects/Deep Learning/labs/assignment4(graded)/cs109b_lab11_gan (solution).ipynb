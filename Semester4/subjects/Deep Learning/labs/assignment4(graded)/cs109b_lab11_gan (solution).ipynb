{
  "nbformat": 4,
  "nbformat_minor": 0,
  "metadata": {
    "kernelspec": {
      "display_name": "Python 3",
      "language": "python",
      "name": "python3"
    },
    "language_info": {
      "codemirror_mode": {
        "name": "ipython",
        "version": 3
      },
      "file_extension": ".py",
      "mimetype": "text/x-python",
      "name": "python",
      "nbconvert_exporter": "python",
      "pygments_lexer": "ipython3",
      "version": "3.6.1"
    },
    "colab": {
      "name": "cs109b_lab11_gan.ipynb",
      "provenance": []
    },
    "accelerator": "GPU",
    "widgets": {
      "application/vnd.jupyter.widget-state+json": {
        "c1a7c924ef3f42a7babd974a3e1fc993": {
          "model_module": "@jupyter-widgets/controls",
          "model_name": "HBoxModel",
          "state": {
            "_view_name": "HBoxView",
            "_dom_classes": [],
            "_model_name": "HBoxModel",
            "_view_module": "@jupyter-widgets/controls",
            "_model_module_version": "1.5.0",
            "_view_count": null,
            "_view_module_version": "1.5.0",
            "box_style": "",
            "layout": "IPY_MODEL_134210dceb4a4da8868ad2bae7b8149f",
            "_model_module": "@jupyter-widgets/controls",
            "children": [
              "IPY_MODEL_952c71389072428c9b9801e9a6d4f8a7",
              "IPY_MODEL_72ff3f7ee6534cefb238efca02aecaea"
            ]
          }
        },
        "134210dceb4a4da8868ad2bae7b8149f": {
          "model_module": "@jupyter-widgets/base",
          "model_name": "LayoutModel",
          "state": {
            "_view_name": "LayoutView",
            "grid_template_rows": null,
            "right": null,
            "justify_content": null,
            "_view_module": "@jupyter-widgets/base",
            "overflow": null,
            "_model_module_version": "1.2.0",
            "_view_count": null,
            "flex_flow": null,
            "width": null,
            "min_width": null,
            "border": null,
            "align_items": null,
            "bottom": null,
            "_model_module": "@jupyter-widgets/base",
            "top": null,
            "grid_column": null,
            "overflow_y": null,
            "overflow_x": null,
            "grid_auto_flow": null,
            "grid_area": null,
            "grid_template_columns": null,
            "flex": null,
            "_model_name": "LayoutModel",
            "justify_items": null,
            "grid_row": null,
            "max_height": null,
            "align_content": null,
            "visibility": null,
            "align_self": null,
            "height": null,
            "min_height": null,
            "padding": null,
            "grid_auto_rows": null,
            "grid_gap": null,
            "max_width": null,
            "order": null,
            "_view_module_version": "1.2.0",
            "grid_template_areas": null,
            "object_position": null,
            "object_fit": null,
            "grid_auto_columns": null,
            "margin": null,
            "display": null,
            "left": null
          }
        },
        "952c71389072428c9b9801e9a6d4f8a7": {
          "model_module": "@jupyter-widgets/controls",
          "model_name": "FloatProgressModel",
          "state": {
            "_view_name": "ProgressView",
            "style": "IPY_MODEL_2732925db424418f9992360839f2ed3c",
            "_dom_classes": [],
            "description": "100%",
            "_model_name": "FloatProgressModel",
            "bar_style": "success",
            "max": 200,
            "_view_module": "@jupyter-widgets/controls",
            "_model_module_version": "1.5.0",
            "value": 200,
            "_view_count": null,
            "_view_module_version": "1.5.0",
            "orientation": "horizontal",
            "min": 0,
            "description_tooltip": null,
            "_model_module": "@jupyter-widgets/controls",
            "layout": "IPY_MODEL_d09f61de3e924e279f1f600c2e5ff6cb"
          }
        },
        "72ff3f7ee6534cefb238efca02aecaea": {
          "model_module": "@jupyter-widgets/controls",
          "model_name": "HTMLModel",
          "state": {
            "_view_name": "HTMLView",
            "style": "IPY_MODEL_bc0c47cd2d064d3f881a02c6d14f7fb5",
            "_dom_classes": [],
            "description": "",
            "_model_name": "HTMLModel",
            "placeholder": "​",
            "_view_module": "@jupyter-widgets/controls",
            "_model_module_version": "1.5.0",
            "value": " 200/200 [1:09:06&lt;00:00, 20.73s/it]",
            "_view_count": null,
            "_view_module_version": "1.5.0",
            "description_tooltip": null,
            "_model_module": "@jupyter-widgets/controls",
            "layout": "IPY_MODEL_8a90ca5fb2db4ef6b47eed145381662b"
          }
        },
        "2732925db424418f9992360839f2ed3c": {
          "model_module": "@jupyter-widgets/controls",
          "model_name": "ProgressStyleModel",
          "state": {
            "_view_name": "StyleView",
            "_model_name": "ProgressStyleModel",
            "description_width": "initial",
            "_view_module": "@jupyter-widgets/base",
            "_model_module_version": "1.5.0",
            "_view_count": null,
            "_view_module_version": "1.2.0",
            "bar_color": null,
            "_model_module": "@jupyter-widgets/controls"
          }
        },
        "d09f61de3e924e279f1f600c2e5ff6cb": {
          "model_module": "@jupyter-widgets/base",
          "model_name": "LayoutModel",
          "state": {
            "_view_name": "LayoutView",
            "grid_template_rows": null,
            "right": null,
            "justify_content": null,
            "_view_module": "@jupyter-widgets/base",
            "overflow": null,
            "_model_module_version": "1.2.0",
            "_view_count": null,
            "flex_flow": null,
            "width": null,
            "min_width": null,
            "border": null,
            "align_items": null,
            "bottom": null,
            "_model_module": "@jupyter-widgets/base",
            "top": null,
            "grid_column": null,
            "overflow_y": null,
            "overflow_x": null,
            "grid_auto_flow": null,
            "grid_area": null,
            "grid_template_columns": null,
            "flex": null,
            "_model_name": "LayoutModel",
            "justify_items": null,
            "grid_row": null,
            "max_height": null,
            "align_content": null,
            "visibility": null,
            "align_self": null,
            "height": null,
            "min_height": null,
            "padding": null,
            "grid_auto_rows": null,
            "grid_gap": null,
            "max_width": null,
            "order": null,
            "_view_module_version": "1.2.0",
            "grid_template_areas": null,
            "object_position": null,
            "object_fit": null,
            "grid_auto_columns": null,
            "margin": null,
            "display": null,
            "left": null
          }
        },
        "bc0c47cd2d064d3f881a02c6d14f7fb5": {
          "model_module": "@jupyter-widgets/controls",
          "model_name": "DescriptionStyleModel",
          "state": {
            "_view_name": "StyleView",
            "_model_name": "DescriptionStyleModel",
            "description_width": "",
            "_view_module": "@jupyter-widgets/base",
            "_model_module_version": "1.5.0",
            "_view_count": null,
            "_view_module_version": "1.2.0",
            "_model_module": "@jupyter-widgets/controls"
          }
        },
        "8a90ca5fb2db4ef6b47eed145381662b": {
          "model_module": "@jupyter-widgets/base",
          "model_name": "LayoutModel",
          "state": {
            "_view_name": "LayoutView",
            "grid_template_rows": null,
            "right": null,
            "justify_content": null,
            "_view_module": "@jupyter-widgets/base",
            "overflow": null,
            "_model_module_version": "1.2.0",
            "_view_count": null,
            "flex_flow": null,
            "width": null,
            "min_width": null,
            "border": null,
            "align_items": null,
            "bottom": null,
            "_model_module": "@jupyter-widgets/base",
            "top": null,
            "grid_column": null,
            "overflow_y": null,
            "overflow_x": null,
            "grid_auto_flow": null,
            "grid_area": null,
            "grid_template_columns": null,
            "flex": null,
            "_model_name": "LayoutModel",
            "justify_items": null,
            "grid_row": null,
            "max_height": null,
            "align_content": null,
            "visibility": null,
            "align_self": null,
            "height": null,
            "min_height": null,
            "padding": null,
            "grid_auto_rows": null,
            "grid_gap": null,
            "max_width": null,
            "order": null,
            "_view_module_version": "1.2.0",
            "grid_template_areas": null,
            "object_position": null,
            "object_fit": null,
            "grid_auto_columns": null,
            "margin": null,
            "display": null,
            "left": null
          }
        }
      }
    }
  },
  "cells": [
    {
      "cell_type": "markdown",
      "metadata": {
        "id": "CesAnkg75Dg3"
      },
      "source": [
        "Deep Learning Assignment4 Graded <br>\n",
        "Dated: 22-Apr-2021<br>\n",
        "Name: Muhammad Qasim<br>\n",
        "Roll No: k191612<br>"
      ]
    },
    {
      "cell_type": "markdown",
      "metadata": {
        "id": "GEr_eb7bvrO7"
      },
      "source": [
        "# <img style=\"float: left; padding-right: 10px; width: 45px\" src=\"https://raw.githubusercontent.com/Harvard-IACS/2018-CS109A/master/content/styles/iacs.png\"> CS-109B Advanced Data Science\n",
        "## Lab 11: Generative Adversarial Networks\n",
        "\n",
        "**Harvard University**<br>\n",
        "**Spring 2019**<br>\n",
        "**Lab instructor:** Srivatsan Srinivasan<br>\n",
        "**Instructors:** Pavlos Protopapas and Mark Glickman<br>\n",
        "**Authors:** Srivatsan Srinivasan, Pavlos Protopapas"
      ]
    },
    {
      "cell_type": "code",
      "metadata": {
        "id": "Ct5LN7ZlvrO_"
      },
      "source": [
        "import numpy\n",
        "from keras.datasets import imdb\n",
        "from keras.models import Sequential, Model\n",
        "from keras.layers.core import Dense, Dropout\n",
        "from keras.layers import LSTM, SimpleRNN, Input\n",
        "from keras.layers.embeddings import Embedding\n",
        "from keras.layers import Flatten\n",
        "from keras.preprocessing import sequence\n",
        "from keras.layers.convolutional import Conv1D\n",
        "from keras.layers.convolutional import MaxPooling1D\n",
        "from keras.layers.embeddings import Embedding\n",
        "import numpy as np\n",
        "import matplotlib.pyplot as plt\n",
        "import scipy\n",
        "# fix random seed for reproducibility\n",
        "numpy.random.seed(1)"
      ],
      "execution_count": 1,
      "outputs": []
    },
    {
      "cell_type": "markdown",
      "metadata": {
        "id": "ZVb8asD3vrPA"
      },
      "source": [
        "## Learning Goals\n",
        "\n",
        "In this lab we will look at Generative Adversarial Networks (GANs), their construction and training.\n",
        "\n",
        "By the end of this lab, you should:\n",
        "\n",
        "- know how to put together the building blocks used in GANs \n",
        "- have a good undertanding of generative models and implicit distributions that generators learn\n",
        "- learning properties of GAN at a small scale\n",
        "- concepts of adversarial training - min-max etc.\n",
        "- mode collapse problems in GAN"
      ]
    },
    {
      "cell_type": "markdown",
      "metadata": {
        "id": "W8BSVPv7vrPB"
      },
      "source": [
        "### EXERCISE 1 : Generate 1-D Gaussian Distribution from Uniform Noise\n",
        "\n",
        "In this exercise, we are going to generate 1-D Gaussian distribution from a n-D uniform distribution. This is a toy exercise in order to understand the ability of GANs (generators) to generate arbitrary distributions from random noise."
      ]
    },
    {
      "cell_type": "markdown",
      "metadata": {
        "id": "KDUQsxHIvrPC"
      },
      "source": [
        "Generate training data - Gaussian Distribution"
      ]
    },
    {
      "cell_type": "code",
      "metadata": {
        "id": "_ABtUN8rvrPC"
      },
      "source": [
        "def generate_data(n_samples = 10000,n_dim=1):\n",
        "  return np.random.randn(n_samples, n_dim)  "
      ],
      "execution_count": 2,
      "outputs": []
    },
    {
      "cell_type": "markdown",
      "metadata": {
        "id": "oIoAPNobvrPD"
      },
      "source": [
        "Let us define a function that gives you a keras model of general feedforward network \n",
        "based on the parameters."
      ]
    },
    {
      "cell_type": "code",
      "metadata": {
        "id": "T_OTb8fpvrPD"
      },
      "source": [
        "#INPUT is of input dim,, goes through n_layers number of hidden layers and output is of output_dim\n",
        "def set_model(input_dim, output_dim, hidden_dim=64,n_layers = 1,activation='tanh',optimizer='adam', loss = 'binary_crossentropy'):\n",
        "  #### YOUR CODE HERE ####\n",
        "  model = Sequential()\n",
        "  model.add(Dense(hidden_dim,input_dim=input_dim,activation=activation))\n",
        "  \n",
        "  for _ in range(n_layers-1):\n",
        "    model.add(Dense(hidden_dim),activation=activation)\n",
        "  model.add(Dense(output_dim))\n",
        "  \n",
        "  model.compile(loss=loss, optimizer=optimizer)\n",
        "  print(model.summary())\n",
        "  return model"
      ],
      "execution_count": 3,
      "outputs": []
    },
    {
      "cell_type": "code",
      "metadata": {
        "id": "2kqqLATKvrPD"
      },
      "source": [
        "#INPUT (z) is of random_dim dimension \n",
        "#OUTPUT should be a keras model - D(G(z)) - Discriminator score for the generator's images generated\n",
        "#from synthetic data.\n",
        "\n",
        "def get_gan_network(discriminator, random_dim, generator, optimizer = 'adam'):\n",
        "    ### YOUR CODE HERE ###\n",
        "  discriminator.trainable = False\n",
        "  gan_input = Input(shape=(random_dim,))\n",
        "  x = generator(gan_input)\n",
        "  gan_output = discriminator(x)\n",
        "  gan = Model(inputs = gan_input,outputs=gan_output)\n",
        "  gan.compile( loss='binary_crossentropy', optimizer=optimizer)\n",
        "  return gan\n",
        "  "
      ],
      "execution_count": 4,
      "outputs": []
    },
    {
      "cell_type": "markdown",
      "metadata": {
        "id": "X6c-0wsEvrPG"
      },
      "source": [
        "Let us now write the training function for a GAN"
      ]
    },
    {
      "cell_type": "code",
      "metadata": {
        "id": "zlktfWNVvrPG"
      },
      "source": [
        "NOISE_DIM = 10\n",
        "DATA_DIM = 1\n",
        "G_LAYERS = 1\n",
        "D_LAYERS = 1"
      ],
      "execution_count": 5,
      "outputs": []
    },
    {
      "cell_type": "code",
      "metadata": {
        "id": "VHTbxkahvrPG"
      },
      "source": [
        "def train_gan(epochs=1,batch_size=128):\n",
        "  x_train = generate_data(n_samples=12800,n_dim=DATA_DIM)\n",
        "  batch_count = x_train.shape[0]/batch_size\n",
        "  \n",
        "  generator = set_model(NOISE_DIM, DATA_DIM, n_layers=G_LAYERS, activation='tanh',loss = 'mean_squared_error')\n",
        "  discriminator = set_model(DATA_DIM, 1, n_layers= D_LAYERS, activation='sigmoid')\n",
        "  gan = get_gan_network(discriminator, NOISE_DIM, generator, 'adam')\n",
        "  \n",
        "  for e in range(1,epochs+1):   \n",
        "    \n",
        "    # Noise is generated from a uniform distribution\n",
        "    noise = np.random.rand(batch_size,NOISE_DIM)\n",
        "    true_batch = x_train[np.random.choice(x_train.shape[0], batch_size, replace=False), :]\n",
        "    \n",
        "    generated_values = generator.predict(noise)\n",
        "    X = np.concatenate([generated_values,true_batch])\n",
        "    \n",
        "    y_dis = np.zeros(2*batch_size)\n",
        "    \n",
        "    #One-sided label smoothing to avoid overconfidence. In GAN, if the discriminator depends on a small set of features to detect real images, \n",
        "    #the generator may just produce these features only to exploit the discriminator. \n",
        "    #The optimization may turn too greedy and produces no long term benefit.\n",
        "    #To avoid the problem, we penalize the discriminator when the prediction for any real images go beyond 0.9 (D(real image)>0.9). \n",
        "    y_dis[:batch_size] = 0.9    \n",
        "    \n",
        "    discriminator.trainable = True  \n",
        "    ###YOUR CODE HERE####\n",
        "    disc_history = discriminator.train_on_batch(X, y_dis)\n",
        "    discriminator.trainable = False\n",
        "    # One line : Train discriminator using train_on_batch  \n",
        "    discriminator.trainable = False\n",
        "\n",
        "    # Train generator. Noise is generated from a uniform distribution\n",
        "    ### YOUR CODE HERE. Couple of lines. Should call gan.train_on_batch()###\n",
        "        # Noise is generated from a uniform distribution\n",
        "    noise = np.random.rand(batch_size,NOISE_DIM)\n",
        "    y_gen = np.zeros(batch_size)    \n",
        "    gan.train_on_batch(noise, y_gen)\n",
        " \n",
        " \n",
        "    \n",
        "  return generator, discriminator\n",
        "  "
      ],
      "execution_count": 6,
      "outputs": []
    },
    {
      "cell_type": "code",
      "metadata": {
        "colab": {
          "base_uri": "https://localhost:8080/"
        },
        "id": "sDX9OMzqvrPH",
        "outputId": "b98dddd8-059a-4428-8653-8eb03705549d"
      },
      "source": [
        "generator, discriminator = train_gan()"
      ],
      "execution_count": 7,
      "outputs": [
        {
          "output_type": "stream",
          "text": [
            "Model: \"sequential\"\n",
            "_________________________________________________________________\n",
            "Layer (type)                 Output Shape              Param #   \n",
            "=================================================================\n",
            "dense (Dense)                (None, 64)                704       \n",
            "_________________________________________________________________\n",
            "dense_1 (Dense)              (None, 1)                 65        \n",
            "=================================================================\n",
            "Total params: 769\n",
            "Trainable params: 769\n",
            "Non-trainable params: 0\n",
            "_________________________________________________________________\n",
            "None\n",
            "Model: \"sequential_1\"\n",
            "_________________________________________________________________\n",
            "Layer (type)                 Output Shape              Param #   \n",
            "=================================================================\n",
            "dense_2 (Dense)              (None, 64)                128       \n",
            "_________________________________________________________________\n",
            "dense_3 (Dense)              (None, 1)                 65        \n",
            "=================================================================\n",
            "Total params: 193\n",
            "Trainable params: 193\n",
            "Non-trainable params: 0\n",
            "_________________________________________________________________\n",
            "None\n"
          ],
          "name": "stdout"
        }
      ]
    },
    {
      "cell_type": "markdown",
      "metadata": {
        "id": "t7qrbVkavrPI"
      },
      "source": [
        "Let us visualize what the generator has learned."
      ]
    },
    {
      "cell_type": "code",
      "metadata": {
        "colab": {
          "base_uri": "https://localhost:8080/",
          "height": 332
        },
        "id": "lrrV8_jlvrPI",
        "outputId": "1a5f72c5-36af-450e-b62d-eb90321d12eb"
      },
      "source": [
        "import scipy.stats\n",
        "\n",
        "noise = np.random.rand(10000,NOISE_DIM)\n",
        "generated_values = generator.predict(noise)\n",
        "plt.hist(generated_values,bins=100)\n",
        "\n",
        "\n",
        "true_gaussian = [np.random.randn() for x in range(10000)]\n",
        "\n",
        "print('1st order moment - ', 'True : ', scipy.stats.moment(true_gaussian, 1) , ', GAN :', scipy.stats.moment(generated_values,1))\n",
        "print('2nd order moment - ', 'True : ', scipy.stats.moment(true_gaussian, 2) , ', GAN :', scipy.stats.moment(generated_values,2))\n",
        "print('3rd order moment - ', 'True : ', scipy.stats.moment(true_gaussian, 3) , ', GAN :', scipy.stats.moment(generated_values,3))\n",
        "print('4th order moment - ', 'True : ', scipy.stats.moment(true_gaussian, 4) , ', GAN :', scipy.stats.moment(generated_values,4))\n",
        "plt.show()"
      ],
      "execution_count": 9,
      "outputs": [
        {
          "output_type": "stream",
          "text": [
            "1st order moment -  True :  0.0 , GAN : [0.]\n",
            "2nd order moment -  True :  0.9904097784345453 , GAN : [0.02625541]\n",
            "3rd order moment -  True :  0.026607174642747623 , GAN : [0.00031073]\n",
            "4th order moment -  True :  2.993218692667433 , GAN : [0.001879]\n"
          ],
          "name": "stdout"
        },
        {
          "output_type": "display_data",
          "data": {
            "image/png": "[encoded data removed]",
            "text/plain": [
              "<Figure size 432x288 with 1 Axes>"
            ]
          },
          "metadata": {
            "tags": [],
            "needs_background": "light"
          }
        }
      ]
    },
    {
      "cell_type": "markdown",
      "metadata": {
        "id": "suUhFnLXvrPJ"
      },
      "source": [
        "#### CONCLUSIONS\n",
        "\n",
        "1. GANs are able to learn a generative model from arbitrary noise distributions.\n",
        "\n",
        "2. Traditional GANs do not learn the higher-order moments well. Possible issues : Number of samples, approximating higher moments is hard. Usually known to under-predict higher order variances. For people interested in learning why, read more about divergence measures between distributions (particularly about Wasserstein etc.)\n",
        "\n",
        "#### PLAY WITH IT WHEN YOU HAVE TIME !\n",
        "\n",
        "1. Try different noise dimensions and see what minimum dimension you need to learn this well.\n",
        "2. Try to generate multimodal distribution like a Gaussian Mixture instead of simple Gaussian and see if GAN is able to learn multimodal distributions well."
      ]
    },
    {
      "cell_type": "markdown",
      "metadata": {
        "id": "sNoccAoovrPJ"
      },
      "source": [
        "### EXERCISE 2 : MNIST GAN - Learn to generate MNIST digits"
      ]
    },
    {
      "cell_type": "code",
      "metadata": {
        "colab": {
          "base_uri": "https://localhost:8080/"
        },
        "id": "zvXnJCYvvrPJ",
        "outputId": "95f124d4-a589-4dbb-b6eb-0e41891632fa"
      },
      "source": [
        "from keras.datasets import mnist\n",
        "from keras.utils import np_utils\n",
        "from keras.models import Sequential, Model\n",
        "from keras.layers import Input, Dense, Dropout, Activation, Flatten\n",
        "from keras.layers.advanced_activations import LeakyReLU\n",
        "from keras.optimizers import Adam, RMSprop\n",
        "import numpy as np\n",
        "import matplotlib.pyplot as plt\n",
        "import random\n",
        "from tqdm import tqdm_notebook\n",
        "\n",
        "# Dataset of 60,000 28x28 grayscale images of the 10 digits, along with a test set of 10,000 images.\n",
        "(X_train, Y_train), (X_test, Y_test) = mnist.load_data()"
      ],
      "execution_count": 10,
      "outputs": [
        {
          "output_type": "stream",
          "text": [
            "Downloading data from https://storage.googleapis.com/tensorflow/tf-keras-datasets/mnist.npz\n",
            "11493376/11490434 [==============================] - 0s 0us/step\n"
          ],
          "name": "stdout"
        }
      ]
    },
    {
      "cell_type": "markdown",
      "metadata": {
        "id": "BmJILXIcvrPK"
      },
      "source": [
        "Rescale data since we are using ReLU activations. <b>WHY ?</b>"
      ]
    },
    {
      "cell_type": "code",
      "metadata": {
        "id": "vUMJ9qGXvrPK"
      },
      "source": [
        "X_train = X_train.reshape(60000, 784)\n",
        "X_test = X_test.reshape(10000, 784)\n",
        "X_train = X_train.astype('float32')/255\n",
        "X_test = X_test.astype('float32')/255"
      ],
      "execution_count": 11,
      "outputs": []
    },
    {
      "cell_type": "code",
      "metadata": {
        "id": "21yf2oUevrPK"
      },
      "source": [
        "z_dim = 100"
      ],
      "execution_count": 12,
      "outputs": []
    },
    {
      "cell_type": "markdown",
      "metadata": {
        "id": "ejCuvSGXvrPK"
      },
      "source": [
        "#### BUILD MODEL\n",
        "\n",
        "We are using LeakyReLU activations. \n",
        "\n",
        "We will build\n",
        "\n",
        "a.) Generator\n",
        "b.) Discriminator\n",
        "c.) GAN\n",
        "\n",
        "as feedforwards with multiple layers, dropout and LeakyReLU."
      ]
    },
    {
      "cell_type": "code",
      "metadata": {
        "colab": {
          "base_uri": "https://localhost:8080/",
          "height": 265
        },
        "id": "AmaLs6DkxuSj",
        "outputId": "3332d246-003a-45b8-a674-2de36c0ebdfc"
      },
      "source": [
        "def leakyReLU(x,neg_scale=0.01):\n",
        "  if x > 0:\n",
        "    return x\n",
        "  else:\n",
        "    return neg_scale*x\n",
        "\n",
        "std_relu = []\n",
        "leaky_relu = []\n",
        "\n",
        "std_relu = [leakyReLU(x,neg_scale=0) for x in np.linspace(-100,100,10000)]\n",
        "leaky_relu = [leakyReLU(x,neg_scale=0.1) for x in np.linspace(-100,100,10000)]\n",
        "\n",
        "plt.plot(np.linspace(-100,100,10000),std_relu, label='standard_RELU')\n",
        "plt.plot(np.linspace(-100,100,10000),leaky_relu, label='leaky_RELU')\n",
        "plt.legend()\n",
        "plt.show()"
      ],
      "execution_count": 14,
      "outputs": [
        {
          "output_type": "display_data",
          "data": {
            "image/png": "[encoded data removed]",
            "text/plain": [
              "<Figure size 432x288 with 1 Axes>"
            ]
          },
          "metadata": {
            "tags": [],
            "needs_background": "light"
          }
        }
      ]
    },
    {
      "cell_type": "code",
      "metadata": {
        "id": "WnjHAwRwvrPL"
      },
      "source": [
        "#@title\n",
        "adam = Adam(lr=0.0002, beta_1=0.5)\n",
        "\n",
        "\n",
        "#GENERATOR\n",
        "g = Sequential()\n",
        "g.add(Dense(256, input_dim=z_dim, activation=LeakyReLU(alpha=0.2)))\n",
        "g.add(Dense(512, activation=LeakyReLU(alpha=0.2)))\n",
        "g.add(Dense(1024, activation=LeakyReLU(alpha=0.2)))\n",
        "g.add(Dense(784, activation='sigmoid'))  # Values between 0 and 1\n",
        "g.compile(loss='binary_crossentropy', optimizer=adam, metrics=['accuracy'])\n",
        "\n",
        "#DISCRIMINATOR\n",
        "d = Sequential()\n",
        "d.add(Dense(1024, input_dim=784, activation=LeakyReLU(alpha=0.2)))\n",
        "d.add(Dropout(0.3))\n",
        "d.add(Dense(512, activation=LeakyReLU(alpha=0.2)))\n",
        "d.add(Dropout(0.3))\n",
        "d.add(Dense(256, activation=LeakyReLU(alpha=0.2)))\n",
        "d.add(Dropout(0.3))\n",
        "d.add(Dense(1, activation='sigmoid'))  # Values between 0 and 1\n",
        "d.compile(loss='binary_crossentropy', optimizer=adam, metrics=['accuracy'])\n",
        "\n",
        "#GAN\n",
        "d.trainable = False\n",
        "inputs = Input(shape=(z_dim, ))\n",
        "hidden = g(inputs)\n",
        "output = d(hidden)\n",
        "gan = Model(inputs, output)\n",
        "gan.compile(loss='binary_crossentropy', optimizer=adam, metrics=['accuracy'])"
      ],
      "execution_count": 16,
      "outputs": []
    },
    {
      "cell_type": "markdown",
      "metadata": {
        "id": "X8z7zma2vrPL"
      },
      "source": [
        "Let us write some visualization code."
      ]
    },
    {
      "cell_type": "code",
      "metadata": {
        "id": "Z6xtelDGvrPL"
      },
      "source": [
        "def plot_loss(losses):\n",
        "    \"\"\"\n",
        "    @losses.keys():\n",
        "        0: loss\n",
        "        1: accuracy\n",
        "    \"\"\"\n",
        "    d_loss = [v[0] for v in losses[\"D\"]]\n",
        "    g_loss = [v[0] for v in losses[\"G\"]]\n",
        "    \n",
        "    plt.figure(figsize=(10,8))\n",
        "    plt.plot(d_loss, label=\"Discriminator loss\")\n",
        "    plt.plot(g_loss, label=\"Generator loss\")\n",
        "    plt.xlabel('Epochs')\n",
        "    plt.ylabel('Loss')\n",
        "    plt.legend()\n",
        "    plt.show()\n",
        "    \n",
        "def plot_generated(n_ex=10, dim=(1, 10), figsize=(12, 2)):\n",
        "    noise = np.random.normal(0, 1, size=(n_ex, z_dim))\n",
        "    generated_images = g.predict(noise)\n",
        "    generated_images = generated_images.reshape(n_ex, 28, 28)\n",
        "\n",
        "    plt.figure(figsize=figsize)\n",
        "    for i in range(generated_images.shape[0]):\n",
        "        plt.subplot(dim[0], dim[1], i+1)\n",
        "        plt.imshow(generated_images[i], interpolation='nearest', cmap='gray_r')\n",
        "        plt.axis('off')\n",
        "    plt.tight_layout()\n",
        "    plt.show()"
      ],
      "execution_count": 17,
      "outputs": []
    },
    {
      "cell_type": "markdown",
      "metadata": {
        "id": "SD8OYYwXvrPL"
      },
      "source": [
        "<b> TRAIN THE MODEL </b>\n",
        "\n",
        "Generate noise, feed into generator, compare them with discriminator, train the GAN and REPEAT."
      ]
    },
    {
      "cell_type": "code",
      "metadata": {
        "id": "TCEahCj1vrPM"
      },
      "source": [
        "losses = {\"D\":[], \"G\":[]}\n",
        "\n",
        "def train(epochs=1, plt_frq=1, BATCH_SIZE=128):\n",
        "    batchCount = int(X_train.shape[0] / BATCH_SIZE)\n",
        "    print('Epochs:', epochs)\n",
        "    print('Batch size:', BATCH_SIZE)\n",
        "    print('Batches per epoch:', batchCount)\n",
        "    \n",
        "    for e in tqdm_notebook(range(1, epochs+1)):\n",
        "        if e == 1 or e%plt_frq == 0:\n",
        "            print('-'*15, 'Epoch %d' % e, '-'*15)\n",
        "        for _ in range(batchCount):  # tqdm_notebook(range(batchCount), leave=False):\n",
        "            # Create a batch by drawing random index numbers from the training set\n",
        "            image_batch = X_train[np.random.randint(0, X_train.shape[0], size=BATCH_SIZE)]\n",
        "            # Create noise vectors for the generator\n",
        "            noise = np.random.normal(0, 1, size=(BATCH_SIZE, z_dim))\n",
        "            \n",
        "            # Generate the images from the noise\n",
        "            generated_images = g.predict(noise)\n",
        "            X = np.concatenate((image_batch, generated_images))\n",
        "            # Create labels\n",
        "            y = np.zeros(2*BATCH_SIZE)\n",
        "            y[:BATCH_SIZE] = 0.9  # One-sided label smoothing\n",
        "\n",
        "            # Train discriminator on generated images\n",
        "            d.trainable = True\n",
        "            d_loss = d.train_on_batch(X, y)\n",
        "\n",
        "            # Train generator\n",
        "            noise = np.random.normal(0, 1, size=(BATCH_SIZE, z_dim))\n",
        "            y2 = np.ones(BATCH_SIZE)\n",
        "            d.trainable = False\n",
        "            g_loss = gan.train_on_batch(noise, y2)\n",
        "\n",
        "        # Only store losses from final\n",
        "        losses[\"D\"].append(d_loss)\n",
        "        losses[\"G\"].append(g_loss)\n",
        "\n",
        "        # Update the plots\n",
        "        if e == 1 or e%plt_frq == 0:\n",
        "            plot_generated()\n",
        "    plot_loss(losses)"
      ],
      "execution_count": 20,
      "outputs": []
    },
    {
      "cell_type": "code",
      "metadata": {
        "colab": {
          "base_uri": "https://localhost:8080/",
          "height": 1000,
          "referenced_widgets": [
            "c1a7c924ef3f42a7babd974a3e1fc993",
            "134210dceb4a4da8868ad2bae7b8149f",
            "952c71389072428c9b9801e9a6d4f8a7",
            "72ff3f7ee6534cefb238efca02aecaea",
            "2732925db424418f9992360839f2ed3c",
            "d09f61de3e924e279f1f600c2e5ff6cb",
            "bc0c47cd2d064d3f881a02c6d14f7fb5",
            "8a90ca5fb2db4ef6b47eed145381662b"
          ]
        },
        "id": "1jyE68EBvrPM",
        "outputId": "ba6fc71c-ae68-4647-b236-356bb5789077"
      },
      "source": [
        "train(epochs=200, plt_frq=40, BATCH_SIZE=128)"
      ],
      "execution_count": 21,
      "outputs": [
        {
          "output_type": "stream",
          "text": [
            "Epochs: 200\n",
            "Batch size: 128\n",
            "Batches per epoch: 468\n"
          ],
          "name": "stdout"
        },
        {
          "output_type": "stream",
          "text": [
            "/usr/local/lib/python3.7/dist-packages/ipykernel_launcher.py:9: TqdmDeprecationWarning: This function will be removed in tqdm==5.0.0\n",
            "Please use `tqdm.notebook.tqdm` instead of `tqdm.tqdm_notebook`\n",
            "  if __name__ == '__main__':\n"
          ],
          "name": "stderr"
        },
        {
          "output_type": "display_data",
          "data": {
            "application/vnd.jupyter.widget-view+json": {
              "model_id": "c1a7c924ef3f42a7babd974a3e1fc993",
              "version_minor": 0,
              "version_major": 2
            },
            "text/plain": [
              "HBox(children=(FloatProgress(value=0.0, max=200.0), HTML(value='')))"
            ]
          },
          "metadata": {
            "tags": []
          }
        },
        {
          "output_type": "stream",
          "text": [
            "--------------- Epoch 1 ---------------\n"
          ],
          "name": "stdout"
        },
        {
          "output_type": "display_data",
          "data": {
            "image/png": "[encoded data removed]",
            "text/plain": [
              "<Figure size 864x144 with 10 Axes>"
            ]
          },
          "metadata": {
            "tags": [],
            "needs_background": "light"
          }
        },
        {
          "output_type": "stream",
          "text": [
            "--------------- Epoch 40 ---------------\n"
          ],
          "name": "stdout"
        },
        {
          "output_type": "display_data",
          "data": {
            "image/png": "[encoded data removed]",
            "text/plain": [
              "<Figure size 864x144 with 10 Axes>"
            ]
          },
          "metadata": {
            "tags": [],
            "needs_background": "light"
          }
        },
        {
          "output_type": "stream",
          "text": [
            "--------------- Epoch 80 ---------------\n"
          ],
          "name": "stdout"
        },
        {
          "output_type": "display_data",
          "data": {
            "image/png": "[encoded data removed]",
            "text/plain": [
              "<Figure size 864x144 with 10 Axes>"
            ]
          },
          "metadata": {
            "tags": [],
            "needs_background": "light"
          }
        },
        {
          "output_type": "stream",
          "text": [
            "--------------- Epoch 120 ---------------\n"
          ],
          "name": "stdout"
        },
        {
          "output_type": "display_data",
          "data": {
            "image/png": "[encoded data removed]",
            "text/plain": [
              "<Figure size 864x144 with 10 Axes>"
            ]
          },
          "metadata": {
            "tags": [],
            "needs_background": "light"
          }
        },
        {
          "output_type": "stream",
          "text": [
            "--------------- Epoch 160 ---------------\n"
          ],
          "name": "stdout"
        },
        {
          "output_type": "display_data",
          "data": {
            "image/png": "[encoded data removed]",
            "text/plain": [
              "<Figure size 864x144 with 10 Axes>"
            ]
          },
          "metadata": {
            "tags": [],
            "needs_background": "light"
          }
        },
        {
          "output_type": "stream",
          "text": [
            "--------------- Epoch 200 ---------------\n"
          ],
          "name": "stdout"
        },
        {
          "output_type": "display_data",
          "data": {
            "image/png": "[encoded data removed]",
            "text/plain": [
              "<Figure size 864x144 with 10 Axes>"
            ]
          },
          "metadata": {
            "tags": [],
            "needs_background": "light"
          }
        },
        {
          "output_type": "stream",
          "text": [
            "\n"
          ],
          "name": "stdout"
        },
        {
          "output_type": "display_data",
          "data": {
            "image/png": "[encoded data removed]",
            "text/plain": [
              "<Figure size 720x576 with 1 Axes>"
            ]
          },
          "metadata": {
            "tags": [],
            "needs_background": "light"
          }
        }
      ]
    },
    {
      "cell_type": "markdown",
      "metadata": {
        "id": "cjPSwSSPvrPN"
      },
      "source": [
        "#### TAKE-HOME EXERCISE\n",
        "\n",
        "1. Try to build CNN models instead of feedforwards\n",
        "2. Try different noise dimensions\n",
        "3. Try implementing some training tricks suggested in https://github.com/soumith/ganhacks and study incremental improvements."
      ]
    },
    {
      "cell_type": "markdown",
      "metadata": {
        "id": "FGICEUPGvrPN"
      },
      "source": [
        "#### DISCUSSION : Why can GANs potentially mode collapse ? Remember there is no guarantee of mode collapse.\n",
        "\n"
      ]
    },
    {
      "cell_type": "markdown",
      "metadata": {
        "id": "PMSt0ZE5vrPN"
      },
      "source": [
        "#### TL;DR - There is inherently no \"motivation\" for generator to produce a diverse set of samples as discriminator only penalizes for producing \"bad\" samples. It is easy to learn a few modes than all modes of a multi modal distribution.\n",
        "\n",
        "Remember, the goal of the generator G is to fool the discriminator by causing it to assign the generated sample the highest probability of being real as possible. Mathematically, G tries to minimize E_z∼p_z(z)[log(1−D(G(z)))], or in other words, to generate the point x*=G(z) such that x*=argmax_x D(x) (of course, we’re assuming that we hold the discriminator fixed for now; we’re merely describing the optimization objective at a given timestep). Note that this x* is fixed regardless of the value of z, the input to the generator! x* only depends on the discriminator at the given timestep. This means that on expectation, there exists a single fixed point that the generator thinks is the most optimal point to generate regardless of whatever input noise we feed it - there is nothing in the objective function that explicitly forces the generator to generate different samples given the input. During this training step, stochastic gradient descent - again, on expectation - would cause the generator to update its weights towards generating this ideal point.\n",
        "\n",
        "This by itself doesn’t immediately mean mode collapse; during the entirety of the training process, mode collapse may happen only partially or not at all. Since training is a stochastic process, during the beginning stages in training the generated samples will vary depending on z and the samples drawn from the real distribution will also vary - this means that gradients backpropagated to the generator will vary between training steps depending on the generated and real samples. Moreover the discriminator, ideally, should be able to identify generator mode collapse while it’s happening and assign the collapse point a low probability to force the generator to spread out. This is why we do see training runs succeed in GAN/DCGAN-based models.\n",
        "\n",
        "But in practice, especially in default GAN models, mode collapse happens quite often. The discriminator ends up not really forcing more diversity in the generator, so much as simply pushing the partially collapsed generator to a different part of output space - if it assigns the collapse point a low probability, the generator will simply move its collapsed distribution to focus on a new output point. And finally, in the case where the generator has actually collapsed to a single point, it can’t get out; you’ll have to restart your training. To see why this is the case, remember how I said above that the gradient updates to the generator are stochastic, because its generated outputs will vary based on z. Well, in the world where the generator is already collapsed, it will emit the same output for every z. This means that if you feed a batch of generator outputs to the discriminator and get the gradients back, the generator gradients will all essentially be identical. And they’ll all be racing towards the same maximum point x*! Which means the generator will continue to generate the same output regardless of input. Even if the discriminator identifies this and sets the point to low probability, still, the identical gradient updates will cause all outputs of the generator rushing to another fixed point. At this point your training is ruined.\n",
        "\n",
        "\n",
        "Thanks : This version of the answer is from https://www.quora.com/What-causes-mode-collapse-in-GANs"
      ]
    },
    {
      "cell_type": "code",
      "metadata": {
        "id": "TJGgaRgNyT4h"
      },
      "source": [
        "33\n",
        "10\n",
        "23\n",
        "44\n",
        "\n",
        "1.5\n",
        "45000\n",
        "10\n",
        "1900\n",
        "\n",
        "18160\n",
        "16000\n",
        "\n",
        "\n",
        "\n"
      ],
      "execution_count": null,
      "outputs": []
    }
  ]
}