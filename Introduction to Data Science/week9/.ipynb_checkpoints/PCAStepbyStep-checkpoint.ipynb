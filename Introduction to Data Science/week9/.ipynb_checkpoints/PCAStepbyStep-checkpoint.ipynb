{
 "cells": [
  {
   "cell_type": "code",
   "execution_count": 1,
   "metadata": {},
   "outputs": [
    {
     "name": "stdout",
     "output_type": "stream",
     "text": [
      "[[ 5  4 11 10  5  4]\n",
      " [ 4  5 10 11  5  3]\n",
      " [11 10 25 24  2  3]\n",
      " [10 11 24 25  4  5]]\n"
     ]
    }
   ],
   "source": [
    "from numpy import array\n",
    "from numpy.linalg import eig\n",
    "A = array([[5, 4, 11, 10, 5, 4], \n",
    "           [4, 5, 10, 11, 5, 3], \n",
    "           [11, 10, 25, 24, 2, 3], \n",
    "           [10, 11, 24, 25, 4, 5]])\n",
    "print(A)"
   ]
  },
  {
   "cell_type": "code",
   "execution_count": 3,
   "metadata": {},
   "outputs": [
    {
     "data": {
      "text/plain": [
       "(4, 6)"
      ]
     },
     "execution_count": 3,
     "metadata": {},
     "output_type": "execute_result"
    }
   ],
   "source": [
    "A.shape"
   ]
  },
  {
   "cell_type": "code",
   "execution_count": 4,
   "metadata": {},
   "outputs": [
    {
     "name": "stdout",
     "output_type": "stream",
     "text": [
      "[[ 5  4 11 10]\n",
      " [ 4  5 10 11]\n",
      " [11 10 25 24]\n",
      " [10 11 24 25]\n",
      " [ 5  5  2  4]\n",
      " [ 4  3  3  5]]\n"
     ]
    }
   ],
   "source": [
    "AT=A.T\n",
    "print(AT)"
   ]
  },
  {
   "cell_type": "code",
   "execution_count": 5,
   "metadata": {},
   "outputs": [
    {
     "name": "stdout",
     "output_type": "stream",
     "text": [
      "[[ 303  297  632  648]\n",
      " [ 297  296  627  645]\n",
      " [ 632  627 1435 1443]\n",
      " [ 648  645 1443 1463]]\n"
     ]
    }
   ],
   "source": [
    "import numpy as np\n",
    "AAT=np.matmul(A, AT)\n",
    "print(AAT)"
   ]
  },
  {
   "cell_type": "code",
   "execution_count": 6,
   "metadata": {},
   "outputs": [
    {
     "name": "stdout",
     "output_type": "stream",
     "text": [
      "[[ 0.28881242  0.62977005  0.66093493  0.2883437 ]\n",
      " [ 0.28673804  0.57650943 -0.38655789 -0.66029627]\n",
      " [ 0.64185219 -0.52019967  0.39181653 -0.40484304]\n",
      " [ 0.6499188  -0.0204661  -0.5101155   0.56299988]]\n",
      "[3.46061753e+03 3.17820779e+01 3.82607663e+00 7.74319458e-01]\n"
     ]
    }
   ],
   "source": [
    "from numpy import linalg as LA\n",
    "w, v=LA.eig(AAT) # drop one column\n",
    "print(v)\n",
    "print(w)\n"
   ]
  },
  {
   "cell_type": "code",
   "execution_count": 7,
   "metadata": {},
   "outputs": [
    {
     "name": "stdout",
     "output_type": "stream",
     "text": [
      "[7.74319458e-01 3.82607663e+00 3.17820779e+01 3.46061753e+03]\n"
     ]
    },
    {
     "data": {
      "text/plain": [
       "array([   3.82607663,   31.78207793, 3460.61752598])"
      ]
     },
     "execution_count": 7,
     "metadata": {},
     "output_type": "execute_result"
    }
   ],
   "source": [
    "w.sort(axis=-1) # Sort the Eigen Values in Asending Order\n",
    "print(w)\n",
    "w[1:] # Top 3 elements in a Sorted array"
   ]
  },
  {
   "cell_type": "code",
   "execution_count": 18,
   "metadata": {},
   "outputs": [
    {
     "name": "stdout",
     "output_type": "stream",
     "text": [
      "Modified Eigen Vectors by removing columns at index 3\n",
      "[[ 0.28881242  0.62977005  0.66093493]\n",
      " [ 0.28673804  0.57650943 -0.38655789]\n",
      " [ 0.64185219 -0.52019967  0.39181653]\n",
      " [ 0.6499188  -0.0204661  -0.5101155 ]]\n"
     ]
    }
   ],
   "source": [
    "# Method 1: v[:,0:3] # First Three Vectors\n",
    "\n",
    "# Method 2\" Delete column at index 3, as its EigenValue is Very Small\n",
    "\n",
    "FinalSelectedVectors = np.delete(v, 3, axis=1)\n",
    "print('Modified Eigen Vectors by removing columns at index 3')\n",
    "print(FinalSelectedVectors)\n",
    "\n"
   ]
  },
  {
   "cell_type": "code",
   "execution_count": 17,
   "metadata": {},
   "outputs": [
    {
     "name": "stdout",
     "output_type": "stream",
     "text": [
      "[[ 0.28881242  0.62977005  0.66093493]\n",
      " [ 0.28673804  0.57650943 -0.38655789]\n",
      " [ 0.64185219 -0.52019967  0.39181653]\n",
      " [ 0.6499188  -0.0204661  -0.5101155 ]\n",
      " [ 0.          0.          0.        ]\n",
      " [ 0.          0.          0.        ]]\n"
     ]
    }
   ],
   "source": [
    "# Append two Zero Rows at the end of the Selected Eigen Vectors\n",
    "AppendedVectors = np.insert(FinalSelectedVectors,[4], [[0],[0], ], axis = 0) \n",
    "print(AppendedVectors)"
   ]
  },
  {
   "cell_type": "code",
   "execution_count": 8,
   "metadata": {},
   "outputs": [
    {
     "name": "stdout",
     "output_type": "stream",
     "text": [
      "[[ 1.61505764e+01 -4.71969414e-01  9.67269827e-01]\n",
      " [ 1.61565686e+01 -2.54964639e-02 -9.82155022e-01]\n",
      " [ 3.76886730e+01 -8.03613333e-01  9.57346364e-01]\n",
      " [ 3.76946652e+01 -3.57140383e-01 -9.92078486e-01]]\n"
     ]
    }
   ],
   "source": [
    "PCA=np.matmul(A, AppendedVectors)\n",
    "\n",
    "print(PCA)"
   ]
  },
  {
   "cell_type": "code",
   "execution_count": 9,
   "metadata": {},
   "outputs": [],
   "source": [
    "U, s, V = np.linalg.svd(A, full_matrices=True) # , compute_uv=True"
   ]
  },
  {
   "cell_type": "code",
   "execution_count": 10,
   "metadata": {},
   "outputs": [
    {
     "data": {
      "text/plain": [
       "((4, 4), (6, 6), (4,))"
      ]
     },
     "execution_count": 10,
     "metadata": {},
     "output_type": "execute_result"
    }
   ],
   "source": [
    "U.shape, V.shape, s.shape\n"
   ]
  },
  {
   "cell_type": "code",
   "execution_count": 11,
   "metadata": {},
   "outputs": [
    {
     "name": "stdout",
     "output_type": "stream",
     "text": [
      "[[-0.28881242 -0.62977005  0.66093493  0.2883437 ]\n",
      " [-0.28673804 -0.57650943 -0.38655789 -0.66029627]\n",
      " [-0.64185219  0.52019967  0.39181653 -0.40484304]\n",
      " [-0.6499188   0.0204661  -0.5101155   0.56299988]]\n",
      "[[-2.74543537e-01 -2.74645399e-01 -6.40669494e-01 -6.40771356e-01\n",
      "  -1.14932435e-01 -1.22233205e-01]\n",
      " [ 8.37187454e-02  4.52260655e-03  1.42546313e-01  6.33501745e-02\n",
      "  -8.70790561e-01 -4.58652178e-01]\n",
      " [ 4.94505138e-01 -5.02115016e-01  4.89431886e-01 -5.07188268e-01\n",
      "   5.88211170e-02  5.56933000e-02]\n",
      " [-2.58436285e-02 -4.02097135e-03 -4.57533617e-02 -2.39307046e-02\n",
      "  -4.74398999e-01  8.78405077e-01]\n",
      " [-7.92035094e-01 -4.08340469e-01  4.49070648e-01  6.53760221e-02\n",
      "   2.17343486e-15 -2.92418881e-15]\n",
      " [-2.12353956e-01  7.11106078e-01  3.54854562e-01 -5.68605472e-01\n",
      "   5.00224473e-16 -7.91922395e-16]]\n",
      "[58.82701357  5.63755957  1.95603595  0.87995424]\n"
     ]
    }
   ],
   "source": [
    "print(U)\n",
    "print(V)\n",
    "print(s)"
   ]
  }
 ],
 "metadata": {
  "kernelspec": {
   "display_name": "Python 3",
   "language": "python",
   "name": "python3"
  },
  "language_info": {
   "codemirror_mode": {
    "name": "ipython",
    "version": 3
   },
   "file_extension": ".py",
   "mimetype": "text/x-python",
   "name": "python",
   "nbconvert_exporter": "python",
   "pygments_lexer": "ipython3",
   "version": "3.7.1"
  }
 },
 "nbformat": 4,
 "nbformat_minor": 2
}
