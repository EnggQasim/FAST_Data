{
 "cells": [
  {
   "cell_type": "code",
   "execution_count": 1,
   "metadata": {},
   "outputs": [
    {
     "name": "stdout",
     "output_type": "stream",
     "text": [
      "   A    B  C\n",
      "0  1  2.0  3\n",
      "1  4  5.0  6\n",
      "4  2  NaN  5\n",
      "       A  B  C\n",
      "2      2  5  6\n",
      "3  Hello  3  4\n"
     ]
    }
   ],
   "source": [
    "import pandas as pd\n",
    "\n",
    "df1 = pd.read_csv('data1.csv', index_col=0)\n",
    "df2 = pd.read_csv('data2.csv', index_col=1)\n",
    "print(df1)\n",
    "print(df2)"
   ]
  },
  {
   "cell_type": "code",
   "execution_count": 2,
   "metadata": {},
   "outputs": [
    {
     "name": "stdout",
     "output_type": "stream",
     "text": [
      "       A    B  C\n",
      "0      1  2.0  3\n",
      "1      4  5.0  6\n",
      "4      2  NaN  5\n",
      "2      2  5.0  6\n",
      "3  Hello  3.0  4\n"
     ]
    }
   ],
   "source": [
    "df3 = pd.concat([df1,df2])\n",
    "print(df3)"
   ]
  },
  {
   "cell_type": "code",
   "execution_count": 4,
   "metadata": {},
   "outputs": [
    {
     "name": "stdout",
     "output_type": "stream",
     "text": [
      "   D  E\n",
      "1  1  7\n",
      "4  0  8\n"
     ]
    }
   ],
   "source": [
    "df4 = pd.read_csv('data3.csv', index_col=0)\n",
    "print(df4)"
   ]
  },
  {
   "cell_type": "code",
   "execution_count": 30,
   "metadata": {},
   "outputs": [],
   "source": [
    "df4.to_json('d1.json')"
   ]
  },
  {
   "cell_type": "code",
   "execution_count": 31,
   "metadata": {},
   "outputs": [
    {
     "name": "stdout",
     "output_type": "stream",
     "text": [
      "       A    B  C    D    E\n",
      "0      1  2.0  3  NaN  NaN\n",
      "1      4  5.0  6  1.0  7.0\n",
      "2      2  5.0  6  NaN  NaN\n",
      "3  Hello  3.0  4  NaN  NaN\n",
      "4      2  NaN  5  0.0  8.0\n",
      "B    3.75\n",
      "C    4.80\n",
      "D    0.50\n",
      "E    7.50\n",
      "dtype: float64\n"
     ]
    }
   ],
   "source": [
    "df5 = pd.concat([df3,df4],axis=1)\n",
    "print(df5)\n",
    "print(df5.mean())"
   ]
  },
  {
   "cell_type": "code",
   "execution_count": 33,
   "metadata": {},
   "outputs": [
    {
     "name": "stdout",
     "output_type": "stream",
     "text": [
      "   D  E\n",
      "1  1  7\n",
      "4  0  8\n"
     ]
    }
   ],
   "source": [
    "df6 = pd.read_json('d1.json')\n",
    "print(df6)"
   ]
  },
  {
   "cell_type": "code",
   "execution_count": 34,
   "metadata": {},
   "outputs": [
    {
     "name": "stdout",
     "output_type": "stream",
     "text": [
      "       A    B    C    D    E\n",
      "0      1  2.0  3.0  NaN  NaN\n",
      "1      4  5.0  6.0  1.0  7.0\n",
      "2      2  5.0  6.0  NaN  NaN\n",
      "3  Hello  3.0  4.0  NaN  NaN\n",
      "4      2  NaN  5.0  0.0  8.0\n",
      "5    NaN  NaN  NaN  1.0  7.0\n",
      "6    NaN  NaN  NaN  0.0  8.0\n"
     ]
    },
    {
     "name": "stderr",
     "output_type": "stream",
     "text": [
      "/home/muhammadqasim/anaconda3/lib/python3.7/site-packages/ipykernel_launcher.py:1: FutureWarning: Sorting because non-concatenation axis is not aligned. A future version\n",
      "of pandas will change to not sort by default.\n",
      "\n",
      "To accept the future behavior, pass 'sort=False'.\n",
      "\n",
      "To retain the current behavior and silence the warning, pass 'sort=True'.\n",
      "\n",
      "  \"\"\"Entry point for launching an IPython kernel.\n"
     ]
    }
   ],
   "source": [
    "df7 = pd.concat([df5,df6], ignore_index=True)\n",
    "print(df7)"
   ]
  },
  {
   "cell_type": "code",
   "execution_count": 35,
   "metadata": {
    "scrolled": true
   },
   "outputs": [
    {
     "name": "stdout",
     "output_type": "stream",
     "text": [
      "     A    B    C    D    E\n",
      "0  1.0  2.0  3.0  NaN  NaN\n",
      "1  4.0  5.0  6.0  1.0  7.0\n",
      "2  2.0  5.0  6.0  NaN  NaN\n",
      "3  NaN  3.0  4.0  NaN  NaN\n",
      "4  2.0  NaN  5.0  0.0  8.0\n",
      "5  NaN  NaN  NaN  1.0  7.0\n",
      "6  NaN  NaN  NaN  0.0  8.0\n"
     ]
    }
   ],
   "source": [
    "import numpy as np\n",
    "df8 = df7.replace('Hello', np.nan)\n",
    "for col in df8.columns:\n",
    "    df8[col] = pd.to_numeric(df8[col])\n",
    "print(df8)"
   ]
  },
  {
   "cell_type": "code",
   "execution_count": 36,
   "metadata": {},
   "outputs": [
    {
     "name": "stdout",
     "output_type": "stream",
     "text": [
      "     A    B    C    D    E\n",
      "0  1.0  2.0  3.0  NaN  NaN\n",
      "1  4.0  5.0  6.0  1.0  7.0\n",
      "2  2.0  5.0  6.0  NaN  NaN\n",
      "3  NaN  3.0  4.0  NaN  NaN\n",
      "4  2.0  NaN  5.0  0.0  8.0\n",
      "5  NaN  NaN  NaN  1.0  7.0\n",
      "6  NaN  NaN  NaN  0.0  8.0\n",
      "      A     B    C    D    E\n",
      "0  1.00  2.00  3.0  0.5  7.5\n",
      "1  4.00  5.00  6.0  1.0  7.0\n",
      "2  2.00  5.00  6.0  0.5  7.5\n",
      "3  2.25  3.00  4.0  0.5  7.5\n",
      "4  2.00  3.75  5.0  0.0  8.0\n",
      "5  2.25  3.75  4.8  1.0  7.0\n",
      "6  2.25  3.75  4.8  0.0  8.0\n"
     ]
    }
   ],
   "source": [
    "df9 = df8.copy()\n",
    "for col in df9.columns:\n",
    "    df9[col] = round(df9[col].fillna((df9[col].mean())), 2)\n",
    "print(df8)\n",
    "print(df9)"
   ]
  },
  {
   "cell_type": "code",
   "execution_count": 37,
   "metadata": {},
   "outputs": [],
   "source": [
    "df9.to_csv('newdatasadam.csv')"
   ]
  },
  {
   "cell_type": "code",
   "execution_count": null,
   "metadata": {},
   "outputs": [],
   "source": []
  }
 ],
 "metadata": {
  "kernelspec": {
   "display_name": "Python 3",
   "language": "python",
   "name": "python3"
  },
  "language_info": {
   "codemirror_mode": {
    "name": "ipython",
    "version": 3
   },
   "file_extension": ".py",
   "mimetype": "text/x-python",
   "name": "python",
   "nbconvert_exporter": "python",
   "pygments_lexer": "ipython3",
   "version": "3.7.1"
  }
 },
 "nbformat": 4,
 "nbformat_minor": 2
}
