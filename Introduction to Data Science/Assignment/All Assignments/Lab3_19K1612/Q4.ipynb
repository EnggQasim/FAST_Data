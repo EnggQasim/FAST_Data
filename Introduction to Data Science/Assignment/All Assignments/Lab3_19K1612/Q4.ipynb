{
 "cells": [
  {
   "cell_type": "code",
   "execution_count": 1,
   "metadata": {},
   "outputs": [],
   "source": [
    "import pandas as pd"
   ]
  },
  {
   "cell_type": "code",
   "execution_count": 2,
   "metadata": {},
   "outputs": [],
   "source": [
    "data = {'cities' : ['lahore','karachi',], 'provinces' : ['punjab','sindh']}"
   ]
  },
  {
   "cell_type": "code",
   "execution_count": 29,
   "metadata": {},
   "outputs": [],
   "source": [
    "frame1 = pd.DataFrame(data)"
   ]
  },
  {
   "cell_type": "code",
   "execution_count": 7,
   "metadata": {},
   "outputs": [],
   "source": [
    "data2 = {\"cities\": [\"islamabad\",\"karachi\",\"peshawar\",\"quetta\"],\n",
    " \"provinces\": [\"capital\",\"sindh\", \"KPK\",\"Balochistan\"]}"
   ]
  },
  {
   "cell_type": "code",
   "execution_count": 20,
   "metadata": {},
   "outputs": [],
   "source": [
    "frame2 = pd.DataFrame(data2)"
   ]
  },
  {
   "cell_type": "code",
   "execution_count": 22,
   "metadata": {},
   "outputs": [
    {
     "name": "stdout",
     "output_type": "stream",
     "text": [
      "      cities    provinces\n",
      "0     lahore       punjab\n",
      "1    karachi        sindh\n",
      "0  islamabad      capital\n",
      "1    karachi        sindh\n",
      "2   peshawar          KPK\n",
      "3     quetta  Balochistan\n"
     ]
    }
   ],
   "source": [
    "frame3 = pd.concat([frame1, frame2])\n",
    "print(frame3)"
   ]
  },
  {
   "cell_type": "code",
   "execution_count": 23,
   "metadata": {},
   "outputs": [],
   "source": [
    "frame3 = frame3.drop_duplicates()"
   ]
  },
  {
   "cell_type": "code",
   "execution_count": 24,
   "metadata": {},
   "outputs": [
    {
     "name": "stdout",
     "output_type": "stream",
     "text": [
      "      cities    provinces\n",
      "3     quetta  Balochistan\n",
      "2   peshawar          KPK\n",
      "0  islamabad      capital\n",
      "0     lahore       punjab\n",
      "1    karachi        sindh\n"
     ]
    }
   ],
   "source": [
    "frame3 = frame3.sort_values(by='provinces')\n",
    "print(frame3)"
   ]
  },
  {
   "cell_type": "code",
   "execution_count": 27,
   "metadata": {},
   "outputs": [
    {
     "name": "stdout",
     "output_type": "stream",
     "text": [
      "      cities    provinces\n",
      "0     quetta  Balochistan\n",
      "1   peshawar          KPK\n",
      "2  islamabad      capital\n",
      "3     lahore       punjab\n",
      "4    karachi        sindh\n"
     ]
    }
   ],
   "source": [
    "frame3 = frame3.reset_index(drop = True)\n",
    "print(frame3)"
   ]
  },
  {
   "cell_type": "code",
   "execution_count": null,
   "metadata": {},
   "outputs": [],
   "source": []
  },
  {
   "cell_type": "code",
   "execution_count": null,
   "metadata": {},
   "outputs": [],
   "source": []
  }
 ],
 "metadata": {
  "kernelspec": {
   "display_name": "Python 3",
   "language": "python",
   "name": "python3"
  },
  "language_info": {
   "codemirror_mode": {
    "name": "ipython",
    "version": 3
   },
   "file_extension": ".py",
   "mimetype": "text/x-python",
   "name": "python",
   "nbconvert_exporter": "python",
   "pygments_lexer": "ipython3",
   "version": "3.7.3"
  }
 },
 "nbformat": 4,
 "nbformat_minor": 2
}
