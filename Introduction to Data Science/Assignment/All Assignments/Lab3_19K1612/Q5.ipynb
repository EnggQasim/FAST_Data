{
 "cells": [
  {
   "cell_type": "code",
   "execution_count": 165,
   "metadata": {},
   "outputs": [],
   "source": [
    "import pandas as pd\n",
    "data2 = {\"Name\": [\"\",\"Ali\",\"Ahmed\",\"Nida\",\"\"],\n",
    " \"Field\": [\"C\",\"E\", \"E\",\"C\",\"C\"], \"Age\": [\"\",\"\",\"\",\"\",\"\"], \"Marks\": [-90,60,-10,70,75]}"
   ]
  },
  {
   "cell_type": "code",
   "execution_count": 166,
   "metadata": {},
   "outputs": [
    {
     "name": "stdout",
     "output_type": "stream",
     "text": [
      "    Name Field Age  Marks\n",
      "0            C        -90\n",
      "1    Ali     E         60\n",
      "2  Ahmed     E        -10\n",
      "3   Nida     C         70\n",
      "4            C         75\n"
     ]
    }
   ],
   "source": [
    "frame = pd.DataFrame(data2)\n",
    "print(frame)"
   ]
  },
  {
   "cell_type": "code",
   "execution_count": 167,
   "metadata": {},
   "outputs": [],
   "source": [
    "frame = frame.drop(['Age'], axis=1)"
   ]
  },
  {
   "cell_type": "code",
   "execution_count": 168,
   "metadata": {},
   "outputs": [],
   "source": [
    "frame.Name.replace([''], [\"---\"], inplace=True)"
   ]
  },
  {
   "cell_type": "code",
   "execution_count": 169,
   "metadata": {},
   "outputs": [
    {
     "name": "stdout",
     "output_type": "stream",
     "text": [
      "    Name Field  Marks\n",
      "0    ---     C    -90\n",
      "1    Ali     E     60\n",
      "2  Ahmed     E    -10\n",
      "3   Nida     C     70\n",
      "4    ---     C     75\n"
     ]
    }
   ],
   "source": [
    "print(frame)"
   ]
  },
  {
   "cell_type": "code",
   "execution_count": 170,
   "metadata": {},
   "outputs": [
    {
     "name": "stdout",
     "output_type": "stream",
     "text": [
      "    Name  Field  Marks\n",
      "0    ---      0    -90\n",
      "1    Ali      1     60\n",
      "2  Ahmed      1    -10\n",
      "3   Nida      0     70\n",
      "4    ---      0     75\n"
     ]
    }
   ],
   "source": [
    "frame.Field.replace(['C','E'], [0, 1], inplace=True)\n",
    "print(frame)"
   ]
  },
  {
   "cell_type": "code",
   "execution_count": 171,
   "metadata": {},
   "outputs": [
    {
     "name": "stdout",
     "output_type": "stream",
     "text": [
      "<class 'pandas.core.frame.DataFrame'>\n",
      "RangeIndex: 5 entries, 0 to 4\n",
      "Data columns (total 3 columns):\n",
      "Name     5 non-null object\n",
      "Field    5 non-null int64\n",
      "Marks    5 non-null int64\n",
      "dtypes: int64(2), object(1)\n",
      "memory usage: 200.0+ bytes\n"
     ]
    }
   ],
   "source": [
    "frame.info()"
   ]
  },
  {
   "cell_type": "code",
   "execution_count": 172,
   "metadata": {},
   "outputs": [
    {
     "name": "stdout",
     "output_type": "stream",
     "text": [
      "    Name  Field  Marks\n",
      "0    ---      0    NaN\n",
      "1    Ali      1   60.0\n",
      "2  Ahmed      1    NaN\n",
      "3   Nida      0   70.0\n",
      "4    ---      0   75.0\n"
     ]
    },
    {
     "name": "stderr",
     "output_type": "stream",
     "text": [
      "/home/inam/anaconda3/lib/python3.7/site-packages/ipykernel_launcher.py:3: SettingWithCopyWarning: \n",
      "A value is trying to be set on a copy of a slice from a DataFrame\n",
      "\n",
      "See the caveats in the documentation: http://pandas.pydata.org/pandas-docs/stable/indexing.html#indexing-view-versus-copy\n",
      "  This is separate from the ipykernel package so we can avoid doing imports until\n"
     ]
    }
   ],
   "source": [
    "import numpy as np\n",
    "# frame.Marks[frame.Marks.lt(0)] = np.nan\n",
    "frame['Marks'][frame['Marks'] < 0] = np.nan\n",
    "print(frame)"
   ]
  },
  {
   "cell_type": "code",
   "execution_count": 173,
   "metadata": {},
   "outputs": [],
   "source": [
    "frame['Marks'] = frame['Marks'].fillna((frame['Marks'].mean()))"
   ]
  },
  {
   "cell_type": "code",
   "execution_count": 174,
   "metadata": {},
   "outputs": [
    {
     "name": "stdout",
     "output_type": "stream",
     "text": [
      "    Name  Field      Marks\n",
      "0    ---      0  68.333333\n",
      "1    Ali      1  60.000000\n",
      "2  Ahmed      1  68.333333\n",
      "3   Nida      0  70.000000\n",
      "4    ---      0  75.000000\n"
     ]
    }
   ],
   "source": [
    "print(frame)"
   ]
  },
  {
   "cell_type": "code",
   "execution_count": null,
   "metadata": {},
   "outputs": [],
   "source": []
  }
 ],
 "metadata": {
  "kernelspec": {
   "display_name": "Python 3",
   "language": "python",
   "name": "python3"
  },
  "language_info": {
   "codemirror_mode": {
    "name": "ipython",
    "version": 3
   },
   "file_extension": ".py",
   "mimetype": "text/x-python",
   "name": "python",
   "nbconvert_exporter": "python",
   "pygments_lexer": "ipython3",
   "version": "3.7.3"
  }
 },
 "nbformat": 4,
 "nbformat_minor": 2
}
