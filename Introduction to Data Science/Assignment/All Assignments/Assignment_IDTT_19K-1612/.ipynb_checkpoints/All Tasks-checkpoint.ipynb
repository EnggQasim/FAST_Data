{
 "cells": [
  {
   "cell_type": "code",
   "execution_count": 1,
   "metadata": {},
   "outputs": [
    {
     "name": "stdout",
     "output_type": "stream",
     "text": [
      "(-20.33030277982336+0j)\n",
      "(16.33030277982336+0j)\n"
     ]
    },
    {
     "data": {
      "text/plain": [
       "84"
      ]
     },
     "execution_count": 1,
     "metadata": {},
     "output_type": "execute_result"
    }
   ],
   "source": [
    "import cmath as math\n",
    "\n",
    "def quadratic(a, b, c):\n",
    "    D = b*b - 4 * a * c\n",
    "    if D > 0:\n",
    "        calc = math.sqrt(D)\n",
    "        x= -b + calc / 2 * a\n",
    "        print(x)    \n",
    "        x= -b - calc / 2 * a\n",
    "        print(x)\n",
    "    elif D == 0:\n",
    "        x = -b / (2 * a)\n",
    "        print(x)\n",
    "    elif D < 0:\n",
    "        print(\"Only Complex roots\")\n",
    "    return D\n",
    "\n",
    "\n",
    "quadratic(-4,2,5)"
   ]
  },
  {
   "cell_type": "code",
   "execution_count": 2,
   "metadata": {},
   "outputs": [
    {
     "name": "stdout",
     "output_type": "stream",
     "text": [
      "3\n"
     ]
    }
   ],
   "source": [
    "def smaller(x, length, find):\n",
    "    count = 0\n",
    "    for i in range(length):\n",
    "        if(x[i] < find):\n",
    "            count += 1\n",
    "    return count\n",
    "        \n",
    "x = [13, 56, 21, 45, 20, 43, 12, 43, 6]\n",
    "print(smaller(x,9,20))\n",
    "    "
   ]
  },
  {
   "cell_type": "code",
   "execution_count": 3,
   "metadata": {},
   "outputs": [
    {
     "name": "stdout",
     "output_type": "stream",
     "text": [
      "[12, 24, 35, 88, 120, 155]\n"
     ]
    }
   ],
   "source": [
    "x = [12,24,35,24,88,120,155,88,120,155]\n",
    "print(sorted(set(x),key=x.index))"
   ]
  },
  {
   "cell_type": "code",
   "execution_count": 4,
   "metadata": {},
   "outputs": [
    {
     "name": "stdout",
     "output_type": "stream",
     "text": [
      "[35]\n"
     ]
    }
   ],
   "source": [
    "\n",
    "a = [1,3,6,78,35,55]\n",
    "b = [12,24,35,24,88,120,155]\n",
    "print(list(set(a) & set(b)))"
   ]
  },
  {
   "cell_type": "code",
   "execution_count": 5,
   "metadata": {},
   "outputs": [
    {
     "name": "stdout",
     "output_type": "stream",
     "text": [
      "Enter your weight in kgs 5\n",
      "Enter your height in meter 5\n",
      "0.2\n"
     ]
    }
   ],
   "source": [
    "def BMI(weight,height):\n",
    "    result = weight / (height * height)\n",
    "    return result\n",
    "    \n",
    "# Enter weight in kgs while height in meter\n",
    "weight = input('Enter your weight in kgs ')\n",
    "height = input('Enter your height in meter ')\n",
    "print(BMI(float(weight),float(height)))"
   ]
  },
  {
   "cell_type": "code",
   "execution_count": 6,
   "metadata": {},
   "outputs": [
    {
     "name": "stdout",
     "output_type": "stream",
     "text": [
      "2730000.0\n"
     ]
    }
   ],
   "source": [
    "def growth(multiplier, sales):\n",
    "    result = (sales * multiplier) * 7\n",
    "    return result\n",
    "\n",
    "print(growth(1.3,300000))"
   ]
  },
  {
   "cell_type": "code",
   "execution_count": 7,
   "metadata": {},
   "outputs": [
    {
     "name": "stdout",
     "output_type": "stream",
     "text": [
      "Enter your weight ? 50\n",
      "7.8571428571428585\n"
     ]
    }
   ],
   "source": [
    "def weight_in_stone(weight):\n",
    "    stone = 14\n",
    "    result = (weight * 2.2) / stone\n",
    "    return result\n",
    "\n",
    "weight = input('Enter your weight ? ')\n",
    "print(weight_in_stone(int(weight)))"
   ]
  },
  {
   "cell_type": "code",
   "execution_count": 8,
   "metadata": {},
   "outputs": [
    {
     "name": "stdout",
     "output_type": "stream",
     "text": [
      "Enter room name 3\n",
      "Enter area 200\n",
      "Want to add room ? Y/N n\n",
      "[[1, ['3', '200']]]\n"
     ]
    }
   ],
   "source": [
    "num = 1\n",
    "def add_room(room_list, i):\n",
    "    room = input('Enter room name ')\n",
    "    area = input('Enter area ')\n",
    "    room_list.append([i,[room,area]])\n",
    "    q = input('Want to add room ? Y/N ')\n",
    "    if q == 'Y' or q == 'y':\n",
    "        i += 1\n",
    "        add_room(room_list, i)\n",
    "        \n",
    "    return room_list\n",
    "\n",
    "\n",
    "room_list = []\n",
    "print(add_room(room_list, 1)) "
   ]
  },
  {
   "cell_type": "code",
   "execution_count": 9,
   "metadata": {},
   "outputs": [
    {
     "name": "stdout",
     "output_type": "stream",
     "text": [
      "[['Qasim', [3.4, 3.22, 2.5, 3.0, 3.22, 3.4]], ['hussain', [3.4, 3.22, 2.5, 3.0, 3.22, 3.4]], ['ali', [3.4, 3.22, 2.5, 3.0, 3.22, 3.4]]]\n"
     ]
    }
   ],
   "source": [
    "students = []\n",
    "\n",
    "student1 = ['Qasim',[3.4,3.22,2.5,3.0,3.22,3.4]]\n",
    "student2 = ['hussain',[3.4,3.22,2.5,3.0,3.22,3.4]]\n",
    "student3 = ['ali',[3.4,3.22,2.5,3.0,3.22,3.4]]\n",
    "\n",
    "students.append(student1)\n",
    "students.append(student2)\n",
    "students.append(student3)\n",
    "print(students)\n",
    "\n"
   ]
  }
 ],
 "metadata": {
  "kernelspec": {
   "display_name": "Python 3",
   "language": "python",
   "name": "python3"
  },
  "language_info": {
   "codemirror_mode": {
    "name": "ipython",
    "version": 3
   },
   "file_extension": ".py",
   "mimetype": "text/x-python",
   "name": "python",
   "nbconvert_exporter": "python",
   "pygments_lexer": "ipython3",
   "version": "3.7.1"
  }
 },
 "nbformat": 4,
 "nbformat_minor": 2
}
